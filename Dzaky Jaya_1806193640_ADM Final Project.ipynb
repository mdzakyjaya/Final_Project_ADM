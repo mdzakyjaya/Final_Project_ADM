{
  "nbformat": 4,
  "nbformat_minor": 0,
  "metadata": {
    "colab": {
      "provenance": [],
      "collapsed_sections": [
        "z9BKzEw0WXqh",
        "8Sjn52TcWcy2",
        "Hzl86TdQa20T",
        "qRHvb0sObJvc",
        "kbqwd3OYSdNR",
        "EufYc71iYCgl",
        "7SB03YsQf3WV",
        "Bns-5lLEbko0",
        "px6zcrvUm5E9",
        "x5AM-Chyw837",
        "f8dd833otz6k",
        "pxue_OYQPjDK",
        "xVE2kCn-d5dD",
        "9k4OCNV5h8mN",
        "m2GdH4TDJ9DF",
        "tjqIoLIxyMK4",
        "NbYbTazVhRbG",
        "7qGI6mkLhkci",
        "ONRR1n17itWz",
        "4JH7wtaHjIoL",
        "bc72RfLVkpV7",
        "SSBjEKsmk2vQ",
        "Y91V0WbHllqF"
      ],
      "toc_visible": true
    },
    "kernelspec": {
      "name": "python3",
      "display_name": "Python 3"
    },
    "language_info": {
      "name": "python"
    },
    "gpuClass": "standard"
  },
  "cells": [
    {
      "cell_type": "markdown",
      "source": [
        "#Pendahuluan\n",
        "**Nama: Muhammad Dzaky Jayalaksono**\\\n",
        "**NPM: 1806193640**\\\n",
        "**Presentasi**: [Video Presentasi](https://drive.google.com/file/d/1sTPh_ocrLG3vNu9alM-oANcW557uErFd/view?usp=sharing)\n",
        "\n",
        "Pemilu serentak yang akan dilaksanakan tahun 2024 mendatang sudah ramai menjadi bahan perbincangan di media sosial salah satunya twitter, projek ini akan melakukan analisis data pengguna media sosial Twitter mengenai topik Pilpres 2024.\n",
        "\n",
        "Data diambil dari Twitter dengan berbagai subtopik mengenai Pilpres 2024\n",
        "\n",
        "*note: segala pernyataan dan hasil projek ini murni hanya berdasarkan data, tidak ada keterlibatan emosi atau sikap politik apapun*"
      ],
      "metadata": {
        "id": "ICCgpeklEqPl"
      }
    },
    {
      "cell_type": "markdown",
      "source": [
        "# Pengambilan Data dari Twitter\n",
        "untuk memudahkan *rerun* notebook dan memastikan konsistensi data dengan hasil, seluruh data yang diambil dari twitter akan disimpan di github agar data tweet yang digunakan selalu sama kapanpun code dijalankan, juga untuk memangkas waktu pengambilan data.\\\n",
        "\\\n",
        "keywords yang digunakan untuk mencari data tweet tentang pilpres 2024:\n",
        "* pemilu 2024\n",
        "* pilpres 2024\n",
        "* jokowi 3 periode\n",
        "* anies presiden\n",
        "* ganjar presiden\n",
        "* prabowo presiden\n",
        "* #pemiluserentak2024\n",
        "* presiden 2024\n",
        "\n",
        "Pemilihan keyword nama tokoh seperti Anies, Ganjar, Prabowo, dan Jokowi dikarenakan nama2 tersebut merupakan nama2 yang selalu muncul teratas dalam polling-polling tentang Presiden 2024 di media sosial. Sementara keyword \"jokowi 3 periode\" dipilih juga karena merupakan topik yang banyak dibahas menjelang Pilpres 2024."
      ],
      "metadata": {
        "id": "z9BKzEw0WXqh"
      }
    },
    {
      "cell_type": "markdown",
      "source": [
        "<details>\n",
        "    <summary><font size=4><b>Kode yang digunakan untuk mengambil data dari twitter</b></font></summary>\n",
        "\n",
        "install module\n",
        "```\n",
        "!pip install --upgrade git+https://github.com/kevctae/twint.git\n",
        "!pip install nest_asyncio\n",
        "```\n",
        "\n",
        "import module & konfigurasi twint\n",
        "```\n",
        "import twint\n",
        "import nest_asyncio\n",
        "import pandas as pd\n",
        "\n",
        "nest_asyncio.apply()\n",
        "config = twint.Config()\n",
        "config.Hide_output = True\n",
        "config.Pandas = True\n",
        "config.Retweets = True\n",
        "config.Profile_full = True\n",
        "```\n",
        "ambil data sesuai keywords\n",
        "```\n",
        "config.Search = \"pemilu 2024\"\n",
        "config.Limit = 10000\n",
        "twint.run.Search(config)\n",
        "\n",
        "df1 = twint.storage.panda.Tweets_df\n",
        "df1.shape\n",
        "```\n",
        "didapatkan 714 records\n",
        "```\n",
        "config.Search = \"pilpres 2024\"\n",
        "config.Limit = 10000\n",
        "twint.run.Search(config)\n",
        "\n",
        "df2 = twint.storage.panda.Tweets_df\n",
        "df2.shape\n",
        "```\n",
        "didapatkan 3179 records\n",
        "```\n",
        "config.Search = \"jokowi 3 periode\"\n",
        "config.Limit = 10000\n",
        "twint.run.Search(config)\n",
        "\n",
        "df3 = twint.storage.panda.Tweets_df\n",
        "df3.shape\n",
        "```\n",
        "didapatkan 10007 records\n",
        "```\n",
        "config.Search = \"anies presiden\"\n",
        "config.Limit = 10000\n",
        "twint.run.Search(config)\n",
        "\n",
        "df4 = twint.storage.panda.Tweets_df\n",
        "df4.shape\n",
        "```\n",
        "didapatkan 9480 records\n",
        "```\n",
        "config.Search = \"#pemiluserentak2024\"\n",
        "config.Limit = 10000\n",
        "twint.run.Search(config)\n",
        "\n",
        "df5 = twint.storage.panda.Tweets_df\n",
        "df5.shape\n",
        "```\n",
        "didapatkan 10018 records\n",
        "```\n",
        "config.Search = \"ganjar presiden\"\n",
        "config.Limit = 10000\n",
        "twint.run.Search(config)\n",
        "\n",
        "df6 = twint.storage.panda.Tweets_df\n",
        "df6.shape\n",
        "```\n",
        "didapatkan 978 records\n",
        "```\n",
        "config.Search = \"prabowo presiden\"\n",
        "config.Limit = 10000\n",
        "twint.run.Search(config)\n",
        "\n",
        "df7 = twint.storage.panda.Tweets_df\n",
        "df7.shape\n",
        "```\n",
        "didapatkan 168 records\n",
        "```\n",
        "config.Search = \"presiden 2024\"\n",
        "config.Limit = 10000\n",
        "twint.run.Search(config)\n",
        "\n",
        "df8 = twint.storage.panda.Tweets_df\n",
        "df8.shape\n",
        "```\n",
        "didapatkan 519 records\\\n",
        "simpan ke lokal untuk memudahkan penggunaan ulang\n",
        "```\n",
        "df1.to_csv(\"./df1.csv\")\n",
        "df2.to_csv(\"./df2.csv\")\n",
        "df3.to_csv(\"./df3.csv\")\n",
        "df4.to_csv(\"./df4.csv\")\n",
        "df5.to_csv(\"./df5.csv\")\n",
        "df6.to_csv(\"./df6.csv\")\n",
        "df7.to_csv(\"./df7.csv\")\n",
        "df8.to_csv(\"./df8.csv\")\n",
        "\n",
        "# satukan seluruh data\n",
        "df = pd.concat([df1, df2, df3, df4, df5, df6, df7, df8], ignore_index=True)\n",
        "df.to_csv(\"./df.csv\")\n",
        "```"
      ],
      "metadata": {
        "id": "E7e21bCiIS0a"
      }
    },
    {
      "cell_type": "markdown",
      "source": [
        "# Impor Data"
      ],
      "metadata": {
        "id": "8Sjn52TcWcy2"
      }
    },
    {
      "cell_type": "code",
      "source": [
        "!pip install pandas --upgrade"
      ],
      "metadata": {
        "colab": {
          "base_uri": "https://localhost:8080/"
        },
        "id": "IoJCKqLLXC0X",
        "outputId": "8c29f96d-d60f-43fd-e122-e051ec23b218"
      },
      "execution_count": null,
      "outputs": [
        {
          "output_type": "stream",
          "name": "stdout",
          "text": [
            "Looking in indexes: https://pypi.org/simple, https://us-python.pkg.dev/colab-wheels/public/simple/\n",
            "Requirement already satisfied: pandas in /usr/local/lib/python3.8/dist-packages (1.3.5)\n",
            "Collecting pandas\n",
            "  Downloading pandas-1.5.2-cp38-cp38-manylinux_2_17_x86_64.manylinux2014_x86_64.whl (12.2 MB)\n",
            "\u001b[K     |████████████████████████████████| 12.2 MB 7.1 MB/s \n",
            "\u001b[?25hRequirement already satisfied: pytz>=2020.1 in /usr/local/lib/python3.8/dist-packages (from pandas) (2022.6)\n",
            "Requirement already satisfied: python-dateutil>=2.8.1 in /usr/local/lib/python3.8/dist-packages (from pandas) (2.8.2)\n",
            "Requirement already satisfied: numpy>=1.20.3 in /usr/local/lib/python3.8/dist-packages (from pandas) (1.21.6)\n",
            "Requirement already satisfied: six>=1.5 in /usr/local/lib/python3.8/dist-packages (from python-dateutil>=2.8.1->pandas) (1.15.0)\n",
            "Installing collected packages: pandas\n",
            "  Attempting uninstall: pandas\n",
            "    Found existing installation: pandas 1.3.5\n",
            "    Uninstalling pandas-1.3.5:\n",
            "      Successfully uninstalled pandas-1.3.5\n",
            "Successfully installed pandas-1.5.2\n"
          ]
        }
      ]
    },
    {
      "cell_type": "code",
      "source": [
        "import pandas as pd\n",
        "\n",
        "link = \"https://raw.githubusercontent.com/mdzakyjaya/Final_Project_ADM/main/df.csv\"\n",
        "df = pd.read_csv(link)\n",
        "df.shape"
      ],
      "metadata": {
        "colab": {
          "base_uri": "https://localhost:8080/"
        },
        "id": "ZGEQKq_ptheX",
        "outputId": "02a7fcf8-78f1-495e-a218-dab1711eeea8"
      },
      "execution_count": null,
      "outputs": [
        {
          "output_type": "stream",
          "name": "stderr",
          "text": [
            "<ipython-input-2-4b30a50b6d5c>:4: DtypeWarning: Columns (0,1,2,3,11,12,15,20) have mixed types. Specify dtype option on import or set low_memory=False.\n",
            "  df = pd.read_csv(link)\n"
          ]
        },
        {
          "output_type": "execute_result",
          "data": {
            "text/plain": [
              "(39364, 39)"
            ]
          },
          "metadata": {},
          "execution_count": 2
        }
      ]
    },
    {
      "cell_type": "markdown",
      "source": [
        "terdapat 39364 data"
      ],
      "metadata": {
        "id": "-58lx7uJNaBw"
      }
    },
    {
      "cell_type": "markdown",
      "source": [
        "# Eksplorasi Awal dan Pembersihan"
      ],
      "metadata": {
        "id": "Hzl86TdQa20T"
      }
    },
    {
      "cell_type": "markdown",
      "source": [
        "## Melihat null values"
      ],
      "metadata": {
        "id": "qRHvb0sObJvc"
      }
    },
    {
      "cell_type": "code",
      "source": [
        "df.isna().sum()"
      ],
      "metadata": {
        "colab": {
          "base_uri": "https://localhost:8080/"
        },
        "id": "cZYSuM4xRit0",
        "outputId": "31c1c5d5-eb81-4d1f-c211-fd9928958478"
      },
      "execution_count": null,
      "outputs": [
        {
          "output_type": "execute_result",
          "data": {
            "text/plain": [
              "Unnamed: 0             0\n",
              "id                     1\n",
              "conversation_id        1\n",
              "created_at             1\n",
              "date                   1\n",
              "timezone               1\n",
              "place              39295\n",
              "tweet                  1\n",
              "language            4301\n",
              "hashtags            4301\n",
              "cashtags            4301\n",
              "user_id             4301\n",
              "user_id_str         4301\n",
              "username            4301\n",
              "name                4305\n",
              "day                 4301\n",
              "hour                4301\n",
              "link                4301\n",
              "urls                4301\n",
              "photos              4304\n",
              "video               4301\n",
              "thumbnail          27324\n",
              "retweet             4304\n",
              "nlikes              4304\n",
              "nreplies            4304\n",
              "nretweets           4304\n",
              "quote_url          37317\n",
              "search              4301\n",
              "near               39364\n",
              "geo                39364\n",
              "source             39364\n",
              "user_rt_id         39364\n",
              "user_rt            39364\n",
              "retweet_id         39364\n",
              "reply_to            4304\n",
              "retweet_date       39364\n",
              "translate          39364\n",
              "trans_src          39364\n",
              "trans_dest         39364\n",
              "dtype: int64"
            ]
          },
          "metadata": {},
          "execution_count": 3
        }
      ]
    },
    {
      "cell_type": "markdown",
      "source": [
        "akan ditentukan bahwa variabel yg memiliki null values >= 5000 untuk didrop"
      ],
      "metadata": {
        "id": "fnbOmMBMRkxR"
      }
    },
    {
      "cell_type": "code",
      "source": [
        "for col in df.columns.values:\n",
        "    if df[col].isna().sum()>=5000:\n",
        "        df.drop([col], axis=1, inplace=True)\n",
        "df.info()"
      ],
      "metadata": {
        "colab": {
          "base_uri": "https://localhost:8080/"
        },
        "id": "cntWJKbFSDed",
        "outputId": "50de21bf-4d05-4c68-82f0-e817fcbf2508"
      },
      "execution_count": null,
      "outputs": [
        {
          "output_type": "stream",
          "name": "stdout",
          "text": [
            "<class 'pandas.core.frame.DataFrame'>\n",
            "RangeIndex: 39364 entries, 0 to 39363\n",
            "Data columns (total 26 columns):\n",
            " #   Column           Non-Null Count  Dtype  \n",
            "---  ------           --------------  -----  \n",
            " 0   Unnamed: 0       39364 non-null  object \n",
            " 1   id               39363 non-null  object \n",
            " 2   conversation_id  39363 non-null  object \n",
            " 3   created_at       39363 non-null  object \n",
            " 4   date             39363 non-null  object \n",
            " 5   timezone         39363 non-null  float64\n",
            " 6   tweet            39363 non-null  object \n",
            " 7   language         35063 non-null  object \n",
            " 8   hashtags         35063 non-null  object \n",
            " 9   cashtags         35063 non-null  object \n",
            " 10  user_id          35063 non-null  object \n",
            " 11  user_id_str      35063 non-null  object \n",
            " 12  username         35063 non-null  object \n",
            " 13  name             35059 non-null  object \n",
            " 14  day              35063 non-null  object \n",
            " 15  hour             35063 non-null  float64\n",
            " 16  link             35063 non-null  object \n",
            " 17  urls             35063 non-null  object \n",
            " 18  photos           35060 non-null  object \n",
            " 19  video            35063 non-null  object \n",
            " 20  retweet          35060 non-null  object \n",
            " 21  nlikes           35060 non-null  float64\n",
            " 22  nreplies         35060 non-null  float64\n",
            " 23  nretweets        35060 non-null  float64\n",
            " 24  search           35063 non-null  object \n",
            " 25  reply_to         35060 non-null  object \n",
            "dtypes: float64(5), object(21)\n",
            "memory usage: 7.8+ MB\n"
          ]
        }
      ]
    },
    {
      "cell_type": "markdown",
      "source": [
        "## Pemilihan Variabel\n",
        "akan pilih variabel yang relevan untuk digunakan yaitu:\\\n",
        "`id`, `conversation_id`, `date`, `tweet`, `user_id`, `username`, `name`, `day`, `hour`, `nlikes`, `nreplies`, `nretweets`"
      ],
      "metadata": {
        "id": "kbqwd3OYSdNR"
      }
    },
    {
      "cell_type": "code",
      "source": [
        "var = [\"id\",\"conversation_id\",\"date\",\"tweet\",\"user_id\",\"username\",\"name\",\"day\",\"hour\",\"nlikes\",\"nreplies\",\"nretweets\",]\n",
        "df = df[var]\n",
        "df.head()"
      ],
      "metadata": {
        "colab": {
          "base_uri": "https://localhost:8080/"
        },
        "id": "-JrAXw3pTVcj",
        "outputId": "bc984a9c-d111-42bd-82de-b328f75fe597"
      },
      "execution_count": null,
      "outputs": [
        {
          "output_type": "execute_result",
          "data": {
            "text/plain": [
              "                    id      conversation_id                 date  \\\n",
              "0  1608040539575980033  1608040539575980033  2022-12-28 10:01:55   \n",
              "1  1608040377185112066  1608040377185112066  2022-12-28 10:01:16   \n",
              "2  1608040217507958786  1608040217507958786  2022-12-28 10:00:38   \n",
              "3  1608040192522190848  1608040192522190848  2022-12-28 10:00:32   \n",
              "4  1608040066047148032  1608040066047148032  2022-12-28 10:00:02   \n",
              "\n",
              "                                               tweet              user_id  \\\n",
              "0  #TemanPemilih, berikut rekapitulasi jumlah pen...   721891886445633536   \n",
              "1  Coming Soon Rekrutmen 307 Pengawas Kelurahan/D...  1179609425222332416   \n",
              "2  Pangkalpinang,  https://t.co/neLAOYgfGe - #Sep...  1371298521190572033   \n",
              "3  Menteri BUMN Erick Thohir disebut-sebut sebaga...           2388795571   \n",
              "4  Pada Pemilu 2019, Generasi Milenial menjadi pe...            255866913   \n",
              "\n",
              "          username                  name day  hour  nlikes  nreplies  \\\n",
              "0    kpukotablitar      @KPU KOTA BLITAR   3  10.0     0.0       0.0   \n",
              "1  BawasluPonorogo      BAWASLU PONOROGO   3  10.0     0.0       0.0   \n",
              "2         KPUBabel  KPU PROV. KEP. BABEL   3  10.0     0.0       0.0   \n",
              "3       mojokdotco              Mojok.co   3  10.0     0.0       0.0   \n",
              "4     hariankompas         Harian Kompas   3  10.0     0.0       0.0   \n",
              "\n",
              "   nretweets  \n",
              "0        0.0  \n",
              "1        0.0  \n",
              "2        0.0  \n",
              "3        0.0  \n",
              "4        0.0  "
            ],
            "text/html": [
              "\n",
              "  <div id=\"df-a23bbffa-b323-4ace-8348-d712f8b0d48a\">\n",
              "    <div class=\"colab-df-container\">\n",
              "      <div>\n",
              "<style scoped>\n",
              "    .dataframe tbody tr th:only-of-type {\n",
              "        vertical-align: middle;\n",
              "    }\n",
              "\n",
              "    .dataframe tbody tr th {\n",
              "        vertical-align: top;\n",
              "    }\n",
              "\n",
              "    .dataframe thead th {\n",
              "        text-align: right;\n",
              "    }\n",
              "</style>\n",
              "<table border=\"1\" class=\"dataframe\">\n",
              "  <thead>\n",
              "    <tr style=\"text-align: right;\">\n",
              "      <th></th>\n",
              "      <th>id</th>\n",
              "      <th>conversation_id</th>\n",
              "      <th>date</th>\n",
              "      <th>tweet</th>\n",
              "      <th>user_id</th>\n",
              "      <th>username</th>\n",
              "      <th>name</th>\n",
              "      <th>day</th>\n",
              "      <th>hour</th>\n",
              "      <th>nlikes</th>\n",
              "      <th>nreplies</th>\n",
              "      <th>nretweets</th>\n",
              "    </tr>\n",
              "  </thead>\n",
              "  <tbody>\n",
              "    <tr>\n",
              "      <th>0</th>\n",
              "      <td>1608040539575980033</td>\n",
              "      <td>1608040539575980033</td>\n",
              "      <td>2022-12-28 10:01:55</td>\n",
              "      <td>#TemanPemilih, berikut rekapitulasi jumlah pen...</td>\n",
              "      <td>721891886445633536</td>\n",
              "      <td>kpukotablitar</td>\n",
              "      <td>@KPU KOTA BLITAR</td>\n",
              "      <td>3</td>\n",
              "      <td>10.0</td>\n",
              "      <td>0.0</td>\n",
              "      <td>0.0</td>\n",
              "      <td>0.0</td>\n",
              "    </tr>\n",
              "    <tr>\n",
              "      <th>1</th>\n",
              "      <td>1608040377185112066</td>\n",
              "      <td>1608040377185112066</td>\n",
              "      <td>2022-12-28 10:01:16</td>\n",
              "      <td>Coming Soon Rekrutmen 307 Pengawas Kelurahan/D...</td>\n",
              "      <td>1179609425222332416</td>\n",
              "      <td>BawasluPonorogo</td>\n",
              "      <td>BAWASLU PONOROGO</td>\n",
              "      <td>3</td>\n",
              "      <td>10.0</td>\n",
              "      <td>0.0</td>\n",
              "      <td>0.0</td>\n",
              "      <td>0.0</td>\n",
              "    </tr>\n",
              "    <tr>\n",
              "      <th>2</th>\n",
              "      <td>1608040217507958786</td>\n",
              "      <td>1608040217507958786</td>\n",
              "      <td>2022-12-28 10:00:38</td>\n",
              "      <td>Pangkalpinang,  https://t.co/neLAOYgfGe - #Sep...</td>\n",
              "      <td>1371298521190572033</td>\n",
              "      <td>KPUBabel</td>\n",
              "      <td>KPU PROV. KEP. BABEL</td>\n",
              "      <td>3</td>\n",
              "      <td>10.0</td>\n",
              "      <td>0.0</td>\n",
              "      <td>0.0</td>\n",
              "      <td>0.0</td>\n",
              "    </tr>\n",
              "    <tr>\n",
              "      <th>3</th>\n",
              "      <td>1608040192522190848</td>\n",
              "      <td>1608040192522190848</td>\n",
              "      <td>2022-12-28 10:00:32</td>\n",
              "      <td>Menteri BUMN Erick Thohir disebut-sebut sebaga...</td>\n",
              "      <td>2388795571</td>\n",
              "      <td>mojokdotco</td>\n",
              "      <td>Mojok.co</td>\n",
              "      <td>3</td>\n",
              "      <td>10.0</td>\n",
              "      <td>0.0</td>\n",
              "      <td>0.0</td>\n",
              "      <td>0.0</td>\n",
              "    </tr>\n",
              "    <tr>\n",
              "      <th>4</th>\n",
              "      <td>1608040066047148032</td>\n",
              "      <td>1608040066047148032</td>\n",
              "      <td>2022-12-28 10:00:02</td>\n",
              "      <td>Pada Pemilu 2019, Generasi Milenial menjadi pe...</td>\n",
              "      <td>255866913</td>\n",
              "      <td>hariankompas</td>\n",
              "      <td>Harian Kompas</td>\n",
              "      <td>3</td>\n",
              "      <td>10.0</td>\n",
              "      <td>0.0</td>\n",
              "      <td>0.0</td>\n",
              "      <td>0.0</td>\n",
              "    </tr>\n",
              "  </tbody>\n",
              "</table>\n",
              "</div>\n",
              "      <button class=\"colab-df-convert\" onclick=\"convertToInteractive('df-a23bbffa-b323-4ace-8348-d712f8b0d48a')\"\n",
              "              title=\"Convert this dataframe to an interactive table.\"\n",
              "              style=\"display:none;\">\n",
              "        \n",
              "  <svg xmlns=\"http://www.w3.org/2000/svg\" height=\"24px\"viewBox=\"0 0 24 24\"\n",
              "       width=\"24px\">\n",
              "    <path d=\"M0 0h24v24H0V0z\" fill=\"none\"/>\n",
              "    <path d=\"M18.56 5.44l.94 2.06.94-2.06 2.06-.94-2.06-.94-.94-2.06-.94 2.06-2.06.94zm-11 1L8.5 8.5l.94-2.06 2.06-.94-2.06-.94L8.5 2.5l-.94 2.06-2.06.94zm10 10l.94 2.06.94-2.06 2.06-.94-2.06-.94-.94-2.06-.94 2.06-2.06.94z\"/><path d=\"M17.41 7.96l-1.37-1.37c-.4-.4-.92-.59-1.43-.59-.52 0-1.04.2-1.43.59L10.3 9.45l-7.72 7.72c-.78.78-.78 2.05 0 2.83L4 21.41c.39.39.9.59 1.41.59.51 0 1.02-.2 1.41-.59l7.78-7.78 2.81-2.81c.8-.78.8-2.07 0-2.86zM5.41 20L4 18.59l7.72-7.72 1.47 1.35L5.41 20z\"/>\n",
              "  </svg>\n",
              "      </button>\n",
              "      \n",
              "  <style>\n",
              "    .colab-df-container {\n",
              "      display:flex;\n",
              "      flex-wrap:wrap;\n",
              "      gap: 12px;\n",
              "    }\n",
              "\n",
              "    .colab-df-convert {\n",
              "      background-color: #E8F0FE;\n",
              "      border: none;\n",
              "      border-radius: 50%;\n",
              "      cursor: pointer;\n",
              "      display: none;\n",
              "      fill: #1967D2;\n",
              "      height: 32px;\n",
              "      padding: 0 0 0 0;\n",
              "      width: 32px;\n",
              "    }\n",
              "\n",
              "    .colab-df-convert:hover {\n",
              "      background-color: #E2EBFA;\n",
              "      box-shadow: 0px 1px 2px rgba(60, 64, 67, 0.3), 0px 1px 3px 1px rgba(60, 64, 67, 0.15);\n",
              "      fill: #174EA6;\n",
              "    }\n",
              "\n",
              "    [theme=dark] .colab-df-convert {\n",
              "      background-color: #3B4455;\n",
              "      fill: #D2E3FC;\n",
              "    }\n",
              "\n",
              "    [theme=dark] .colab-df-convert:hover {\n",
              "      background-color: #434B5C;\n",
              "      box-shadow: 0px 1px 3px 1px rgba(0, 0, 0, 0.15);\n",
              "      filter: drop-shadow(0px 1px 2px rgba(0, 0, 0, 0.3));\n",
              "      fill: #FFFFFF;\n",
              "    }\n",
              "  </style>\n",
              "\n",
              "      <script>\n",
              "        const buttonEl =\n",
              "          document.querySelector('#df-a23bbffa-b323-4ace-8348-d712f8b0d48a button.colab-df-convert');\n",
              "        buttonEl.style.display =\n",
              "          google.colab.kernel.accessAllowed ? 'block' : 'none';\n",
              "\n",
              "        async function convertToInteractive(key) {\n",
              "          const element = document.querySelector('#df-a23bbffa-b323-4ace-8348-d712f8b0d48a');\n",
              "          const dataTable =\n",
              "            await google.colab.kernel.invokeFunction('convertToInteractive',\n",
              "                                                     [key], {});\n",
              "          if (!dataTable) return;\n",
              "\n",
              "          const docLinkHtml = 'Like what you see? Visit the ' +\n",
              "            '<a target=\"_blank\" href=https://colab.research.google.com/notebooks/data_table.ipynb>data table notebook</a>'\n",
              "            + ' to learn more about interactive tables.';\n",
              "          element.innerHTML = '';\n",
              "          dataTable['output_type'] = 'display_data';\n",
              "          await google.colab.output.renderOutput(dataTable, element);\n",
              "          const docLink = document.createElement('div');\n",
              "          docLink.innerHTML = docLinkHtml;\n",
              "          element.appendChild(docLink);\n",
              "        }\n",
              "      </script>\n",
              "    </div>\n",
              "  </div>\n",
              "  "
            ]
          },
          "metadata": {},
          "execution_count": 5
        }
      ]
    },
    {
      "cell_type": "markdown",
      "source": [
        "## Data duplikat\n",
        "karena data yang diambil dengan beberapa keywords yang serupa, dikhawatirkan ada data yang terduplikat\\\n",
        "maka selanjutnya adalah menghapus duplikat dengan observasi seluruh kolom"
      ],
      "metadata": {
        "id": "EufYc71iYCgl"
      }
    },
    {
      "cell_type": "code",
      "source": [
        "print(\"banyaknya baris duplikat adalah {} baris\".format(df.duplicated().sum()))\n",
        "df.drop_duplicates(ignore_index=True, inplace=True)"
      ],
      "metadata": {
        "colab": {
          "base_uri": "https://localhost:8080/"
        },
        "id": "odDHVV0ZYant",
        "outputId": "d974d553-f465-48e9-f7eb-7640cb9eca07"
      },
      "execution_count": null,
      "outputs": [
        {
          "output_type": "stream",
          "name": "stdout",
          "text": [
            "banyaknya baris duplikat adalah 8848 baris\n"
          ]
        }
      ]
    },
    {
      "cell_type": "code",
      "source": [
        "# periksa baris duplikat setelah dibersihkan\n",
        "df.duplicated().sum()"
      ],
      "metadata": {
        "colab": {
          "base_uri": "https://localhost:8080/"
        },
        "id": "qpIFlxKhZ3-0",
        "outputId": "f29acfeb-ec64-4600-9e4a-16ecd06367d0"
      },
      "execution_count": null,
      "outputs": [
        {
          "output_type": "execute_result",
          "data": {
            "text/plain": [
              "0"
            ]
          },
          "metadata": {},
          "execution_count": 7
        }
      ]
    },
    {
      "cell_type": "markdown",
      "source": [
        "## Menangani null values pada kolom2 tertentu\n",
        "setelah menghapus duplikat dan memilih variabel yang relevan, selanjutnya menangani null values pada variabel2 yang ada"
      ],
      "metadata": {
        "id": "7SB03YsQf3WV"
      }
    },
    {
      "cell_type": "code",
      "source": [
        "print(df.isna().sum())\n",
        "print(df.shape)"
      ],
      "metadata": {
        "colab": {
          "base_uri": "https://localhost:8080/"
        },
        "id": "yxGf64oYf97s",
        "outputId": "107326b1-4678-4e62-b6cb-514145381cdf"
      },
      "execution_count": null,
      "outputs": [
        {
          "output_type": "stream",
          "name": "stdout",
          "text": [
            "id                 1\n",
            "conversation_id    1\n",
            "date               1\n",
            "tweet              1\n",
            "user_id            4\n",
            "username           4\n",
            "name               8\n",
            "day                4\n",
            "hour               4\n",
            "nlikes             7\n",
            "nreplies           7\n",
            "nretweets          7\n",
            "dtype: int64\n",
            "(30516, 12)\n"
          ]
        }
      ]
    },
    {
      "cell_type": "markdown",
      "source": [
        "karena null values pada setiap variabel banyaknya tidak lebih dari 0.05 persen total data (30516 records), maka setiap baris yang terdapat null values akan didrop"
      ],
      "metadata": {
        "id": "NFAubETYg_4a"
      }
    },
    {
      "cell_type": "code",
      "source": [
        "df.dropna(axis=0, how=\"any\", inplace=True)\n",
        "df.isna().sum()"
      ],
      "metadata": {
        "colab": {
          "base_uri": "https://localhost:8080/"
        },
        "id": "IBhLSh9UhYWn",
        "outputId": "252ff0df-2761-4a45-9173-c87f8f009a46"
      },
      "execution_count": null,
      "outputs": [
        {
          "output_type": "execute_result",
          "data": {
            "text/plain": [
              "id                 0\n",
              "conversation_id    0\n",
              "date               0\n",
              "tweet              0\n",
              "user_id            0\n",
              "username           0\n",
              "name               0\n",
              "day                0\n",
              "hour               0\n",
              "nlikes             0\n",
              "nreplies           0\n",
              "nretweets          0\n",
              "dtype: int64"
            ]
          },
          "metadata": {},
          "execution_count": 9
        }
      ]
    },
    {
      "cell_type": "markdown",
      "source": [
        "## Memformat tipe data setiap variabel agar sesuai\n",
        "variabel yang diubah ke integer:\\\n",
        "`nlikes` `nreplies` `nretweets`\\\n",
        "\\\n",
        "variabel yang diubah ke datetime:\\\n",
        "`date`\\\n",
        "\\\n",
        "sisanya string"
      ],
      "metadata": {
        "id": "Bns-5lLEbko0"
      }
    },
    {
      "cell_type": "code",
      "source": [
        "df.head()"
      ],
      "metadata": {
        "colab": {
          "base_uri": "https://localhost:8080/"
        },
        "id": "oKH8yBFuaOof",
        "outputId": "6c69e4a6-bc8e-40ae-d8cb-6eb870a3e535"
      },
      "execution_count": null,
      "outputs": [
        {
          "output_type": "execute_result",
          "data": {
            "text/plain": [
              "                    id      conversation_id                 date  \\\n",
              "0  1608040539575980033  1608040539575980033  2022-12-28 10:01:55   \n",
              "1  1608040377185112066  1608040377185112066  2022-12-28 10:01:16   \n",
              "2  1608040217507958786  1608040217507958786  2022-12-28 10:00:38   \n",
              "3  1608040192522190848  1608040192522190848  2022-12-28 10:00:32   \n",
              "4  1608040066047148032  1608040066047148032  2022-12-28 10:00:02   \n",
              "\n",
              "                                               tweet              user_id  \\\n",
              "0  #TemanPemilih, berikut rekapitulasi jumlah pen...   721891886445633536   \n",
              "1  Coming Soon Rekrutmen 307 Pengawas Kelurahan/D...  1179609425222332416   \n",
              "2  Pangkalpinang,  https://t.co/neLAOYgfGe - #Sep...  1371298521190572033   \n",
              "3  Menteri BUMN Erick Thohir disebut-sebut sebaga...           2388795571   \n",
              "4  Pada Pemilu 2019, Generasi Milenial menjadi pe...            255866913   \n",
              "\n",
              "          username                  name day  hour  nlikes  nreplies  \\\n",
              "0    kpukotablitar      @KPU KOTA BLITAR   3  10.0     0.0       0.0   \n",
              "1  BawasluPonorogo      BAWASLU PONOROGO   3  10.0     0.0       0.0   \n",
              "2         KPUBabel  KPU PROV. KEP. BABEL   3  10.0     0.0       0.0   \n",
              "3       mojokdotco              Mojok.co   3  10.0     0.0       0.0   \n",
              "4     hariankompas         Harian Kompas   3  10.0     0.0       0.0   \n",
              "\n",
              "   nretweets  \n",
              "0        0.0  \n",
              "1        0.0  \n",
              "2        0.0  \n",
              "3        0.0  \n",
              "4        0.0  "
            ],
            "text/html": [
              "\n",
              "  <div id=\"df-fd1c4efd-44aa-401c-8ea3-6aed50ae62ef\">\n",
              "    <div class=\"colab-df-container\">\n",
              "      <div>\n",
              "<style scoped>\n",
              "    .dataframe tbody tr th:only-of-type {\n",
              "        vertical-align: middle;\n",
              "    }\n",
              "\n",
              "    .dataframe tbody tr th {\n",
              "        vertical-align: top;\n",
              "    }\n",
              "\n",
              "    .dataframe thead th {\n",
              "        text-align: right;\n",
              "    }\n",
              "</style>\n",
              "<table border=\"1\" class=\"dataframe\">\n",
              "  <thead>\n",
              "    <tr style=\"text-align: right;\">\n",
              "      <th></th>\n",
              "      <th>id</th>\n",
              "      <th>conversation_id</th>\n",
              "      <th>date</th>\n",
              "      <th>tweet</th>\n",
              "      <th>user_id</th>\n",
              "      <th>username</th>\n",
              "      <th>name</th>\n",
              "      <th>day</th>\n",
              "      <th>hour</th>\n",
              "      <th>nlikes</th>\n",
              "      <th>nreplies</th>\n",
              "      <th>nretweets</th>\n",
              "    </tr>\n",
              "  </thead>\n",
              "  <tbody>\n",
              "    <tr>\n",
              "      <th>0</th>\n",
              "      <td>1608040539575980033</td>\n",
              "      <td>1608040539575980033</td>\n",
              "      <td>2022-12-28 10:01:55</td>\n",
              "      <td>#TemanPemilih, berikut rekapitulasi jumlah pen...</td>\n",
              "      <td>721891886445633536</td>\n",
              "      <td>kpukotablitar</td>\n",
              "      <td>@KPU KOTA BLITAR</td>\n",
              "      <td>3</td>\n",
              "      <td>10.0</td>\n",
              "      <td>0.0</td>\n",
              "      <td>0.0</td>\n",
              "      <td>0.0</td>\n",
              "    </tr>\n",
              "    <tr>\n",
              "      <th>1</th>\n",
              "      <td>1608040377185112066</td>\n",
              "      <td>1608040377185112066</td>\n",
              "      <td>2022-12-28 10:01:16</td>\n",
              "      <td>Coming Soon Rekrutmen 307 Pengawas Kelurahan/D...</td>\n",
              "      <td>1179609425222332416</td>\n",
              "      <td>BawasluPonorogo</td>\n",
              "      <td>BAWASLU PONOROGO</td>\n",
              "      <td>3</td>\n",
              "      <td>10.0</td>\n",
              "      <td>0.0</td>\n",
              "      <td>0.0</td>\n",
              "      <td>0.0</td>\n",
              "    </tr>\n",
              "    <tr>\n",
              "      <th>2</th>\n",
              "      <td>1608040217507958786</td>\n",
              "      <td>1608040217507958786</td>\n",
              "      <td>2022-12-28 10:00:38</td>\n",
              "      <td>Pangkalpinang,  https://t.co/neLAOYgfGe - #Sep...</td>\n",
              "      <td>1371298521190572033</td>\n",
              "      <td>KPUBabel</td>\n",
              "      <td>KPU PROV. KEP. BABEL</td>\n",
              "      <td>3</td>\n",
              "      <td>10.0</td>\n",
              "      <td>0.0</td>\n",
              "      <td>0.0</td>\n",
              "      <td>0.0</td>\n",
              "    </tr>\n",
              "    <tr>\n",
              "      <th>3</th>\n",
              "      <td>1608040192522190848</td>\n",
              "      <td>1608040192522190848</td>\n",
              "      <td>2022-12-28 10:00:32</td>\n",
              "      <td>Menteri BUMN Erick Thohir disebut-sebut sebaga...</td>\n",
              "      <td>2388795571</td>\n",
              "      <td>mojokdotco</td>\n",
              "      <td>Mojok.co</td>\n",
              "      <td>3</td>\n",
              "      <td>10.0</td>\n",
              "      <td>0.0</td>\n",
              "      <td>0.0</td>\n",
              "      <td>0.0</td>\n",
              "    </tr>\n",
              "    <tr>\n",
              "      <th>4</th>\n",
              "      <td>1608040066047148032</td>\n",
              "      <td>1608040066047148032</td>\n",
              "      <td>2022-12-28 10:00:02</td>\n",
              "      <td>Pada Pemilu 2019, Generasi Milenial menjadi pe...</td>\n",
              "      <td>255866913</td>\n",
              "      <td>hariankompas</td>\n",
              "      <td>Harian Kompas</td>\n",
              "      <td>3</td>\n",
              "      <td>10.0</td>\n",
              "      <td>0.0</td>\n",
              "      <td>0.0</td>\n",
              "      <td>0.0</td>\n",
              "    </tr>\n",
              "  </tbody>\n",
              "</table>\n",
              "</div>\n",
              "      <button class=\"colab-df-convert\" onclick=\"convertToInteractive('df-fd1c4efd-44aa-401c-8ea3-6aed50ae62ef')\"\n",
              "              title=\"Convert this dataframe to an interactive table.\"\n",
              "              style=\"display:none;\">\n",
              "        \n",
              "  <svg xmlns=\"http://www.w3.org/2000/svg\" height=\"24px\"viewBox=\"0 0 24 24\"\n",
              "       width=\"24px\">\n",
              "    <path d=\"M0 0h24v24H0V0z\" fill=\"none\"/>\n",
              "    <path d=\"M18.56 5.44l.94 2.06.94-2.06 2.06-.94-2.06-.94-.94-2.06-.94 2.06-2.06.94zm-11 1L8.5 8.5l.94-2.06 2.06-.94-2.06-.94L8.5 2.5l-.94 2.06-2.06.94zm10 10l.94 2.06.94-2.06 2.06-.94-2.06-.94-.94-2.06-.94 2.06-2.06.94z\"/><path d=\"M17.41 7.96l-1.37-1.37c-.4-.4-.92-.59-1.43-.59-.52 0-1.04.2-1.43.59L10.3 9.45l-7.72 7.72c-.78.78-.78 2.05 0 2.83L4 21.41c.39.39.9.59 1.41.59.51 0 1.02-.2 1.41-.59l7.78-7.78 2.81-2.81c.8-.78.8-2.07 0-2.86zM5.41 20L4 18.59l7.72-7.72 1.47 1.35L5.41 20z\"/>\n",
              "  </svg>\n",
              "      </button>\n",
              "      \n",
              "  <style>\n",
              "    .colab-df-container {\n",
              "      display:flex;\n",
              "      flex-wrap:wrap;\n",
              "      gap: 12px;\n",
              "    }\n",
              "\n",
              "    .colab-df-convert {\n",
              "      background-color: #E8F0FE;\n",
              "      border: none;\n",
              "      border-radius: 50%;\n",
              "      cursor: pointer;\n",
              "      display: none;\n",
              "      fill: #1967D2;\n",
              "      height: 32px;\n",
              "      padding: 0 0 0 0;\n",
              "      width: 32px;\n",
              "    }\n",
              "\n",
              "    .colab-df-convert:hover {\n",
              "      background-color: #E2EBFA;\n",
              "      box-shadow: 0px 1px 2px rgba(60, 64, 67, 0.3), 0px 1px 3px 1px rgba(60, 64, 67, 0.15);\n",
              "      fill: #174EA6;\n",
              "    }\n",
              "\n",
              "    [theme=dark] .colab-df-convert {\n",
              "      background-color: #3B4455;\n",
              "      fill: #D2E3FC;\n",
              "    }\n",
              "\n",
              "    [theme=dark] .colab-df-convert:hover {\n",
              "      background-color: #434B5C;\n",
              "      box-shadow: 0px 1px 3px 1px rgba(0, 0, 0, 0.15);\n",
              "      filter: drop-shadow(0px 1px 2px rgba(0, 0, 0, 0.3));\n",
              "      fill: #FFFFFF;\n",
              "    }\n",
              "  </style>\n",
              "\n",
              "      <script>\n",
              "        const buttonEl =\n",
              "          document.querySelector('#df-fd1c4efd-44aa-401c-8ea3-6aed50ae62ef button.colab-df-convert');\n",
              "        buttonEl.style.display =\n",
              "          google.colab.kernel.accessAllowed ? 'block' : 'none';\n",
              "\n",
              "        async function convertToInteractive(key) {\n",
              "          const element = document.querySelector('#df-fd1c4efd-44aa-401c-8ea3-6aed50ae62ef');\n",
              "          const dataTable =\n",
              "            await google.colab.kernel.invokeFunction('convertToInteractive',\n",
              "                                                     [key], {});\n",
              "          if (!dataTable) return;\n",
              "\n",
              "          const docLinkHtml = 'Like what you see? Visit the ' +\n",
              "            '<a target=\"_blank\" href=https://colab.research.google.com/notebooks/data_table.ipynb>data table notebook</a>'\n",
              "            + ' to learn more about interactive tables.';\n",
              "          element.innerHTML = '';\n",
              "          dataTable['output_type'] = 'display_data';\n",
              "          await google.colab.output.renderOutput(dataTable, element);\n",
              "          const docLink = document.createElement('div');\n",
              "          docLink.innerHTML = docLinkHtml;\n",
              "          element.appendChild(docLink);\n",
              "        }\n",
              "      </script>\n",
              "    </div>\n",
              "  </div>\n",
              "  "
            ]
          },
          "metadata": {},
          "execution_count": 10
        }
      ]
    },
    {
      "cell_type": "code",
      "source": [
        "# ubah ke integer\n",
        "ke_int = [\"nlikes\", \"nreplies\", \"nretweets\"]\n",
        "for col in ke_int:\n",
        "    df[col] = df[col].astype(\"int\")"
      ],
      "metadata": {
        "id": "ae_MJ6xbcu2M"
      },
      "execution_count": null,
      "outputs": []
    },
    {
      "cell_type": "code",
      "source": [
        "# ubat ke datetime\n",
        "df[\"date\"] = df[\"date\"].astype(\"datetime64\")"
      ],
      "metadata": {
        "id": "Qytd2h0jiXX9"
      },
      "execution_count": null,
      "outputs": []
    },
    {
      "cell_type": "code",
      "source": [
        "# ubah ke string\n",
        "ke_str1 = [\"day\", \"hour\", \"id\", \"conversation_id\", \"user_id\"]\n",
        "for col in ke_str1:\n",
        "    df[col] = df[col].astype(\"int\").astype(\"string\") # ubah ke int dulu untuk menghilangkan desimal\n",
        "\n",
        "ke_str2 = [\"tweet\", \"username\", \"name\"]\n",
        "for col in ke_str2:\n",
        "    df[col] = df[col].astype(\"string\")"
      ],
      "metadata": {
        "id": "CSKs3JFMint5"
      },
      "execution_count": null,
      "outputs": []
    },
    {
      "cell_type": "code",
      "source": [
        "df.info()"
      ],
      "metadata": {
        "colab": {
          "base_uri": "https://localhost:8080/"
        },
        "id": "57sFPQkWmrcw",
        "outputId": "ae61a5e0-13a4-4837-924e-953d3207327d"
      },
      "execution_count": null,
      "outputs": [
        {
          "output_type": "stream",
          "name": "stdout",
          "text": [
            "<class 'pandas.core.frame.DataFrame'>\n",
            "Int64Index: 30507 entries, 0 to 30515\n",
            "Data columns (total 12 columns):\n",
            " #   Column           Non-Null Count  Dtype         \n",
            "---  ------           --------------  -----         \n",
            " 0   id               30507 non-null  string        \n",
            " 1   conversation_id  30507 non-null  string        \n",
            " 2   date             30507 non-null  datetime64[ns]\n",
            " 3   tweet            30507 non-null  string        \n",
            " 4   user_id          30507 non-null  string        \n",
            " 5   username         30507 non-null  string        \n",
            " 6   name             30507 non-null  string        \n",
            " 7   day              30507 non-null  string        \n",
            " 8   hour             30507 non-null  string        \n",
            " 9   nlikes           30507 non-null  int64         \n",
            " 10  nreplies         30507 non-null  int64         \n",
            " 11  nretweets        30507 non-null  int64         \n",
            "dtypes: datetime64[ns](1), int64(3), string(8)\n",
            "memory usage: 3.0 MB\n"
          ]
        }
      ]
    },
    {
      "cell_type": "markdown",
      "source": [
        "setelah pembersihan dan penyesuaian format, selanjutnya adalah eksplorasi data"
      ],
      "metadata": {
        "id": "L1F3LOHKmuzp"
      }
    },
    {
      "cell_type": "markdown",
      "source": [
        "# Eksplorasi Data Keseluruhan"
      ],
      "metadata": {
        "id": "px6zcrvUm5E9"
      }
    },
    {
      "cell_type": "code",
      "source": [
        "df.describe(include=\"all\")"
      ],
      "metadata": {
        "colab": {
          "base_uri": "https://localhost:8080/",
          "height": 457
        },
        "id": "a6itJKMzi_V5",
        "outputId": "2a96dc30-83ec-49ef-aacf-a867234d4ac7"
      },
      "execution_count": null,
      "outputs": [
        {
          "output_type": "execute_result",
          "data": {
            "text/plain": [
              "                         id      conversation_id                 date  \\\n",
              "count                 30507                30507                30507   \n",
              "unique                29962                25223                28102   \n",
              "top     1607982762270806016  1564948285671886849  2022-12-14 07:00:01   \n",
              "freq                      3                  184                   56   \n",
              "first                   NaN                  NaN  2022-08-22 05:02:50   \n",
              "last                    NaN                  NaN  2022-12-28 10:32:10   \n",
              "mean                    NaN                  NaN                  NaN   \n",
              "std                     NaN                  NaN                  NaN   \n",
              "min                     NaN                  NaN                  NaN   \n",
              "25%                     NaN                  NaN                  NaN   \n",
              "50%                     NaN                  NaN                  NaN   \n",
              "75%                     NaN                  NaN                  NaN   \n",
              "max                     NaN                  NaN                  NaN   \n",
              "\n",
              "                                                    tweet     user_id  \\\n",
              "count                                               30507       30507   \n",
              "unique                                              26334       10685   \n",
              "top     Ketua Fraksi Gerindra DPR RI ini menyampaikan ...  2413697946   \n",
              "freq                                                   43         343   \n",
              "first                                                 NaN         NaN   \n",
              "last                                                  NaN         NaN   \n",
              "mean                                                  NaN         NaN   \n",
              "std                                                   NaN         NaN   \n",
              "min                                                   NaN         NaN   \n",
              "25%                                                   NaN         NaN   \n",
              "50%                                                   NaN         NaN   \n",
              "75%                                                   NaN         NaN   \n",
              "max                                                   NaN         NaN   \n",
              "\n",
              "       username    name    day   hour        nlikes      nreplies  \\\n",
              "count     30507   30507  30507  30507  30507.000000  30507.000000   \n",
              "unique    10161   10036      7     24           NaN           NaN   \n",
              "top      KPU_ID  KPU RI      3      9           NaN           NaN   \n",
              "freq        343     343   8270   4646           NaN           NaN   \n",
              "first       NaN     NaN    NaN    NaN           NaN           NaN   \n",
              "last        NaN     NaN    NaN    NaN           NaN           NaN   \n",
              "mean        NaN     NaN    NaN    NaN      6.077261      1.224309   \n",
              "std         NaN     NaN    NaN    NaN     72.540030     19.269449   \n",
              "min         NaN     NaN    NaN    NaN      0.000000      0.000000   \n",
              "25%         NaN     NaN    NaN    NaN      0.000000      0.000000   \n",
              "50%         NaN     NaN    NaN    NaN      0.000000      0.000000   \n",
              "75%         NaN     NaN    NaN    NaN      1.000000      0.000000   \n",
              "max         NaN     NaN    NaN    NaN   5344.000000   1410.000000   \n",
              "\n",
              "           nretweets  \n",
              "count   30507.000000  \n",
              "unique           NaN  \n",
              "top              NaN  \n",
              "freq             NaN  \n",
              "first            NaN  \n",
              "last             NaN  \n",
              "mean        1.620513  \n",
              "std        20.893325  \n",
              "min         0.000000  \n",
              "25%         0.000000  \n",
              "50%         0.000000  \n",
              "75%         0.000000  \n",
              "max      1652.000000  "
            ],
            "text/html": [
              "\n",
              "  <div id=\"df-e5485278-9877-4550-9c24-ded7b8b1da8a\">\n",
              "    <div class=\"colab-df-container\">\n",
              "      <div>\n",
              "<style scoped>\n",
              "    .dataframe tbody tr th:only-of-type {\n",
              "        vertical-align: middle;\n",
              "    }\n",
              "\n",
              "    .dataframe tbody tr th {\n",
              "        vertical-align: top;\n",
              "    }\n",
              "\n",
              "    .dataframe thead th {\n",
              "        text-align: right;\n",
              "    }\n",
              "</style>\n",
              "<table border=\"1\" class=\"dataframe\">\n",
              "  <thead>\n",
              "    <tr style=\"text-align: right;\">\n",
              "      <th></th>\n",
              "      <th>id</th>\n",
              "      <th>conversation_id</th>\n",
              "      <th>date</th>\n",
              "      <th>tweet</th>\n",
              "      <th>user_id</th>\n",
              "      <th>username</th>\n",
              "      <th>name</th>\n",
              "      <th>day</th>\n",
              "      <th>hour</th>\n",
              "      <th>nlikes</th>\n",
              "      <th>nreplies</th>\n",
              "      <th>nretweets</th>\n",
              "    </tr>\n",
              "  </thead>\n",
              "  <tbody>\n",
              "    <tr>\n",
              "      <th>count</th>\n",
              "      <td>30507</td>\n",
              "      <td>30507</td>\n",
              "      <td>30507</td>\n",
              "      <td>30507</td>\n",
              "      <td>30507</td>\n",
              "      <td>30507</td>\n",
              "      <td>30507</td>\n",
              "      <td>30507</td>\n",
              "      <td>30507</td>\n",
              "      <td>30507.000000</td>\n",
              "      <td>30507.000000</td>\n",
              "      <td>30507.000000</td>\n",
              "    </tr>\n",
              "    <tr>\n",
              "      <th>unique</th>\n",
              "      <td>29962</td>\n",
              "      <td>25223</td>\n",
              "      <td>28102</td>\n",
              "      <td>26334</td>\n",
              "      <td>10685</td>\n",
              "      <td>10161</td>\n",
              "      <td>10036</td>\n",
              "      <td>7</td>\n",
              "      <td>24</td>\n",
              "      <td>NaN</td>\n",
              "      <td>NaN</td>\n",
              "      <td>NaN</td>\n",
              "    </tr>\n",
              "    <tr>\n",
              "      <th>top</th>\n",
              "      <td>1607982762270806016</td>\n",
              "      <td>1564948285671886849</td>\n",
              "      <td>2022-12-14 07:00:01</td>\n",
              "      <td>Ketua Fraksi Gerindra DPR RI ini menyampaikan ...</td>\n",
              "      <td>2413697946</td>\n",
              "      <td>KPU_ID</td>\n",
              "      <td>KPU RI</td>\n",
              "      <td>3</td>\n",
              "      <td>9</td>\n",
              "      <td>NaN</td>\n",
              "      <td>NaN</td>\n",
              "      <td>NaN</td>\n",
              "    </tr>\n",
              "    <tr>\n",
              "      <th>freq</th>\n",
              "      <td>3</td>\n",
              "      <td>184</td>\n",
              "      <td>56</td>\n",
              "      <td>43</td>\n",
              "      <td>343</td>\n",
              "      <td>343</td>\n",
              "      <td>343</td>\n",
              "      <td>8270</td>\n",
              "      <td>4646</td>\n",
              "      <td>NaN</td>\n",
              "      <td>NaN</td>\n",
              "      <td>NaN</td>\n",
              "    </tr>\n",
              "    <tr>\n",
              "      <th>first</th>\n",
              "      <td>NaN</td>\n",
              "      <td>NaN</td>\n",
              "      <td>2022-08-22 05:02:50</td>\n",
              "      <td>NaN</td>\n",
              "      <td>NaN</td>\n",
              "      <td>NaN</td>\n",
              "      <td>NaN</td>\n",
              "      <td>NaN</td>\n",
              "      <td>NaN</td>\n",
              "      <td>NaN</td>\n",
              "      <td>NaN</td>\n",
              "      <td>NaN</td>\n",
              "    </tr>\n",
              "    <tr>\n",
              "      <th>last</th>\n",
              "      <td>NaN</td>\n",
              "      <td>NaN</td>\n",
              "      <td>2022-12-28 10:32:10</td>\n",
              "      <td>NaN</td>\n",
              "      <td>NaN</td>\n",
              "      <td>NaN</td>\n",
              "      <td>NaN</td>\n",
              "      <td>NaN</td>\n",
              "      <td>NaN</td>\n",
              "      <td>NaN</td>\n",
              "      <td>NaN</td>\n",
              "      <td>NaN</td>\n",
              "    </tr>\n",
              "    <tr>\n",
              "      <th>mean</th>\n",
              "      <td>NaN</td>\n",
              "      <td>NaN</td>\n",
              "      <td>NaN</td>\n",
              "      <td>NaN</td>\n",
              "      <td>NaN</td>\n",
              "      <td>NaN</td>\n",
              "      <td>NaN</td>\n",
              "      <td>NaN</td>\n",
              "      <td>NaN</td>\n",
              "      <td>6.077261</td>\n",
              "      <td>1.224309</td>\n",
              "      <td>1.620513</td>\n",
              "    </tr>\n",
              "    <tr>\n",
              "      <th>std</th>\n",
              "      <td>NaN</td>\n",
              "      <td>NaN</td>\n",
              "      <td>NaN</td>\n",
              "      <td>NaN</td>\n",
              "      <td>NaN</td>\n",
              "      <td>NaN</td>\n",
              "      <td>NaN</td>\n",
              "      <td>NaN</td>\n",
              "      <td>NaN</td>\n",
              "      <td>72.540030</td>\n",
              "      <td>19.269449</td>\n",
              "      <td>20.893325</td>\n",
              "    </tr>\n",
              "    <tr>\n",
              "      <th>min</th>\n",
              "      <td>NaN</td>\n",
              "      <td>NaN</td>\n",
              "      <td>NaN</td>\n",
              "      <td>NaN</td>\n",
              "      <td>NaN</td>\n",
              "      <td>NaN</td>\n",
              "      <td>NaN</td>\n",
              "      <td>NaN</td>\n",
              "      <td>NaN</td>\n",
              "      <td>0.000000</td>\n",
              "      <td>0.000000</td>\n",
              "      <td>0.000000</td>\n",
              "    </tr>\n",
              "    <tr>\n",
              "      <th>25%</th>\n",
              "      <td>NaN</td>\n",
              "      <td>NaN</td>\n",
              "      <td>NaN</td>\n",
              "      <td>NaN</td>\n",
              "      <td>NaN</td>\n",
              "      <td>NaN</td>\n",
              "      <td>NaN</td>\n",
              "      <td>NaN</td>\n",
              "      <td>NaN</td>\n",
              "      <td>0.000000</td>\n",
              "      <td>0.000000</td>\n",
              "      <td>0.000000</td>\n",
              "    </tr>\n",
              "    <tr>\n",
              "      <th>50%</th>\n",
              "      <td>NaN</td>\n",
              "      <td>NaN</td>\n",
              "      <td>NaN</td>\n",
              "      <td>NaN</td>\n",
              "      <td>NaN</td>\n",
              "      <td>NaN</td>\n",
              "      <td>NaN</td>\n",
              "      <td>NaN</td>\n",
              "      <td>NaN</td>\n",
              "      <td>0.000000</td>\n",
              "      <td>0.000000</td>\n",
              "      <td>0.000000</td>\n",
              "    </tr>\n",
              "    <tr>\n",
              "      <th>75%</th>\n",
              "      <td>NaN</td>\n",
              "      <td>NaN</td>\n",
              "      <td>NaN</td>\n",
              "      <td>NaN</td>\n",
              "      <td>NaN</td>\n",
              "      <td>NaN</td>\n",
              "      <td>NaN</td>\n",
              "      <td>NaN</td>\n",
              "      <td>NaN</td>\n",
              "      <td>1.000000</td>\n",
              "      <td>0.000000</td>\n",
              "      <td>0.000000</td>\n",
              "    </tr>\n",
              "    <tr>\n",
              "      <th>max</th>\n",
              "      <td>NaN</td>\n",
              "      <td>NaN</td>\n",
              "      <td>NaN</td>\n",
              "      <td>NaN</td>\n",
              "      <td>NaN</td>\n",
              "      <td>NaN</td>\n",
              "      <td>NaN</td>\n",
              "      <td>NaN</td>\n",
              "      <td>NaN</td>\n",
              "      <td>5344.000000</td>\n",
              "      <td>1410.000000</td>\n",
              "      <td>1652.000000</td>\n",
              "    </tr>\n",
              "  </tbody>\n",
              "</table>\n",
              "</div>\n",
              "      <button class=\"colab-df-convert\" onclick=\"convertToInteractive('df-e5485278-9877-4550-9c24-ded7b8b1da8a')\"\n",
              "              title=\"Convert this dataframe to an interactive table.\"\n",
              "              style=\"display:none;\">\n",
              "        \n",
              "  <svg xmlns=\"http://www.w3.org/2000/svg\" height=\"24px\"viewBox=\"0 0 24 24\"\n",
              "       width=\"24px\">\n",
              "    <path d=\"M0 0h24v24H0V0z\" fill=\"none\"/>\n",
              "    <path d=\"M18.56 5.44l.94 2.06.94-2.06 2.06-.94-2.06-.94-.94-2.06-.94 2.06-2.06.94zm-11 1L8.5 8.5l.94-2.06 2.06-.94-2.06-.94L8.5 2.5l-.94 2.06-2.06.94zm10 10l.94 2.06.94-2.06 2.06-.94-2.06-.94-.94-2.06-.94 2.06-2.06.94z\"/><path d=\"M17.41 7.96l-1.37-1.37c-.4-.4-.92-.59-1.43-.59-.52 0-1.04.2-1.43.59L10.3 9.45l-7.72 7.72c-.78.78-.78 2.05 0 2.83L4 21.41c.39.39.9.59 1.41.59.51 0 1.02-.2 1.41-.59l7.78-7.78 2.81-2.81c.8-.78.8-2.07 0-2.86zM5.41 20L4 18.59l7.72-7.72 1.47 1.35L5.41 20z\"/>\n",
              "  </svg>\n",
              "      </button>\n",
              "      \n",
              "  <style>\n",
              "    .colab-df-container {\n",
              "      display:flex;\n",
              "      flex-wrap:wrap;\n",
              "      gap: 12px;\n",
              "    }\n",
              "\n",
              "    .colab-df-convert {\n",
              "      background-color: #E8F0FE;\n",
              "      border: none;\n",
              "      border-radius: 50%;\n",
              "      cursor: pointer;\n",
              "      display: none;\n",
              "      fill: #1967D2;\n",
              "      height: 32px;\n",
              "      padding: 0 0 0 0;\n",
              "      width: 32px;\n",
              "    }\n",
              "\n",
              "    .colab-df-convert:hover {\n",
              "      background-color: #E2EBFA;\n",
              "      box-shadow: 0px 1px 2px rgba(60, 64, 67, 0.3), 0px 1px 3px 1px rgba(60, 64, 67, 0.15);\n",
              "      fill: #174EA6;\n",
              "    }\n",
              "\n",
              "    [theme=dark] .colab-df-convert {\n",
              "      background-color: #3B4455;\n",
              "      fill: #D2E3FC;\n",
              "    }\n",
              "\n",
              "    [theme=dark] .colab-df-convert:hover {\n",
              "      background-color: #434B5C;\n",
              "      box-shadow: 0px 1px 3px 1px rgba(0, 0, 0, 0.15);\n",
              "      filter: drop-shadow(0px 1px 2px rgba(0, 0, 0, 0.3));\n",
              "      fill: #FFFFFF;\n",
              "    }\n",
              "  </style>\n",
              "\n",
              "      <script>\n",
              "        const buttonEl =\n",
              "          document.querySelector('#df-e5485278-9877-4550-9c24-ded7b8b1da8a button.colab-df-convert');\n",
              "        buttonEl.style.display =\n",
              "          google.colab.kernel.accessAllowed ? 'block' : 'none';\n",
              "\n",
              "        async function convertToInteractive(key) {\n",
              "          const element = document.querySelector('#df-e5485278-9877-4550-9c24-ded7b8b1da8a');\n",
              "          const dataTable =\n",
              "            await google.colab.kernel.invokeFunction('convertToInteractive',\n",
              "                                                     [key], {});\n",
              "          if (!dataTable) return;\n",
              "\n",
              "          const docLinkHtml = 'Like what you see? Visit the ' +\n",
              "            '<a target=\"_blank\" href=https://colab.research.google.com/notebooks/data_table.ipynb>data table notebook</a>'\n",
              "            + ' to learn more about interactive tables.';\n",
              "          element.innerHTML = '';\n",
              "          dataTable['output_type'] = 'display_data';\n",
              "          await google.colab.output.renderOutput(dataTable, element);\n",
              "          const docLink = document.createElement('div');\n",
              "          docLink.innerHTML = docLinkHtml;\n",
              "          element.appendChild(docLink);\n",
              "        }\n",
              "      </script>\n",
              "    </div>\n",
              "  </div>\n",
              "  "
            ]
          },
          "metadata": {},
          "execution_count": 61
        }
      ]
    },
    {
      "cell_type": "markdown",
      "source": [
        "<font size=4><center>akun twitter <mark>KPU_ID</mark> menjadi akun yang paling banyak muncul dalam dalam data tweet tentang <mark>Pilpres 2024</mark> *(berdasarkan keyword yang sudah didefinisikan sebelumnya)* dalam data tweet yang diplubikasikan dalam rentang tanggal *22 Agustus 2022 pk.5 pagi - 28 Desember 2022 pk.10 pagi*</center></font>"
      ],
      "metadata": {
        "id": "KUe0k7X5nqV_"
      }
    },
    {
      "cell_type": "markdown",
      "source": [
        "## Lihat trend tweet dalam tanggal\n",
        "melihat trend banyaknya tweet mengenai pilpres 2024 yang dipublikasikan dalam rentang tanggal"
      ],
      "metadata": {
        "id": "x5AM-Chyw837"
      }
    },
    {
      "cell_type": "code",
      "source": [
        "# lihat trend tweet dalam tanggal\n",
        "tanggal = df[\"date\"].dt.strftime(\"%Y-%m-%d\")\n",
        "tanggal = pd.DataFrame(zip(tanggal.value_counts().index.values, tanggal.value_counts().values),\n",
        "                       columns=[\"date\", \"count\"]).sort_values(\"date\", ignore_index=True)\n",
        "tanggal.sort_values(\"count\", ascending=False).head()"
      ],
      "metadata": {
        "colab": {
          "base_uri": "https://localhost:8080/"
        },
        "id": "-gxzpLEWuEOa",
        "outputId": "675ad4d7-fc7d-4602-9c08-58c4137e7be8"
      },
      "execution_count": null,
      "outputs": [
        {
          "output_type": "execute_result",
          "data": {
            "text/plain": [
              "           date  count\n",
              "128  2022-12-28   4736\n",
              "127  2022-12-27   1047\n",
              "122  2022-12-22    928\n",
              "114  2022-12-14    912\n",
              "123  2022-12-23    881"
            ],
            "text/html": [
              "\n",
              "  <div id=\"df-39845f10-e465-4e40-b7ef-dd3162a3d9fd\">\n",
              "    <div class=\"colab-df-container\">\n",
              "      <div>\n",
              "<style scoped>\n",
              "    .dataframe tbody tr th:only-of-type {\n",
              "        vertical-align: middle;\n",
              "    }\n",
              "\n",
              "    .dataframe tbody tr th {\n",
              "        vertical-align: top;\n",
              "    }\n",
              "\n",
              "    .dataframe thead th {\n",
              "        text-align: right;\n",
              "    }\n",
              "</style>\n",
              "<table border=\"1\" class=\"dataframe\">\n",
              "  <thead>\n",
              "    <tr style=\"text-align: right;\">\n",
              "      <th></th>\n",
              "      <th>date</th>\n",
              "      <th>count</th>\n",
              "    </tr>\n",
              "  </thead>\n",
              "  <tbody>\n",
              "    <tr>\n",
              "      <th>128</th>\n",
              "      <td>2022-12-28</td>\n",
              "      <td>4736</td>\n",
              "    </tr>\n",
              "    <tr>\n",
              "      <th>127</th>\n",
              "      <td>2022-12-27</td>\n",
              "      <td>1047</td>\n",
              "    </tr>\n",
              "    <tr>\n",
              "      <th>122</th>\n",
              "      <td>2022-12-22</td>\n",
              "      <td>928</td>\n",
              "    </tr>\n",
              "    <tr>\n",
              "      <th>114</th>\n",
              "      <td>2022-12-14</td>\n",
              "      <td>912</td>\n",
              "    </tr>\n",
              "    <tr>\n",
              "      <th>123</th>\n",
              "      <td>2022-12-23</td>\n",
              "      <td>881</td>\n",
              "    </tr>\n",
              "  </tbody>\n",
              "</table>\n",
              "</div>\n",
              "      <button class=\"colab-df-convert\" onclick=\"convertToInteractive('df-39845f10-e465-4e40-b7ef-dd3162a3d9fd')\"\n",
              "              title=\"Convert this dataframe to an interactive table.\"\n",
              "              style=\"display:none;\">\n",
              "        \n",
              "  <svg xmlns=\"http://www.w3.org/2000/svg\" height=\"24px\"viewBox=\"0 0 24 24\"\n",
              "       width=\"24px\">\n",
              "    <path d=\"M0 0h24v24H0V0z\" fill=\"none\"/>\n",
              "    <path d=\"M18.56 5.44l.94 2.06.94-2.06 2.06-.94-2.06-.94-.94-2.06-.94 2.06-2.06.94zm-11 1L8.5 8.5l.94-2.06 2.06-.94-2.06-.94L8.5 2.5l-.94 2.06-2.06.94zm10 10l.94 2.06.94-2.06 2.06-.94-2.06-.94-.94-2.06-.94 2.06-2.06.94z\"/><path d=\"M17.41 7.96l-1.37-1.37c-.4-.4-.92-.59-1.43-.59-.52 0-1.04.2-1.43.59L10.3 9.45l-7.72 7.72c-.78.78-.78 2.05 0 2.83L4 21.41c.39.39.9.59 1.41.59.51 0 1.02-.2 1.41-.59l7.78-7.78 2.81-2.81c.8-.78.8-2.07 0-2.86zM5.41 20L4 18.59l7.72-7.72 1.47 1.35L5.41 20z\"/>\n",
              "  </svg>\n",
              "      </button>\n",
              "      \n",
              "  <style>\n",
              "    .colab-df-container {\n",
              "      display:flex;\n",
              "      flex-wrap:wrap;\n",
              "      gap: 12px;\n",
              "    }\n",
              "\n",
              "    .colab-df-convert {\n",
              "      background-color: #E8F0FE;\n",
              "      border: none;\n",
              "      border-radius: 50%;\n",
              "      cursor: pointer;\n",
              "      display: none;\n",
              "      fill: #1967D2;\n",
              "      height: 32px;\n",
              "      padding: 0 0 0 0;\n",
              "      width: 32px;\n",
              "    }\n",
              "\n",
              "    .colab-df-convert:hover {\n",
              "      background-color: #E2EBFA;\n",
              "      box-shadow: 0px 1px 2px rgba(60, 64, 67, 0.3), 0px 1px 3px 1px rgba(60, 64, 67, 0.15);\n",
              "      fill: #174EA6;\n",
              "    }\n",
              "\n",
              "    [theme=dark] .colab-df-convert {\n",
              "      background-color: #3B4455;\n",
              "      fill: #D2E3FC;\n",
              "    }\n",
              "\n",
              "    [theme=dark] .colab-df-convert:hover {\n",
              "      background-color: #434B5C;\n",
              "      box-shadow: 0px 1px 3px 1px rgba(0, 0, 0, 0.15);\n",
              "      filter: drop-shadow(0px 1px 2px rgba(0, 0, 0, 0.3));\n",
              "      fill: #FFFFFF;\n",
              "    }\n",
              "  </style>\n",
              "\n",
              "      <script>\n",
              "        const buttonEl =\n",
              "          document.querySelector('#df-39845f10-e465-4e40-b7ef-dd3162a3d9fd button.colab-df-convert');\n",
              "        buttonEl.style.display =\n",
              "          google.colab.kernel.accessAllowed ? 'block' : 'none';\n",
              "\n",
              "        async function convertToInteractive(key) {\n",
              "          const element = document.querySelector('#df-39845f10-e465-4e40-b7ef-dd3162a3d9fd');\n",
              "          const dataTable =\n",
              "            await google.colab.kernel.invokeFunction('convertToInteractive',\n",
              "                                                     [key], {});\n",
              "          if (!dataTable) return;\n",
              "\n",
              "          const docLinkHtml = 'Like what you see? Visit the ' +\n",
              "            '<a target=\"_blank\" href=https://colab.research.google.com/notebooks/data_table.ipynb>data table notebook</a>'\n",
              "            + ' to learn more about interactive tables.';\n",
              "          element.innerHTML = '';\n",
              "          dataTable['output_type'] = 'display_data';\n",
              "          await google.colab.output.renderOutput(dataTable, element);\n",
              "          const docLink = document.createElement('div');\n",
              "          docLink.innerHTML = docLinkHtml;\n",
              "          element.appendChild(docLink);\n",
              "        }\n",
              "      </script>\n",
              "    </div>\n",
              "  </div>\n",
              "  "
            ]
          },
          "metadata": {},
          "execution_count": 62
        }
      ]
    },
    {
      "cell_type": "markdown",
      "source": [
        "<a href=\"https://raw.githubusercontent.com/mdzakyjaya/Final_Project_ADM/main/gambar/number%20of%20tweets%20by%20day.png\"><img src=\"https://raw.githubusercontent.com/mdzakyjaya/Final_Project_ADM/main/gambar/number%20of%20tweets%20by%20day.png\" alt=\"number of tweets by day\"/></img></a>\n",
        "<center><i> dibuat di Tableau </i></center>\n",
        "\n",
        "<font size=4> berdasarkan data yang ada, tweet mengenai Pilpres 2024 mengalami trend meningkat terutama menjelang pergantian tahun 2022 ke 2023, ada beberapa kemungkinan:\n",
        "\n",
        "1. data yang didapatkan dari twitter menarik data dari postingan terbaru. sehingga untuk tanggal yang semakin dekat dengan waktu pengambilan data akan semakin banyak datanya.\n",
        "2. semakin dekat dengan tanggal pilpres, para calon semakin banyak melakukan \"curi start kampanye\" (walaupun tanggal kampanye resmi belum dimulai) diikuti oleh para pendukung dan tim suksesnya di media sosial. ([sumber](https://www.bawaslu.go.id/id/berita/belum-masuk-waktu-kampanye-bawaslu-imbau-bakal-calon-presiden-tak-curi-start))\n",
        "3. beberapa isu seperti bencana alam yang banyak terjadi menjelang akhir tahun 2022 ([sumber](https://www.cnnindonesia.com/nasional/20221226054204-20-891947/rentetan-bencana-sepanjang-2022-gempa-bertubi-tubi-di-akhir-tahun)) menjadikan para calon yang ingin berkontestasi di dunia politik mengambil kesempatan dengan memberikan simpati dengan memanfaatkan media sosial untuk publikasi.\n",
        "</font>\n",
        "\n",
        "<a href=\"https://raw.githubusercontent.com/mdzakyjaya/Final_Project_ADM/main/gambar/number%20of%20tweets%20by%20hour.png\"><img src=\"https://raw.githubusercontent.com/mdzakyjaya/Final_Project_ADM/main/gambar/number%20of%20tweets%20by%20hour.png\" alt=\"number of tweets by day\"/></img></a>\n",
        "<center><i> dibuat di Tableau </i></center>\n",
        "\n",
        "<font size=4>para pengguna twitter yang tertarik dengan topik ini (Pilpres 2024) mayoritas mempublikasikan tweet mereka di pagi hari, ini bisa menjadi kesempatan untuk melihat tweet dengan subtopik apa yang lebih unggul dibicarakan diwaktu-waktu tersebut"
      ],
      "metadata": {
        "id": "SA5WK0FRKOKz"
      }
    },
    {
      "cell_type": "markdown",
      "source": [
        "## Lihat akun popular berdasarkan retweet"
      ],
      "metadata": {
        "id": "f8dd833otz6k"
      }
    },
    {
      "cell_type": "code",
      "source": [
        "# ambil variabel yang dibutuhkan\n",
        "df_retweets = df[[\"username\", \"name\", \"nretweets\"]]\n",
        "TopAccRT = df_retweets.loc[df_retweets[\"nretweets\"] != 0].groupby(\"name\").sum().sort_values(\"nretweets\", ascending=False)\n",
        "TopAccRT.head(10)"
      ],
      "metadata": {
        "colab": {
          "base_uri": "https://localhost:8080/"
        },
        "id": "5dSlpWrgVO61",
        "outputId": "9f89d6d0-10f6-4325-f0c8-49ec0690d482"
      },
      "execution_count": null,
      "outputs": [
        {
          "output_type": "execute_result",
          "data": {
            "text/plain": [
              "                                    nretweets\n",
              "name                                         \n",
              "KPU RI                                   4576\n",
              "Relawan Anies Baswedan                   2315\n",
              "OposisiCerdas.com                        2081\n",
              "#99                                      1875\n",
              "KamandanuNgapak900                       1652\n",
              "Democrazy News                           1600\n",
              "Lambe Waras                              1451\n",
              "Koran Tempo                              1367\n",
              "LANGKAH ANIES Serius Tenang Tuntas       1323\n",
              "Benny K Harman                           1129"
            ],
            "text/html": [
              "\n",
              "  <div id=\"df-a2f0bc55-d543-4be4-b8af-f40f2967ab3b\">\n",
              "    <div class=\"colab-df-container\">\n",
              "      <div>\n",
              "<style scoped>\n",
              "    .dataframe tbody tr th:only-of-type {\n",
              "        vertical-align: middle;\n",
              "    }\n",
              "\n",
              "    .dataframe tbody tr th {\n",
              "        vertical-align: top;\n",
              "    }\n",
              "\n",
              "    .dataframe thead th {\n",
              "        text-align: right;\n",
              "    }\n",
              "</style>\n",
              "<table border=\"1\" class=\"dataframe\">\n",
              "  <thead>\n",
              "    <tr style=\"text-align: right;\">\n",
              "      <th></th>\n",
              "      <th>nretweets</th>\n",
              "    </tr>\n",
              "    <tr>\n",
              "      <th>name</th>\n",
              "      <th></th>\n",
              "    </tr>\n",
              "  </thead>\n",
              "  <tbody>\n",
              "    <tr>\n",
              "      <th>KPU RI</th>\n",
              "      <td>4576</td>\n",
              "    </tr>\n",
              "    <tr>\n",
              "      <th>Relawan Anies Baswedan</th>\n",
              "      <td>2315</td>\n",
              "    </tr>\n",
              "    <tr>\n",
              "      <th>OposisiCerdas.com</th>\n",
              "      <td>2081</td>\n",
              "    </tr>\n",
              "    <tr>\n",
              "      <th>#99</th>\n",
              "      <td>1875</td>\n",
              "    </tr>\n",
              "    <tr>\n",
              "      <th>KamandanuNgapak900</th>\n",
              "      <td>1652</td>\n",
              "    </tr>\n",
              "    <tr>\n",
              "      <th>Democrazy News</th>\n",
              "      <td>1600</td>\n",
              "    </tr>\n",
              "    <tr>\n",
              "      <th>Lambe Waras</th>\n",
              "      <td>1451</td>\n",
              "    </tr>\n",
              "    <tr>\n",
              "      <th>Koran Tempo</th>\n",
              "      <td>1367</td>\n",
              "    </tr>\n",
              "    <tr>\n",
              "      <th>LANGKAH ANIES Serius Tenang Tuntas</th>\n",
              "      <td>1323</td>\n",
              "    </tr>\n",
              "    <tr>\n",
              "      <th>Benny K Harman</th>\n",
              "      <td>1129</td>\n",
              "    </tr>\n",
              "  </tbody>\n",
              "</table>\n",
              "</div>\n",
              "      <button class=\"colab-df-convert\" onclick=\"convertToInteractive('df-a2f0bc55-d543-4be4-b8af-f40f2967ab3b')\"\n",
              "              title=\"Convert this dataframe to an interactive table.\"\n",
              "              style=\"display:none;\">\n",
              "        \n",
              "  <svg xmlns=\"http://www.w3.org/2000/svg\" height=\"24px\"viewBox=\"0 0 24 24\"\n",
              "       width=\"24px\">\n",
              "    <path d=\"M0 0h24v24H0V0z\" fill=\"none\"/>\n",
              "    <path d=\"M18.56 5.44l.94 2.06.94-2.06 2.06-.94-2.06-.94-.94-2.06-.94 2.06-2.06.94zm-11 1L8.5 8.5l.94-2.06 2.06-.94-2.06-.94L8.5 2.5l-.94 2.06-2.06.94zm10 10l.94 2.06.94-2.06 2.06-.94-2.06-.94-.94-2.06-.94 2.06-2.06.94z\"/><path d=\"M17.41 7.96l-1.37-1.37c-.4-.4-.92-.59-1.43-.59-.52 0-1.04.2-1.43.59L10.3 9.45l-7.72 7.72c-.78.78-.78 2.05 0 2.83L4 21.41c.39.39.9.59 1.41.59.51 0 1.02-.2 1.41-.59l7.78-7.78 2.81-2.81c.8-.78.8-2.07 0-2.86zM5.41 20L4 18.59l7.72-7.72 1.47 1.35L5.41 20z\"/>\n",
              "  </svg>\n",
              "      </button>\n",
              "      \n",
              "  <style>\n",
              "    .colab-df-container {\n",
              "      display:flex;\n",
              "      flex-wrap:wrap;\n",
              "      gap: 12px;\n",
              "    }\n",
              "\n",
              "    .colab-df-convert {\n",
              "      background-color: #E8F0FE;\n",
              "      border: none;\n",
              "      border-radius: 50%;\n",
              "      cursor: pointer;\n",
              "      display: none;\n",
              "      fill: #1967D2;\n",
              "      height: 32px;\n",
              "      padding: 0 0 0 0;\n",
              "      width: 32px;\n",
              "    }\n",
              "\n",
              "    .colab-df-convert:hover {\n",
              "      background-color: #E2EBFA;\n",
              "      box-shadow: 0px 1px 2px rgba(60, 64, 67, 0.3), 0px 1px 3px 1px rgba(60, 64, 67, 0.15);\n",
              "      fill: #174EA6;\n",
              "    }\n",
              "\n",
              "    [theme=dark] .colab-df-convert {\n",
              "      background-color: #3B4455;\n",
              "      fill: #D2E3FC;\n",
              "    }\n",
              "\n",
              "    [theme=dark] .colab-df-convert:hover {\n",
              "      background-color: #434B5C;\n",
              "      box-shadow: 0px 1px 3px 1px rgba(0, 0, 0, 0.15);\n",
              "      filter: drop-shadow(0px 1px 2px rgba(0, 0, 0, 0.3));\n",
              "      fill: #FFFFFF;\n",
              "    }\n",
              "  </style>\n",
              "\n",
              "      <script>\n",
              "        const buttonEl =\n",
              "          document.querySelector('#df-a2f0bc55-d543-4be4-b8af-f40f2967ab3b button.colab-df-convert');\n",
              "        buttonEl.style.display =\n",
              "          google.colab.kernel.accessAllowed ? 'block' : 'none';\n",
              "\n",
              "        async function convertToInteractive(key) {\n",
              "          const element = document.querySelector('#df-a2f0bc55-d543-4be4-b8af-f40f2967ab3b');\n",
              "          const dataTable =\n",
              "            await google.colab.kernel.invokeFunction('convertToInteractive',\n",
              "                                                     [key], {});\n",
              "          if (!dataTable) return;\n",
              "\n",
              "          const docLinkHtml = 'Like what you see? Visit the ' +\n",
              "            '<a target=\"_blank\" href=https://colab.research.google.com/notebooks/data_table.ipynb>data table notebook</a>'\n",
              "            + ' to learn more about interactive tables.';\n",
              "          element.innerHTML = '';\n",
              "          dataTable['output_type'] = 'display_data';\n",
              "          await google.colab.output.renderOutput(dataTable, element);\n",
              "          const docLink = document.createElement('div');\n",
              "          docLink.innerHTML = docLinkHtml;\n",
              "          element.appendChild(docLink);\n",
              "        }\n",
              "      </script>\n",
              "    </div>\n",
              "  </div>\n",
              "  "
            ]
          },
          "metadata": {},
          "execution_count": 63
        }
      ]
    },
    {
      "cell_type": "markdown",
      "source": [
        "<font size=4>sebelumnya [disini](https://colab.research.google.com/drive/1WbEI-dqofRwc7jHvyNl8g0qWKe0jGGsS#scrollTo=KUe0k7X5nqV_&line=1&uniqifier=1) telah diketahui bahwa akun <mark>KPU_ID</mark> dengan display name KPU RI merupakan akun dengan jumlah tweet sebanyak <mark\">343 cuitan</mark> yang merupakan jumlah <mark>tweets terbanyak</mark> dalam data yang ada. Ternyata akun KPU RI juga merupakan akun dengan jumlah <mark>retweet terbanyak</mark> dari cuitan-cuitannya yaitu <mark>4576 retweets</mark>\\\n",
        "\\\n",
        "selanjutnya akan dilihat apakah akun dengan jumlah retweets banyak adalah akun yang juga memiliki jumlah tweet banyak</font>"
      ],
      "metadata": {
        "id": "H0JFb1ncunEM"
      }
    },
    {
      "cell_type": "code",
      "source": [
        "# mengambil data jumlah tweets dari masin2 akun\n",
        "TopAccTW = df.name.value_counts().rename_axis(\"display name\").reset_index(name=\"banyak tweet\").set_index(\"display name\")\n",
        "TopAccTW.head(10)"
      ],
      "metadata": {
        "colab": {
          "base_uri": "https://localhost:8080/"
        },
        "id": "K6YqaIdVvpBr",
        "outputId": "ac822601-6428-4294-9065-69b626c262be"
      },
      "execution_count": null,
      "outputs": [
        {
          "output_type": "execute_result",
          "data": {
            "text/plain": [
              "                         banyak tweet\n",
              "display name                         \n",
              "KPU RI                            343\n",
              "KPU LOMBOK TIMUR                  160\n",
              "KPU Karangasem                    131\n",
              "KPU Kabupaten Sambas              130\n",
              "KPU Provinsi Jawa Timur           127\n",
              "KPU Provinsi Kalbar               115\n",
              "KPU Kota Denpasar                 110\n",
              "KPU Kota Cimahi                   109\n",
              "chrissalia rebecca                100\n",
              "Naufal                            100"
            ],
            "text/html": [
              "\n",
              "  <div id=\"df-d3b40c23-345b-4637-bed0-681d9d20ef4f\">\n",
              "    <div class=\"colab-df-container\">\n",
              "      <div>\n",
              "<style scoped>\n",
              "    .dataframe tbody tr th:only-of-type {\n",
              "        vertical-align: middle;\n",
              "    }\n",
              "\n",
              "    .dataframe tbody tr th {\n",
              "        vertical-align: top;\n",
              "    }\n",
              "\n",
              "    .dataframe thead th {\n",
              "        text-align: right;\n",
              "    }\n",
              "</style>\n",
              "<table border=\"1\" class=\"dataframe\">\n",
              "  <thead>\n",
              "    <tr style=\"text-align: right;\">\n",
              "      <th></th>\n",
              "      <th>banyak tweet</th>\n",
              "    </tr>\n",
              "    <tr>\n",
              "      <th>display name</th>\n",
              "      <th></th>\n",
              "    </tr>\n",
              "  </thead>\n",
              "  <tbody>\n",
              "    <tr>\n",
              "      <th>KPU RI</th>\n",
              "      <td>343</td>\n",
              "    </tr>\n",
              "    <tr>\n",
              "      <th>KPU LOMBOK TIMUR</th>\n",
              "      <td>160</td>\n",
              "    </tr>\n",
              "    <tr>\n",
              "      <th>KPU Karangasem</th>\n",
              "      <td>131</td>\n",
              "    </tr>\n",
              "    <tr>\n",
              "      <th>KPU Kabupaten Sambas</th>\n",
              "      <td>130</td>\n",
              "    </tr>\n",
              "    <tr>\n",
              "      <th>KPU Provinsi Jawa Timur</th>\n",
              "      <td>127</td>\n",
              "    </tr>\n",
              "    <tr>\n",
              "      <th>KPU Provinsi Kalbar</th>\n",
              "      <td>115</td>\n",
              "    </tr>\n",
              "    <tr>\n",
              "      <th>KPU Kota Denpasar</th>\n",
              "      <td>110</td>\n",
              "    </tr>\n",
              "    <tr>\n",
              "      <th>KPU Kota Cimahi</th>\n",
              "      <td>109</td>\n",
              "    </tr>\n",
              "    <tr>\n",
              "      <th>chrissalia rebecca</th>\n",
              "      <td>100</td>\n",
              "    </tr>\n",
              "    <tr>\n",
              "      <th>Naufal</th>\n",
              "      <td>100</td>\n",
              "    </tr>\n",
              "  </tbody>\n",
              "</table>\n",
              "</div>\n",
              "      <button class=\"colab-df-convert\" onclick=\"convertToInteractive('df-d3b40c23-345b-4637-bed0-681d9d20ef4f')\"\n",
              "              title=\"Convert this dataframe to an interactive table.\"\n",
              "              style=\"display:none;\">\n",
              "        \n",
              "  <svg xmlns=\"http://www.w3.org/2000/svg\" height=\"24px\"viewBox=\"0 0 24 24\"\n",
              "       width=\"24px\">\n",
              "    <path d=\"M0 0h24v24H0V0z\" fill=\"none\"/>\n",
              "    <path d=\"M18.56 5.44l.94 2.06.94-2.06 2.06-.94-2.06-.94-.94-2.06-.94 2.06-2.06.94zm-11 1L8.5 8.5l.94-2.06 2.06-.94-2.06-.94L8.5 2.5l-.94 2.06-2.06.94zm10 10l.94 2.06.94-2.06 2.06-.94-2.06-.94-.94-2.06-.94 2.06-2.06.94z\"/><path d=\"M17.41 7.96l-1.37-1.37c-.4-.4-.92-.59-1.43-.59-.52 0-1.04.2-1.43.59L10.3 9.45l-7.72 7.72c-.78.78-.78 2.05 0 2.83L4 21.41c.39.39.9.59 1.41.59.51 0 1.02-.2 1.41-.59l7.78-7.78 2.81-2.81c.8-.78.8-2.07 0-2.86zM5.41 20L4 18.59l7.72-7.72 1.47 1.35L5.41 20z\"/>\n",
              "  </svg>\n",
              "      </button>\n",
              "      \n",
              "  <style>\n",
              "    .colab-df-container {\n",
              "      display:flex;\n",
              "      flex-wrap:wrap;\n",
              "      gap: 12px;\n",
              "    }\n",
              "\n",
              "    .colab-df-convert {\n",
              "      background-color: #E8F0FE;\n",
              "      border: none;\n",
              "      border-radius: 50%;\n",
              "      cursor: pointer;\n",
              "      display: none;\n",
              "      fill: #1967D2;\n",
              "      height: 32px;\n",
              "      padding: 0 0 0 0;\n",
              "      width: 32px;\n",
              "    }\n",
              "\n",
              "    .colab-df-convert:hover {\n",
              "      background-color: #E2EBFA;\n",
              "      box-shadow: 0px 1px 2px rgba(60, 64, 67, 0.3), 0px 1px 3px 1px rgba(60, 64, 67, 0.15);\n",
              "      fill: #174EA6;\n",
              "    }\n",
              "\n",
              "    [theme=dark] .colab-df-convert {\n",
              "      background-color: #3B4455;\n",
              "      fill: #D2E3FC;\n",
              "    }\n",
              "\n",
              "    [theme=dark] .colab-df-convert:hover {\n",
              "      background-color: #434B5C;\n",
              "      box-shadow: 0px 1px 3px 1px rgba(0, 0, 0, 0.15);\n",
              "      filter: drop-shadow(0px 1px 2px rgba(0, 0, 0, 0.3));\n",
              "      fill: #FFFFFF;\n",
              "    }\n",
              "  </style>\n",
              "\n",
              "      <script>\n",
              "        const buttonEl =\n",
              "          document.querySelector('#df-d3b40c23-345b-4637-bed0-681d9d20ef4f button.colab-df-convert');\n",
              "        buttonEl.style.display =\n",
              "          google.colab.kernel.accessAllowed ? 'block' : 'none';\n",
              "\n",
              "        async function convertToInteractive(key) {\n",
              "          const element = document.querySelector('#df-d3b40c23-345b-4637-bed0-681d9d20ef4f');\n",
              "          const dataTable =\n",
              "            await google.colab.kernel.invokeFunction('convertToInteractive',\n",
              "                                                     [key], {});\n",
              "          if (!dataTable) return;\n",
              "\n",
              "          const docLinkHtml = 'Like what you see? Visit the ' +\n",
              "            '<a target=\"_blank\" href=https://colab.research.google.com/notebooks/data_table.ipynb>data table notebook</a>'\n",
              "            + ' to learn more about interactive tables.';\n",
              "          element.innerHTML = '';\n",
              "          dataTable['output_type'] = 'display_data';\n",
              "          await google.colab.output.renderOutput(dataTable, element);\n",
              "          const docLink = document.createElement('div');\n",
              "          docLink.innerHTML = docLinkHtml;\n",
              "          element.appendChild(docLink);\n",
              "        }\n",
              "      </script>\n",
              "    </div>\n",
              "  </div>\n",
              "  "
            ]
          },
          "metadata": {},
          "execution_count": 64
        }
      ]
    },
    {
      "cell_type": "markdown",
      "source": [
        "<font size=4>Ternyata akun dengan retweets banyak tidak selalu memililiki jumlah tweets yang banyak, merupakan hal yang wajar jika akun resmi KPU memiliki jumlah tweets yang banyak karena KPU memiliki wewenang utama untuk keberlangsungan proses pesta demokrasi."
      ],
      "metadata": {
        "id": "OxmasgBe0-b8"
      }
    },
    {
      "cell_type": "code",
      "source": [
        "import numpy as np\n",
        "twXrt = pd.concat([TopAccTW, TopAccRT], axis=1).replace(np.NaN, 0).astype(\"int\") #replace NaN dengan 0 agar bisa convert ke integer\n",
        "# urutkan berdasarkan banyaknya retweets descending order\n",
        "twXrt.sort_values(\"nretweets\", ascending=False)[[\"nretweets\", \"banyak tweet\"]].head(10)"
      ],
      "metadata": {
        "colab": {
          "base_uri": "https://localhost:8080/"
        },
        "id": "Ts-KJydLw2aD",
        "outputId": "7c77492f-0fc2-426b-acc4-037ac36f9285"
      },
      "execution_count": null,
      "outputs": [
        {
          "output_type": "execute_result",
          "data": {
            "text/plain": [
              "                                    nretweets  banyak tweet\n",
              "KPU RI                                   4576           343\n",
              "Relawan Anies Baswedan                   2315             7\n",
              "OposisiCerdas.com                        2081            45\n",
              "#99                                      1875            25\n",
              "KamandanuNgapak900                       1652             1\n",
              "Democrazy News                           1600            27\n",
              "Lambe Waras                              1451            12\n",
              "Koran Tempo                              1367             6\n",
              "LANGKAH ANIES Serius Tenang Tuntas       1323            26\n",
              "Benny K Harman                           1129             2"
            ],
            "text/html": [
              "\n",
              "  <div id=\"df-4cdf4dea-5211-4079-bd6c-4368b63dca47\">\n",
              "    <div class=\"colab-df-container\">\n",
              "      <div>\n",
              "<style scoped>\n",
              "    .dataframe tbody tr th:only-of-type {\n",
              "        vertical-align: middle;\n",
              "    }\n",
              "\n",
              "    .dataframe tbody tr th {\n",
              "        vertical-align: top;\n",
              "    }\n",
              "\n",
              "    .dataframe thead th {\n",
              "        text-align: right;\n",
              "    }\n",
              "</style>\n",
              "<table border=\"1\" class=\"dataframe\">\n",
              "  <thead>\n",
              "    <tr style=\"text-align: right;\">\n",
              "      <th></th>\n",
              "      <th>nretweets</th>\n",
              "      <th>banyak tweet</th>\n",
              "    </tr>\n",
              "  </thead>\n",
              "  <tbody>\n",
              "    <tr>\n",
              "      <th>KPU RI</th>\n",
              "      <td>4576</td>\n",
              "      <td>343</td>\n",
              "    </tr>\n",
              "    <tr>\n",
              "      <th>Relawan Anies Baswedan</th>\n",
              "      <td>2315</td>\n",
              "      <td>7</td>\n",
              "    </tr>\n",
              "    <tr>\n",
              "      <th>OposisiCerdas.com</th>\n",
              "      <td>2081</td>\n",
              "      <td>45</td>\n",
              "    </tr>\n",
              "    <tr>\n",
              "      <th>#99</th>\n",
              "      <td>1875</td>\n",
              "      <td>25</td>\n",
              "    </tr>\n",
              "    <tr>\n",
              "      <th>KamandanuNgapak900</th>\n",
              "      <td>1652</td>\n",
              "      <td>1</td>\n",
              "    </tr>\n",
              "    <tr>\n",
              "      <th>Democrazy News</th>\n",
              "      <td>1600</td>\n",
              "      <td>27</td>\n",
              "    </tr>\n",
              "    <tr>\n",
              "      <th>Lambe Waras</th>\n",
              "      <td>1451</td>\n",
              "      <td>12</td>\n",
              "    </tr>\n",
              "    <tr>\n",
              "      <th>Koran Tempo</th>\n",
              "      <td>1367</td>\n",
              "      <td>6</td>\n",
              "    </tr>\n",
              "    <tr>\n",
              "      <th>LANGKAH ANIES Serius Tenang Tuntas</th>\n",
              "      <td>1323</td>\n",
              "      <td>26</td>\n",
              "    </tr>\n",
              "    <tr>\n",
              "      <th>Benny K Harman</th>\n",
              "      <td>1129</td>\n",
              "      <td>2</td>\n",
              "    </tr>\n",
              "  </tbody>\n",
              "</table>\n",
              "</div>\n",
              "      <button class=\"colab-df-convert\" onclick=\"convertToInteractive('df-4cdf4dea-5211-4079-bd6c-4368b63dca47')\"\n",
              "              title=\"Convert this dataframe to an interactive table.\"\n",
              "              style=\"display:none;\">\n",
              "        \n",
              "  <svg xmlns=\"http://www.w3.org/2000/svg\" height=\"24px\"viewBox=\"0 0 24 24\"\n",
              "       width=\"24px\">\n",
              "    <path d=\"M0 0h24v24H0V0z\" fill=\"none\"/>\n",
              "    <path d=\"M18.56 5.44l.94 2.06.94-2.06 2.06-.94-2.06-.94-.94-2.06-.94 2.06-2.06.94zm-11 1L8.5 8.5l.94-2.06 2.06-.94-2.06-.94L8.5 2.5l-.94 2.06-2.06.94zm10 10l.94 2.06.94-2.06 2.06-.94-2.06-.94-.94-2.06-.94 2.06-2.06.94z\"/><path d=\"M17.41 7.96l-1.37-1.37c-.4-.4-.92-.59-1.43-.59-.52 0-1.04.2-1.43.59L10.3 9.45l-7.72 7.72c-.78.78-.78 2.05 0 2.83L4 21.41c.39.39.9.59 1.41.59.51 0 1.02-.2 1.41-.59l7.78-7.78 2.81-2.81c.8-.78.8-2.07 0-2.86zM5.41 20L4 18.59l7.72-7.72 1.47 1.35L5.41 20z\"/>\n",
              "  </svg>\n",
              "      </button>\n",
              "      \n",
              "  <style>\n",
              "    .colab-df-container {\n",
              "      display:flex;\n",
              "      flex-wrap:wrap;\n",
              "      gap: 12px;\n",
              "    }\n",
              "\n",
              "    .colab-df-convert {\n",
              "      background-color: #E8F0FE;\n",
              "      border: none;\n",
              "      border-radius: 50%;\n",
              "      cursor: pointer;\n",
              "      display: none;\n",
              "      fill: #1967D2;\n",
              "      height: 32px;\n",
              "      padding: 0 0 0 0;\n",
              "      width: 32px;\n",
              "    }\n",
              "\n",
              "    .colab-df-convert:hover {\n",
              "      background-color: #E2EBFA;\n",
              "      box-shadow: 0px 1px 2px rgba(60, 64, 67, 0.3), 0px 1px 3px 1px rgba(60, 64, 67, 0.15);\n",
              "      fill: #174EA6;\n",
              "    }\n",
              "\n",
              "    [theme=dark] .colab-df-convert {\n",
              "      background-color: #3B4455;\n",
              "      fill: #D2E3FC;\n",
              "    }\n",
              "\n",
              "    [theme=dark] .colab-df-convert:hover {\n",
              "      background-color: #434B5C;\n",
              "      box-shadow: 0px 1px 3px 1px rgba(0, 0, 0, 0.15);\n",
              "      filter: drop-shadow(0px 1px 2px rgba(0, 0, 0, 0.3));\n",
              "      fill: #FFFFFF;\n",
              "    }\n",
              "  </style>\n",
              "\n",
              "      <script>\n",
              "        const buttonEl =\n",
              "          document.querySelector('#df-4cdf4dea-5211-4079-bd6c-4368b63dca47 button.colab-df-convert');\n",
              "        buttonEl.style.display =\n",
              "          google.colab.kernel.accessAllowed ? 'block' : 'none';\n",
              "\n",
              "        async function convertToInteractive(key) {\n",
              "          const element = document.querySelector('#df-4cdf4dea-5211-4079-bd6c-4368b63dca47');\n",
              "          const dataTable =\n",
              "            await google.colab.kernel.invokeFunction('convertToInteractive',\n",
              "                                                     [key], {});\n",
              "          if (!dataTable) return;\n",
              "\n",
              "          const docLinkHtml = 'Like what you see? Visit the ' +\n",
              "            '<a target=\"_blank\" href=https://colab.research.google.com/notebooks/data_table.ipynb>data table notebook</a>'\n",
              "            + ' to learn more about interactive tables.';\n",
              "          element.innerHTML = '';\n",
              "          dataTable['output_type'] = 'display_data';\n",
              "          await google.colab.output.renderOutput(dataTable, element);\n",
              "          const docLink = document.createElement('div');\n",
              "          docLink.innerHTML = docLinkHtml;\n",
              "          element.appendChild(docLink);\n",
              "        }\n",
              "      </script>\n",
              "    </div>\n",
              "  </div>\n",
              "  "
            ]
          },
          "metadata": {},
          "execution_count": 65
        }
      ]
    },
    {
      "cell_type": "markdown",
      "source": [
        "<font size=4> beberapa akun berpotensi menjadi central influence karena dengan tweets yang sedikit namun banyak di-retweet, terdapat beberapa akun tokoh seperti **Benny K Harman**, **Maudy Asmara**, hingga **Helmi Felis** yang bisa jadi memang memiliki pengaruh cukup kuat untuk penyebarluasan informasi, karena perbandingan antara jumlah tweets dan retweets nya.\\\n",
        "\\\n",
        "selanjutnya akan dilihat rata-rata retweets setiap tweet dari setiap tokoh untuk dilihat siapa yang memiliki rata-rata retweets terbanyak.</font>"
      ],
      "metadata": {
        "id": "PGTFZLQ--QLM"
      }
    },
    {
      "cell_type": "code",
      "source": [
        "twXrt[\"prop\"] = round(twXrt[\"nretweets\"]/twXrt[\"banyak tweet\"], 1)\n",
        "TopAccPR = twXrt.sort_values(\"prop\", ascending=False)[[\"prop\",\"nretweets\",\"banyak tweet\"]]\n",
        "TopAccPR.head(10)"
      ],
      "metadata": {
        "colab": {
          "base_uri": "https://localhost:8080/"
        },
        "id": "FN9tkUe0_ZuC",
        "outputId": "730f9c60-69e6-4027-bd03-a5a597853350"
      },
      "execution_count": null,
      "outputs": [
        {
          "output_type": "execute_result",
          "data": {
            "text/plain": [
              "                          prop  nretweets  banyak tweet\n",
              "KamandanuNgapak900      1652.0       1652             1\n",
              "The Panturas            1082.0       1082             1\n",
              "Benny K Harman           564.5       1129             2\n",
              "Partai Demokrat          491.0        491             1\n",
              "🄴🄺🄾 🅆🄸🄳🄾🄳🄾               439.0        878             2\n",
              "Maudy Asmara             370.7       1112             3\n",
              "Relawan Anies Baswedan   330.7       2315             7\n",
              "☀ Dhuha                  243.0        243             1\n",
              "Koran Tempo              227.8       1367             6\n",
              "Akbar Faizal             190.0        190             1"
            ],
            "text/html": [
              "\n",
              "  <div id=\"df-57fb67b6-faa0-46c0-9a94-45415e4223ff\">\n",
              "    <div class=\"colab-df-container\">\n",
              "      <div>\n",
              "<style scoped>\n",
              "    .dataframe tbody tr th:only-of-type {\n",
              "        vertical-align: middle;\n",
              "    }\n",
              "\n",
              "    .dataframe tbody tr th {\n",
              "        vertical-align: top;\n",
              "    }\n",
              "\n",
              "    .dataframe thead th {\n",
              "        text-align: right;\n",
              "    }\n",
              "</style>\n",
              "<table border=\"1\" class=\"dataframe\">\n",
              "  <thead>\n",
              "    <tr style=\"text-align: right;\">\n",
              "      <th></th>\n",
              "      <th>prop</th>\n",
              "      <th>nretweets</th>\n",
              "      <th>banyak tweet</th>\n",
              "    </tr>\n",
              "  </thead>\n",
              "  <tbody>\n",
              "    <tr>\n",
              "      <th>KamandanuNgapak900</th>\n",
              "      <td>1652.0</td>\n",
              "      <td>1652</td>\n",
              "      <td>1</td>\n",
              "    </tr>\n",
              "    <tr>\n",
              "      <th>The Panturas</th>\n",
              "      <td>1082.0</td>\n",
              "      <td>1082</td>\n",
              "      <td>1</td>\n",
              "    </tr>\n",
              "    <tr>\n",
              "      <th>Benny K Harman</th>\n",
              "      <td>564.5</td>\n",
              "      <td>1129</td>\n",
              "      <td>2</td>\n",
              "    </tr>\n",
              "    <tr>\n",
              "      <th>Partai Demokrat</th>\n",
              "      <td>491.0</td>\n",
              "      <td>491</td>\n",
              "      <td>1</td>\n",
              "    </tr>\n",
              "    <tr>\n",
              "      <th>🄴🄺🄾 🅆🄸🄳🄾🄳🄾</th>\n",
              "      <td>439.0</td>\n",
              "      <td>878</td>\n",
              "      <td>2</td>\n",
              "    </tr>\n",
              "    <tr>\n",
              "      <th>Maudy Asmara</th>\n",
              "      <td>370.7</td>\n",
              "      <td>1112</td>\n",
              "      <td>3</td>\n",
              "    </tr>\n",
              "    <tr>\n",
              "      <th>Relawan Anies Baswedan</th>\n",
              "      <td>330.7</td>\n",
              "      <td>2315</td>\n",
              "      <td>7</td>\n",
              "    </tr>\n",
              "    <tr>\n",
              "      <th>☀ Dhuha</th>\n",
              "      <td>243.0</td>\n",
              "      <td>243</td>\n",
              "      <td>1</td>\n",
              "    </tr>\n",
              "    <tr>\n",
              "      <th>Koran Tempo</th>\n",
              "      <td>227.8</td>\n",
              "      <td>1367</td>\n",
              "      <td>6</td>\n",
              "    </tr>\n",
              "    <tr>\n",
              "      <th>Akbar Faizal</th>\n",
              "      <td>190.0</td>\n",
              "      <td>190</td>\n",
              "      <td>1</td>\n",
              "    </tr>\n",
              "  </tbody>\n",
              "</table>\n",
              "</div>\n",
              "      <button class=\"colab-df-convert\" onclick=\"convertToInteractive('df-57fb67b6-faa0-46c0-9a94-45415e4223ff')\"\n",
              "              title=\"Convert this dataframe to an interactive table.\"\n",
              "              style=\"display:none;\">\n",
              "        \n",
              "  <svg xmlns=\"http://www.w3.org/2000/svg\" height=\"24px\"viewBox=\"0 0 24 24\"\n",
              "       width=\"24px\">\n",
              "    <path d=\"M0 0h24v24H0V0z\" fill=\"none\"/>\n",
              "    <path d=\"M18.56 5.44l.94 2.06.94-2.06 2.06-.94-2.06-.94-.94-2.06-.94 2.06-2.06.94zm-11 1L8.5 8.5l.94-2.06 2.06-.94-2.06-.94L8.5 2.5l-.94 2.06-2.06.94zm10 10l.94 2.06.94-2.06 2.06-.94-2.06-.94-.94-2.06-.94 2.06-2.06.94z\"/><path d=\"M17.41 7.96l-1.37-1.37c-.4-.4-.92-.59-1.43-.59-.52 0-1.04.2-1.43.59L10.3 9.45l-7.72 7.72c-.78.78-.78 2.05 0 2.83L4 21.41c.39.39.9.59 1.41.59.51 0 1.02-.2 1.41-.59l7.78-7.78 2.81-2.81c.8-.78.8-2.07 0-2.86zM5.41 20L4 18.59l7.72-7.72 1.47 1.35L5.41 20z\"/>\n",
              "  </svg>\n",
              "      </button>\n",
              "      \n",
              "  <style>\n",
              "    .colab-df-container {\n",
              "      display:flex;\n",
              "      flex-wrap:wrap;\n",
              "      gap: 12px;\n",
              "    }\n",
              "\n",
              "    .colab-df-convert {\n",
              "      background-color: #E8F0FE;\n",
              "      border: none;\n",
              "      border-radius: 50%;\n",
              "      cursor: pointer;\n",
              "      display: none;\n",
              "      fill: #1967D2;\n",
              "      height: 32px;\n",
              "      padding: 0 0 0 0;\n",
              "      width: 32px;\n",
              "    }\n",
              "\n",
              "    .colab-df-convert:hover {\n",
              "      background-color: #E2EBFA;\n",
              "      box-shadow: 0px 1px 2px rgba(60, 64, 67, 0.3), 0px 1px 3px 1px rgba(60, 64, 67, 0.15);\n",
              "      fill: #174EA6;\n",
              "    }\n",
              "\n",
              "    [theme=dark] .colab-df-convert {\n",
              "      background-color: #3B4455;\n",
              "      fill: #D2E3FC;\n",
              "    }\n",
              "\n",
              "    [theme=dark] .colab-df-convert:hover {\n",
              "      background-color: #434B5C;\n",
              "      box-shadow: 0px 1px 3px 1px rgba(0, 0, 0, 0.15);\n",
              "      filter: drop-shadow(0px 1px 2px rgba(0, 0, 0, 0.3));\n",
              "      fill: #FFFFFF;\n",
              "    }\n",
              "  </style>\n",
              "\n",
              "      <script>\n",
              "        const buttonEl =\n",
              "          document.querySelector('#df-57fb67b6-faa0-46c0-9a94-45415e4223ff button.colab-df-convert');\n",
              "        buttonEl.style.display =\n",
              "          google.colab.kernel.accessAllowed ? 'block' : 'none';\n",
              "\n",
              "        async function convertToInteractive(key) {\n",
              "          const element = document.querySelector('#df-57fb67b6-faa0-46c0-9a94-45415e4223ff');\n",
              "          const dataTable =\n",
              "            await google.colab.kernel.invokeFunction('convertToInteractive',\n",
              "                                                     [key], {});\n",
              "          if (!dataTable) return;\n",
              "\n",
              "          const docLinkHtml = 'Like what you see? Visit the ' +\n",
              "            '<a target=\"_blank\" href=https://colab.research.google.com/notebooks/data_table.ipynb>data table notebook</a>'\n",
              "            + ' to learn more about interactive tables.';\n",
              "          element.innerHTML = '';\n",
              "          dataTable['output_type'] = 'display_data';\n",
              "          await google.colab.output.renderOutput(dataTable, element);\n",
              "          const docLink = document.createElement('div');\n",
              "          docLink.innerHTML = docLinkHtml;\n",
              "          element.appendChild(docLink);\n",
              "        }\n",
              "      </script>\n",
              "    </div>\n",
              "  </div>\n",
              "  "
            ]
          },
          "metadata": {},
          "execution_count": 66
        }
      ]
    },
    {
      "cell_type": "markdown",
      "source": [
        "<font size=4>terlihat bahwa muncul beberapa nama akun yang menjadi potensi pusat pengaruh kuat dengan proporsi *(jumlah retweets ÷ jumlah tweet)* yang tinggi.\\\n",
        "\\\n",
        "beberapa akun tokoh seperti <mark>Maudy Asmara</mark>, <mark>Benny K Harman</mark> hingga <mark>Papa Loren</mark> juga <mark>Eko Widodo</mark> diindikasikan merupakan akun berpengaruh dalam topik Pilpres 2024 pada data yang ada.\\\n",
        "Juga muncul beberapa akun relawan/paguyuban/independen seperti <mark>Relawan Anies Baswedan</mark>, <mark>Lambe Waras</mark>, hingga <mark>SiraitBatakDusun<sup>TM</sup></mark>.\\\n",
        "Namun uniknya hanya ada satu akun media berita yang muncul yaitu <mark>Koran Tempo</mark> sebagai akun media berita yang masuk dalam Top 10 Potensi Berpengaruh dari data yang ada."
      ],
      "metadata": {
        "id": "0x8crnCUJ7lV"
      }
    },
    {
      "cell_type": "markdown",
      "source": [
        "## Observasi akun popular secara keseluruhan"
      ],
      "metadata": {
        "id": "pxue_OYQPjDK"
      }
    },
    {
      "cell_type": "code",
      "source": [
        "TopAccRE = df[[\"name\", \"nreplies\"]].groupby(\"name\").sum().sort_values(\"nreplies\", ascending=False) #akun popular berdasarkan jumlah Replies\n",
        "TopAccLK = df[[\"name\", \"nlikes\"]].groupby(\"name\").sum().sort_values(\"nlikes\", ascending=False) #akun popular berdasarkan jumlah likes"
      ],
      "metadata": {
        "id": "F1P17__iPoRi"
      },
      "execution_count": null,
      "outputs": []
    },
    {
      "cell_type": "code",
      "source": [
        "TopAcc = pd.DataFrame({\"Top 10 Proporsi\": TopAccPR.head(10).index.tolist(),\n",
        "                       \"Top 10 Tweets\": TopAccTW.head(10).index.tolist(),\n",
        "                       \"Top 10 Retweets\": TopAccRT.head(10).index.tolist(),\n",
        "                       \"Top 10 Likes\": TopAccLK.head(10).index.tolist(),\n",
        "                       \"Top 10 Replies\": TopAccRE.head(10).index.tolist()})\n",
        "TopAcc"
      ],
      "metadata": {
        "colab": {
          "base_uri": "https://localhost:8080/"
        },
        "id": "SeAak2MTSQ-9",
        "outputId": "853efcff-1fda-4a10-a248-941b6d06c489"
      },
      "execution_count": null,
      "outputs": [
        {
          "output_type": "execute_result",
          "data": {
            "text/plain": [
              "          Top 10 Proporsi            Top 10 Tweets  \\\n",
              "0      KamandanuNgapak900                   KPU RI   \n",
              "1            The Panturas         KPU LOMBOK TIMUR   \n",
              "2          Benny K Harman           KPU Karangasem   \n",
              "3         Partai Demokrat     KPU Kabupaten Sambas   \n",
              "4              🄴🄺🄾 🅆🄸🄳🄾🄳🄾  KPU Provinsi Jawa Timur   \n",
              "5            Maudy Asmara      KPU Provinsi Kalbar   \n",
              "6  Relawan Anies Baswedan        KPU Kota Denpasar   \n",
              "7                 ☀ Dhuha          KPU Kota Cimahi   \n",
              "8             Koran Tempo       chrissalia rebecca   \n",
              "9            Akbar Faizal                   Naufal   \n",
              "\n",
              "                      Top 10 Retweets                        Top 10 Likes  \\\n",
              "0                              KPU RI              Relawan Anies Baswedan   \n",
              "1              Relawan Anies Baswedan                              KPU RI   \n",
              "2                   OposisiCerdas.com                   OposisiCerdas.com   \n",
              "3                                 #99                        The Panturas   \n",
              "4                  KamandanuNgapak900                        Maudy Asmara   \n",
              "5                      Democrazy News                      Democrazy News   \n",
              "6                         Lambe Waras  LANGKAH ANIES Serius Tenang Tuntas   \n",
              "7                         Koran Tempo                         Lambe Waras   \n",
              "8  LANGKAH ANIES Serius Tenang Tuntas                                 #99   \n",
              "9                      Benny K Harman                      Benny K Harman   \n",
              "\n",
              "       Top 10 Replies  \n",
              "0      Democrazy News  \n",
              "1       CNN Indonesia  \n",
              "2   OposisiCerdas.com  \n",
              "3         GELORA NEWS  \n",
              "4     M. Haz Hasibuan  \n",
              "5      Benny K Harman  \n",
              "6  SiraitBatakDusun™️  \n",
              "7          Papa Loren  \n",
              "8         Helmi Felis  \n",
              "9            detikcom  "
            ],
            "text/html": [
              "\n",
              "  <div id=\"df-263463f4-5ff8-4a56-8dbb-47a79bc432c8\">\n",
              "    <div class=\"colab-df-container\">\n",
              "      <div>\n",
              "<style scoped>\n",
              "    .dataframe tbody tr th:only-of-type {\n",
              "        vertical-align: middle;\n",
              "    }\n",
              "\n",
              "    .dataframe tbody tr th {\n",
              "        vertical-align: top;\n",
              "    }\n",
              "\n",
              "    .dataframe thead th {\n",
              "        text-align: right;\n",
              "    }\n",
              "</style>\n",
              "<table border=\"1\" class=\"dataframe\">\n",
              "  <thead>\n",
              "    <tr style=\"text-align: right;\">\n",
              "      <th></th>\n",
              "      <th>Top 10 Proporsi</th>\n",
              "      <th>Top 10 Tweets</th>\n",
              "      <th>Top 10 Retweets</th>\n",
              "      <th>Top 10 Likes</th>\n",
              "      <th>Top 10 Replies</th>\n",
              "    </tr>\n",
              "  </thead>\n",
              "  <tbody>\n",
              "    <tr>\n",
              "      <th>0</th>\n",
              "      <td>KamandanuNgapak900</td>\n",
              "      <td>KPU RI</td>\n",
              "      <td>KPU RI</td>\n",
              "      <td>Relawan Anies Baswedan</td>\n",
              "      <td>Democrazy News</td>\n",
              "    </tr>\n",
              "    <tr>\n",
              "      <th>1</th>\n",
              "      <td>The Panturas</td>\n",
              "      <td>KPU LOMBOK TIMUR</td>\n",
              "      <td>Relawan Anies Baswedan</td>\n",
              "      <td>KPU RI</td>\n",
              "      <td>CNN Indonesia</td>\n",
              "    </tr>\n",
              "    <tr>\n",
              "      <th>2</th>\n",
              "      <td>Benny K Harman</td>\n",
              "      <td>KPU Karangasem</td>\n",
              "      <td>OposisiCerdas.com</td>\n",
              "      <td>OposisiCerdas.com</td>\n",
              "      <td>OposisiCerdas.com</td>\n",
              "    </tr>\n",
              "    <tr>\n",
              "      <th>3</th>\n",
              "      <td>Partai Demokrat</td>\n",
              "      <td>KPU Kabupaten Sambas</td>\n",
              "      <td>#99</td>\n",
              "      <td>The Panturas</td>\n",
              "      <td>GELORA NEWS</td>\n",
              "    </tr>\n",
              "    <tr>\n",
              "      <th>4</th>\n",
              "      <td>🄴🄺🄾 🅆🄸🄳🄾🄳🄾</td>\n",
              "      <td>KPU Provinsi Jawa Timur</td>\n",
              "      <td>KamandanuNgapak900</td>\n",
              "      <td>Maudy Asmara</td>\n",
              "      <td>M. Haz Hasibuan</td>\n",
              "    </tr>\n",
              "    <tr>\n",
              "      <th>5</th>\n",
              "      <td>Maudy Asmara</td>\n",
              "      <td>KPU Provinsi Kalbar</td>\n",
              "      <td>Democrazy News</td>\n",
              "      <td>Democrazy News</td>\n",
              "      <td>Benny K Harman</td>\n",
              "    </tr>\n",
              "    <tr>\n",
              "      <th>6</th>\n",
              "      <td>Relawan Anies Baswedan</td>\n",
              "      <td>KPU Kota Denpasar</td>\n",
              "      <td>Lambe Waras</td>\n",
              "      <td>LANGKAH ANIES Serius Tenang Tuntas</td>\n",
              "      <td>SiraitBatakDusun™️</td>\n",
              "    </tr>\n",
              "    <tr>\n",
              "      <th>7</th>\n",
              "      <td>☀ Dhuha</td>\n",
              "      <td>KPU Kota Cimahi</td>\n",
              "      <td>Koran Tempo</td>\n",
              "      <td>Lambe Waras</td>\n",
              "      <td>Papa Loren</td>\n",
              "    </tr>\n",
              "    <tr>\n",
              "      <th>8</th>\n",
              "      <td>Koran Tempo</td>\n",
              "      <td>chrissalia rebecca</td>\n",
              "      <td>LANGKAH ANIES Serius Tenang Tuntas</td>\n",
              "      <td>#99</td>\n",
              "      <td>Helmi Felis</td>\n",
              "    </tr>\n",
              "    <tr>\n",
              "      <th>9</th>\n",
              "      <td>Akbar Faizal</td>\n",
              "      <td>Naufal</td>\n",
              "      <td>Benny K Harman</td>\n",
              "      <td>Benny K Harman</td>\n",
              "      <td>detikcom</td>\n",
              "    </tr>\n",
              "  </tbody>\n",
              "</table>\n",
              "</div>\n",
              "      <button class=\"colab-df-convert\" onclick=\"convertToInteractive('df-263463f4-5ff8-4a56-8dbb-47a79bc432c8')\"\n",
              "              title=\"Convert this dataframe to an interactive table.\"\n",
              "              style=\"display:none;\">\n",
              "        \n",
              "  <svg xmlns=\"http://www.w3.org/2000/svg\" height=\"24px\"viewBox=\"0 0 24 24\"\n",
              "       width=\"24px\">\n",
              "    <path d=\"M0 0h24v24H0V0z\" fill=\"none\"/>\n",
              "    <path d=\"M18.56 5.44l.94 2.06.94-2.06 2.06-.94-2.06-.94-.94-2.06-.94 2.06-2.06.94zm-11 1L8.5 8.5l.94-2.06 2.06-.94-2.06-.94L8.5 2.5l-.94 2.06-2.06.94zm10 10l.94 2.06.94-2.06 2.06-.94-2.06-.94-.94-2.06-.94 2.06-2.06.94z\"/><path d=\"M17.41 7.96l-1.37-1.37c-.4-.4-.92-.59-1.43-.59-.52 0-1.04.2-1.43.59L10.3 9.45l-7.72 7.72c-.78.78-.78 2.05 0 2.83L4 21.41c.39.39.9.59 1.41.59.51 0 1.02-.2 1.41-.59l7.78-7.78 2.81-2.81c.8-.78.8-2.07 0-2.86zM5.41 20L4 18.59l7.72-7.72 1.47 1.35L5.41 20z\"/>\n",
              "  </svg>\n",
              "      </button>\n",
              "      \n",
              "  <style>\n",
              "    .colab-df-container {\n",
              "      display:flex;\n",
              "      flex-wrap:wrap;\n",
              "      gap: 12px;\n",
              "    }\n",
              "\n",
              "    .colab-df-convert {\n",
              "      background-color: #E8F0FE;\n",
              "      border: none;\n",
              "      border-radius: 50%;\n",
              "      cursor: pointer;\n",
              "      display: none;\n",
              "      fill: #1967D2;\n",
              "      height: 32px;\n",
              "      padding: 0 0 0 0;\n",
              "      width: 32px;\n",
              "    }\n",
              "\n",
              "    .colab-df-convert:hover {\n",
              "      background-color: #E2EBFA;\n",
              "      box-shadow: 0px 1px 2px rgba(60, 64, 67, 0.3), 0px 1px 3px 1px rgba(60, 64, 67, 0.15);\n",
              "      fill: #174EA6;\n",
              "    }\n",
              "\n",
              "    [theme=dark] .colab-df-convert {\n",
              "      background-color: #3B4455;\n",
              "      fill: #D2E3FC;\n",
              "    }\n",
              "\n",
              "    [theme=dark] .colab-df-convert:hover {\n",
              "      background-color: #434B5C;\n",
              "      box-shadow: 0px 1px 3px 1px rgba(0, 0, 0, 0.15);\n",
              "      filter: drop-shadow(0px 1px 2px rgba(0, 0, 0, 0.3));\n",
              "      fill: #FFFFFF;\n",
              "    }\n",
              "  </style>\n",
              "\n",
              "      <script>\n",
              "        const buttonEl =\n",
              "          document.querySelector('#df-263463f4-5ff8-4a56-8dbb-47a79bc432c8 button.colab-df-convert');\n",
              "        buttonEl.style.display =\n",
              "          google.colab.kernel.accessAllowed ? 'block' : 'none';\n",
              "\n",
              "        async function convertToInteractive(key) {\n",
              "          const element = document.querySelector('#df-263463f4-5ff8-4a56-8dbb-47a79bc432c8');\n",
              "          const dataTable =\n",
              "            await google.colab.kernel.invokeFunction('convertToInteractive',\n",
              "                                                     [key], {});\n",
              "          if (!dataTable) return;\n",
              "\n",
              "          const docLinkHtml = 'Like what you see? Visit the ' +\n",
              "            '<a target=\"_blank\" href=https://colab.research.google.com/notebooks/data_table.ipynb>data table notebook</a>'\n",
              "            + ' to learn more about interactive tables.';\n",
              "          element.innerHTML = '';\n",
              "          dataTable['output_type'] = 'display_data';\n",
              "          await google.colab.output.renderOutput(dataTable, element);\n",
              "          const docLink = document.createElement('div');\n",
              "          docLink.innerHTML = docLinkHtml;\n",
              "          element.appendChild(docLink);\n",
              "        }\n",
              "      </script>\n",
              "    </div>\n",
              "  </div>\n",
              "  "
            ]
          },
          "metadata": {},
          "execution_count": 68
        }
      ]
    },
    {
      "cell_type": "markdown",
      "source": [
        "<font size=4>selanjutnya akan dilihat banyaknya kemunculan masing2 akun dalam daftar Top 10 of"
      ],
      "metadata": {
        "id": "8kT427t9Z0kz"
      }
    },
    {
      "cell_type": "code",
      "source": [
        "TopAcc = TopAcc.reset_index(names=\"rank\")\n",
        "TopAccMelted = TopAcc.melt(id_vars=\"rank\", value_vars=TopAcc.columns.values[1:], value_name=\"name\", var_name=\"top 10 of\")\n",
        "TopAccMelted.name.value_counts().rename_axis(\"name\").reset_index(name=\"kemunculan\").head(10)"
      ],
      "metadata": {
        "colab": {
          "base_uri": "https://localhost:8080/"
        },
        "id": "d4ahPVnOUK6O",
        "outputId": "fae8cbd2-06e6-44c6-9856-e9846b063abf"
      },
      "execution_count": null,
      "outputs": [
        {
          "output_type": "execute_result",
          "data": {
            "text/plain": [
              "                                 name  kemunculan\n",
              "0                      Benny K Harman           4\n",
              "1                   OposisiCerdas.com           3\n",
              "2                              KPU RI           3\n",
              "3                      Democrazy News           3\n",
              "4              Relawan Anies Baswedan           3\n",
              "5                                 #99           2\n",
              "6                        The Panturas           2\n",
              "7                         Lambe Waras           2\n",
              "8  LANGKAH ANIES Serius Tenang Tuntas           2\n",
              "9                  KamandanuNgapak900           2"
            ],
            "text/html": [
              "\n",
              "  <div id=\"df-4188a035-2b87-4094-9b46-c1b07142644a\">\n",
              "    <div class=\"colab-df-container\">\n",
              "      <div>\n",
              "<style scoped>\n",
              "    .dataframe tbody tr th:only-of-type {\n",
              "        vertical-align: middle;\n",
              "    }\n",
              "\n",
              "    .dataframe tbody tr th {\n",
              "        vertical-align: top;\n",
              "    }\n",
              "\n",
              "    .dataframe thead th {\n",
              "        text-align: right;\n",
              "    }\n",
              "</style>\n",
              "<table border=\"1\" class=\"dataframe\">\n",
              "  <thead>\n",
              "    <tr style=\"text-align: right;\">\n",
              "      <th></th>\n",
              "      <th>name</th>\n",
              "      <th>kemunculan</th>\n",
              "    </tr>\n",
              "  </thead>\n",
              "  <tbody>\n",
              "    <tr>\n",
              "      <th>0</th>\n",
              "      <td>Benny K Harman</td>\n",
              "      <td>4</td>\n",
              "    </tr>\n",
              "    <tr>\n",
              "      <th>1</th>\n",
              "      <td>OposisiCerdas.com</td>\n",
              "      <td>3</td>\n",
              "    </tr>\n",
              "    <tr>\n",
              "      <th>2</th>\n",
              "      <td>KPU RI</td>\n",
              "      <td>3</td>\n",
              "    </tr>\n",
              "    <tr>\n",
              "      <th>3</th>\n",
              "      <td>Democrazy News</td>\n",
              "      <td>3</td>\n",
              "    </tr>\n",
              "    <tr>\n",
              "      <th>4</th>\n",
              "      <td>Relawan Anies Baswedan</td>\n",
              "      <td>3</td>\n",
              "    </tr>\n",
              "    <tr>\n",
              "      <th>5</th>\n",
              "      <td>#99</td>\n",
              "      <td>2</td>\n",
              "    </tr>\n",
              "    <tr>\n",
              "      <th>6</th>\n",
              "      <td>The Panturas</td>\n",
              "      <td>2</td>\n",
              "    </tr>\n",
              "    <tr>\n",
              "      <th>7</th>\n",
              "      <td>Lambe Waras</td>\n",
              "      <td>2</td>\n",
              "    </tr>\n",
              "    <tr>\n",
              "      <th>8</th>\n",
              "      <td>LANGKAH ANIES Serius Tenang Tuntas</td>\n",
              "      <td>2</td>\n",
              "    </tr>\n",
              "    <tr>\n",
              "      <th>9</th>\n",
              "      <td>KamandanuNgapak900</td>\n",
              "      <td>2</td>\n",
              "    </tr>\n",
              "  </tbody>\n",
              "</table>\n",
              "</div>\n",
              "      <button class=\"colab-df-convert\" onclick=\"convertToInteractive('df-4188a035-2b87-4094-9b46-c1b07142644a')\"\n",
              "              title=\"Convert this dataframe to an interactive table.\"\n",
              "              style=\"display:none;\">\n",
              "        \n",
              "  <svg xmlns=\"http://www.w3.org/2000/svg\" height=\"24px\"viewBox=\"0 0 24 24\"\n",
              "       width=\"24px\">\n",
              "    <path d=\"M0 0h24v24H0V0z\" fill=\"none\"/>\n",
              "    <path d=\"M18.56 5.44l.94 2.06.94-2.06 2.06-.94-2.06-.94-.94-2.06-.94 2.06-2.06.94zm-11 1L8.5 8.5l.94-2.06 2.06-.94-2.06-.94L8.5 2.5l-.94 2.06-2.06.94zm10 10l.94 2.06.94-2.06 2.06-.94-2.06-.94-.94-2.06-.94 2.06-2.06.94z\"/><path d=\"M17.41 7.96l-1.37-1.37c-.4-.4-.92-.59-1.43-.59-.52 0-1.04.2-1.43.59L10.3 9.45l-7.72 7.72c-.78.78-.78 2.05 0 2.83L4 21.41c.39.39.9.59 1.41.59.51 0 1.02-.2 1.41-.59l7.78-7.78 2.81-2.81c.8-.78.8-2.07 0-2.86zM5.41 20L4 18.59l7.72-7.72 1.47 1.35L5.41 20z\"/>\n",
              "  </svg>\n",
              "      </button>\n",
              "      \n",
              "  <style>\n",
              "    .colab-df-container {\n",
              "      display:flex;\n",
              "      flex-wrap:wrap;\n",
              "      gap: 12px;\n",
              "    }\n",
              "\n",
              "    .colab-df-convert {\n",
              "      background-color: #E8F0FE;\n",
              "      border: none;\n",
              "      border-radius: 50%;\n",
              "      cursor: pointer;\n",
              "      display: none;\n",
              "      fill: #1967D2;\n",
              "      height: 32px;\n",
              "      padding: 0 0 0 0;\n",
              "      width: 32px;\n",
              "    }\n",
              "\n",
              "    .colab-df-convert:hover {\n",
              "      background-color: #E2EBFA;\n",
              "      box-shadow: 0px 1px 2px rgba(60, 64, 67, 0.3), 0px 1px 3px 1px rgba(60, 64, 67, 0.15);\n",
              "      fill: #174EA6;\n",
              "    }\n",
              "\n",
              "    [theme=dark] .colab-df-convert {\n",
              "      background-color: #3B4455;\n",
              "      fill: #D2E3FC;\n",
              "    }\n",
              "\n",
              "    [theme=dark] .colab-df-convert:hover {\n",
              "      background-color: #434B5C;\n",
              "      box-shadow: 0px 1px 3px 1px rgba(0, 0, 0, 0.15);\n",
              "      filter: drop-shadow(0px 1px 2px rgba(0, 0, 0, 0.3));\n",
              "      fill: #FFFFFF;\n",
              "    }\n",
              "  </style>\n",
              "\n",
              "      <script>\n",
              "        const buttonEl =\n",
              "          document.querySelector('#df-4188a035-2b87-4094-9b46-c1b07142644a button.colab-df-convert');\n",
              "        buttonEl.style.display =\n",
              "          google.colab.kernel.accessAllowed ? 'block' : 'none';\n",
              "\n",
              "        async function convertToInteractive(key) {\n",
              "          const element = document.querySelector('#df-4188a035-2b87-4094-9b46-c1b07142644a');\n",
              "          const dataTable =\n",
              "            await google.colab.kernel.invokeFunction('convertToInteractive',\n",
              "                                                     [key], {});\n",
              "          if (!dataTable) return;\n",
              "\n",
              "          const docLinkHtml = 'Like what you see? Visit the ' +\n",
              "            '<a target=\"_blank\" href=https://colab.research.google.com/notebooks/data_table.ipynb>data table notebook</a>'\n",
              "            + ' to learn more about interactive tables.';\n",
              "          element.innerHTML = '';\n",
              "          dataTable['output_type'] = 'display_data';\n",
              "          await google.colab.output.renderOutput(dataTable, element);\n",
              "          const docLink = document.createElement('div');\n",
              "          docLink.innerHTML = docLinkHtml;\n",
              "          element.appendChild(docLink);\n",
              "        }\n",
              "      </script>\n",
              "    </div>\n",
              "  </div>\n",
              "  "
            ]
          },
          "metadata": {},
          "execution_count": 69
        }
      ]
    },
    {
      "cell_type": "markdown",
      "source": [
        "<font size=4>akun tokoh <mark>Benny K Harman</mark> muncul 4 kali masing2 dalam Top Proporsi, Retweets, Likes, dan Replies. sedangkan sisanya diikuti oleh berbagai akun media berita, organisasi/lembaga, hingga relawan/simpatisan.\\\n",
        "\\\n",
        "jika dilihat dari eksplorasi awal ini maka akun <mark>Benny K Harman</mark> menjadi <mark>tokoh penting</mark> yang berpengaruh dalam topik <mark>Pilpres 2024</mark> di <mark>Twitter</mark> dengan rentang waktu Agustus-Desember 2022.\\\n",
        "\\\n",
        "Menurut data, hingga saat ini belum ada akun media berita televisi di Twitter yang masuk dalam jajaran berpengaruh berdasarkan metriks diatas.\n",
        "</font>"
      ],
      "metadata": {
        "id": "mkZf7MgQaYNS"
      }
    },
    {
      "cell_type": "markdown",
      "source": [
        "# Ekplorasi Data Tweets"
      ],
      "metadata": {
        "id": "xVE2kCn-d5dD"
      }
    },
    {
      "cell_type": "markdown",
      "source": [
        "## Preprocess data tweets\n",
        "<font size=4>preprocess data tweet ini menggunakan library yang sudah disediakan ole taudata. Setelah dijalankan, preprocess memakan waktu 58 menit, sehingga untuk efisiensi rerun notebook data hasil prerprocess akan disimpan dan beberapa cell preprocess akan di-skip.</font>\n",
        "\n",
        "<center><a href=https://raw.githubusercontent.com/mdzakyjaya/Final_Project_ADM/main/gambar/cleaning%20time.png><img src=https://raw.githubusercontent.com/mdzakyjaya/Final_Project_ADM/main/gambar/cleaning%20time.png alt=\"time elapsed\"></img></a></center>\n",
        "<center><i>waktu preprocessing 58 menit untuk 30507 tweets 650 ribu total kata</i></center>"
      ],
      "metadata": {
        "id": "9k4OCNV5h8mN"
      }
    },
    {
      "cell_type": "code",
      "source": [
        "%%script echo skipping\n",
        "import nltk\n",
        "!pip install unidecode\n",
        "!pip install textblob\n",
        "!pip install sastrawi\n",
        "nltk.download(\"popular\")\n",
        "\n",
        "!wget https://raw.githubusercontent.com/taudata-indonesia/eLearning/master/taudataEDA02CTA.py\n",
        "!mkdir data\n",
        "!wget -P data/ https://raw.githubusercontent.com/taudata-indonesia/eLearning/master/data/slang.txt\n",
        "!wget -P data/ https://raw.githubusercontent.com/taudata-indonesia/eLearning/master/data/stopwords_id.txt\n",
        "!wget -P data/ https://raw.githubusercontent.com/taudata-indonesia/eLearning/master/data/stopwords_en.txt\n",
        "!wget -P data/ https://raw.githubusercontent.com/taudata-indonesia/eLearning/master/data/corpus_sederhana.txt"
      ],
      "metadata": {
        "id": "6_4fsd_6yNwi",
        "colab": {
          "base_uri": "https://localhost:8080/"
        },
        "outputId": "e689176a-7834-40c5-ed0d-fd1813c51391"
      },
      "execution_count": null,
      "outputs": [
        {
          "output_type": "stream",
          "name": "stdout",
          "text": [
            "skipping\n"
          ]
        }
      ]
    },
    {
      "cell_type": "code",
      "source": [
        "%%script echo skipping\n",
        "import taudataEDA02CTA as tau\n",
        "from tqdm import tqdm\n",
        "\n",
        "# mengambil data tweet ke dalam list\n",
        "tweets = df.tweet.tolist()\n",
        "\n",
        "stopId, lemmaId = tau.LoadStopWords(lang='id')\n",
        "slangFixId = tau.loadCorpus(file = 'data/slang.txt', sep=':')\n",
        "\n",
        "clean_tweets = []\n",
        "for tweet in tqdm(tweets):\n",
        "    clean_tweets.append(tau.cleanText(tweet, lemma=lemmaId, lan='id', stops = stopId, fix=slangFixId))"
      ],
      "metadata": {
        "colab": {
          "base_uri": "https://localhost:8080/"
        },
        "id": "V5btBmQJQpav",
        "outputId": "3b1db10c-0e9a-429f-990a-c872efbfb371"
      },
      "execution_count": null,
      "outputs": [
        {
          "output_type": "stream",
          "name": "stdout",
          "text": [
            "skipping\n"
          ]
        }
      ]
    },
    {
      "cell_type": "code",
      "source": [
        "%%script echo skipping\n",
        "# simpan data tweet yang sudah dibersihkan\n",
        "with open(\"tweets.txt\", \"w\") as f:\n",
        "    for tweet in clean_tweets:\n",
        "        f.write(tweet+\"\\n\")"
      ],
      "metadata": {
        "id": "YNc8wpk0g2Np",
        "colab": {
          "base_uri": "https://localhost:8080/"
        },
        "outputId": "4d006525-52e6-49bf-bc04-334851f679da"
      },
      "execution_count": null,
      "outputs": [
        {
          "output_type": "stream",
          "name": "stdout",
          "text": [
            "skipping\n"
          ]
        }
      ]
    },
    {
      "cell_type": "code",
      "source": [
        "%%script echo skipping\n",
        "# mengurut data tweet berdasarkan tanggal\n",
        "tweets_sorted = df.sort_values(\"date\")[\"tweet\"].tolist()\n",
        "clean_sorted = []\n",
        "for tw_sort in tqdm(tweets_sorted):\n",
        "    clean_sorted.append(tau.cleanText(tw_sort, lemma=lemmaId, lan='id', stops = stopId, fix=slangFixId))\n",
        "\n",
        "# simpan data tweet yang sudah dibersihkan\n",
        "with open(\"tw_sorted.txt\", \"w\") as f:\n",
        "    for twsorted in clean_sorted:\n",
        "        f.write(twsorted+\"\\n\")"
      ],
      "metadata": {
        "colab": {
          "base_uri": "https://localhost:8080/"
        },
        "id": "wPU3RDPB48Ug",
        "outputId": "d2573080-a016-490a-fded-28ca1db903c1"
      },
      "execution_count": null,
      "outputs": [
        {
          "output_type": "stream",
          "name": "stdout",
          "text": [
            "skipping\n"
          ]
        }
      ]
    },
    {
      "cell_type": "markdown",
      "source": [
        "## Melihat kata yang paling sering muncul"
      ],
      "metadata": {
        "id": "m2GdH4TDJ9DF"
      }
    },
    {
      "cell_type": "markdown",
      "source": [
        "<p><font size=4> \n",
        "Setelah data di preprocess (tokenisasi, spell check, slang replacement, removing stopwords, hingga lematisasi), data hasil preperocess yang disimpan kemudian dilakukan visualisasi dengan Voyant Tools\n",
        "</font></p>\n",
        "\n",
        "<center><a href=https://github.com/mdzakyjaya/Final_Project_ADM/blob/main/gambar/wc3.png?raw=true bg=\"white\"><img src=https://github.com/mdzakyjaya/Final_Project_ADM/blob/main/gambar/wc3.png?raw=true bg=\"white\" title=\"word cloud all tweets\"></img></a></center>\n",
        "\n",
        "<p><font size=4> \n",
        "pada data tweet yang ada, dapat dilihat bahwa topik Pilpres 2024 di Twitter dalam rentang waktu Agustus-Desember 2022 muncul berbagai nama tokoh seperti <mark>Jokowi</mark>, <mark>Prabowo</mark>, <mark>Anies</mark> hingga <mark>Ganjar</mark>\n",
        "</font></p>\n",
        "\n",
        "<p><font size=4>\n",
        "Ada hal yang unik yaitu pada tokoh Prabowo. Pada tahap paling awal yaitu ketika scrapping data dari twitter, <i>keyword</i> <b>\"prabowo presiden\"</b> hanya berhasil mendapatkan 168 tweets, sementara tokoh lainnya seperti Jokowi dan Anies dapat hingga 10 ribu twweets, Ganjar hampir 1000 tweets, artinya tokoh Prabowo merupakan keyword tweet yang paling sedikit hasil scrape-nya. Namun jika dilihat hasil visualisasi data, nama Probowo justru muncul dengan cukup menonjol diikuti oleh beberpa kalimat yang juga tampil menonjol seperti \"terusmajubersamaprabowo\" hingga \"mendingprabowo\". Hal ini terjadi dimungkinkan karena tokoh Prabowo merupakan Menteri yang sekaligus hendak mencalonkan diri untuk Pilpres 2024<a href=https://news.detik.com/berita/d-6232702/profil-prabowo-subianto-yang-nyatakan-siap-jadi-capres-2024><sub>(sumber)</sub></a>, sehingga namanya bisa jadi muncul di beberapa tweet dengan keyword lain.\n",
        "</font></p>\n",
        "\n",
        "<p><font size=4>\n",
        "Ada kata yang jauh hubungannya dengan Pilpres 2024 dan cukup sensitif yaitu \"Khilafah\" dengan kemunculan hingga <a href=https://github.com/mdzakyjaya/Final_Project_ADM/blob/main/gambar/khilafah_occurance.png?raw=true>500 kali dalam tweet</a>. Kata khilafah ini ternyata sering ditemukan bersama dengan tokoh Anies <i>(tidak berarti pasti bersebelahan)</i> dalam satu tweet yang sama, sehingga akan dilihat potensi trend antara tokoh Anies dengan kata khilafah\n",
        "</font></p>\n",
        "\n",
        "<center>\n",
        "<a href=https://raw.githubusercontent.com/mdzakyjaya/Final_Project_ADM/main/gambar/wordtree-KHILAFAH.png><img src=https://raw.githubusercontent.com/mdzakyjaya/Final_Project_ADM/main/gambar/wordtree-KHILAFAH.png width=35% title=\"Kata sering muncul bersamaan Khilafah\"></a>\n",
        "<a href=https://github.com/mdzakyjaya/Final_Project_ADM/blob/main/gambar/khilafah_anies_trends.png?raw=true><img src=https://github.com/mdzakyjaya/Final_Project_ADM/blob/main/gambar/khilafah_anies_trends.png?raw=true width=60% title=\"Trend antara kata Khilafah dengan Tokoh Anies\"></a>\n",
        "</center>\n",
        "\n",
        "<p><font size=4>\n",
        "kata Khilafah dan tokoh Anies muncul bersamaan dan memiliki trend yang serupa antara dokumen segmen 3 hingga 7 <i>(terdapat ± 30 ribu tweet, data dibagi 10 segmen artinya persegmen ± 3000 tweet)</i>. Selanjutnya akan dilihat trend setiap tokoh pada tweets.\n",
        "</font></p>\n",
        "\n",
        "<center><a href=https://github.com/mdzakyjaya/Final_Project_ADM/blob/main/gambar/all_tokoh.png?=true><img src=https://github.com/mdzakyjaya/Final_Project_ADM/blob/main/gambar/all_tokoh.png?raw=true title=\"Kemunculan masing2 tokoh pada setiap segment\" width=84%></img></a></center>\n",
        "\n",
        "<p><font size=4>\n",
        "Masing-masing tokoh seperti memiliki \"segmen\"-nya sendiri, setiap tokoh muncul secara signifikan pada segmen tertentu. Tokoh Prabowo banyak muncul diawal2 data tweet, lalu turun sembari diikuti dengan meningkatnya tokoh Jokowi, kemudian Jokowi turun diikuti dengan naiknya tokoh Anies. Kemungkinan Ini terjadi karena diawal pengumpulan data ketika penulis melakukan concat/penggabungan data dari setiap subtopik yang dikueri secara terpisah, hasil penggabungan tidak diurut berdasarkan waktu(tanggal). Maka perlu diketahui bahwa trend pada gambar bukan trend waktu melainkan segmen tweet dengan subtopik yang memang berbeda-beda. Oleh karena itu, data akan data tweet akan diurutkan berdasarkan waktu dan kemudian dipreprocess ulang seperti pada cell \"preprocess data tweets\"\n",
        "</font></p>\n",
        "\n",
        "<h1>Setelah diurut berdasarkan waktu</h1>\n",
        "\n",
        "<p><font size=4>\n",
        "setelah data tweets diurutkan berdasarkan waktu posting dan di-preprocess ulang (±62 menit) menggunakan fungsi dari library taudata didapatkan grafik untuk keempat tokoh sebagai berikut:\n",
        "</font></p>\n",
        "\n",
        "<center><a href=https://github.com/mdzakyjaya/Final_Project_ADM/blob/main/gambar/all_tokoh_ordered.png?raw=true><img src=https://github.com/mdzakyjaya/Final_Project_ADM/blob/main/gambar/all_tokoh_ordered.png?raw=true title=\"trend tokoh setelah order tanggal\"></img></a></center>\n",
        "\n",
        "<p><font size=4> \n",
        "terlihat perbedaan yang signifikan jika dibandingkan dengan grafik sebelumnya. Namun setiap tokoh tetap memiliki trend-nya masing-masing. Kali ini segmentasi tidak hanya membagi data twitter tapi juga sekaligus membagi berdasarkan rentang tanggal (22 Agustus - 28 Desember 2022). karena data ±4 bulan artinya ada ±120 hari dibagi 10 segmen, maka persegmen ±13 hari.\n",
        "\n",
        "<ul>\n",
        "<li>\n",
        "Tokoh Jokowi terlihat muncul sangat banyak di akhir Agustus dan terus turun hingga akhir September\n",
        "</li>\n",
        "<li>\n",
        "Tokoh Anis mulai muncul di awal Oktober dan terus meningkat di berbagai tweet hingga awal Desember dan mulai menyusut turun\n",
        "</li>\n",
        "<li>\n",
        "Tokoh Ganjar sempat \"hype\" di bulan Desember ini\n",
        "</li>\n",
        "<li>\n",
        "Tokoh Prabowo banyak sekali muncul menjelang akhir tahun 2022\n",
        "</li>\n",
        "</ul>\n",
        "Tokoh Jokowi muncul disetiap rentang waktu data. Namun ada yang unik dari tokoh Prabowo yang namanya muncul sangat banyak di menjelang akhir tahun 2022 ini bisa jadi karena pada waktu-waktu tersebut ada pernyataan resmi bahwa <a href=https://nasional.kompas.com/read/2022/12/21/10373361/gerindra-tegaskan-prabowo-capres-tunggal-selain-itu-ilegal>tokoh Prabowo akan maju sebagai Capres 2024</a>. Kemunculan signifikan tokoh Anies di rentang bulan Oktober-November juga bisa disebabkan karena pada bulan tersebut tokoh Anies yang menjabat sebagai <a href=https://www.merdeka.com/jakarta/jabatan-anies-baswedan-sebagai-gubernur-dki-berakhir-16-oktober-2022.html> Gubernur DKI Jakarta akan segera menuntaskan masa jabatannya</a> dan diganti oleh Pejabat Sementara sehingga banyak bermunculan tweet tentang tokoh tersebut yang berniat <a href=https://www.voaindonesia.com/a/masa-jabatan-di-dki-berakhir-anies-baswedan-menuju-pemilu-presiden-2024/6794260.html>melanjutkan karir politiknya sebagai Capres 2024</a>. Meskipun tokoh Ganjar sempat ramai jadi perbincangan di bulan Oktober karena <a href=https://nasional.kompas.com/read/2022/10/24/09213081/buntut-panjang-pengakuan-ganjar-soal-siap-jadi-capres-dipanggil-pdi-p-hingga>perselisihannya dengan pimpinan partai</a>, namun nama tokoh Ganjar justru banyak jadi sebutan di tweet pada bulan-bulan Desember.\n",
        "</font></p>\n"
      ],
      "metadata": {
        "id": "qqxdCeG-TTLN"
      }
    },
    {
      "cell_type": "markdown",
      "source": [
        "## Analisis Jaringan Sosial"
      ],
      "metadata": {
        "id": "tjqIoLIxyMK4"
      }
    },
    {
      "cell_type": "code",
      "source": [
        "import networkx as nx\n",
        "import re\n",
        "import matplotlib.pyplot as plt\n",
        "\n",
        "# mengambil data username dan tweet\n",
        "df = df.rename({\"username\": \"user\"}, axis=1)\n",
        "dfgraph = df[[\"user\", \"tweet\"]]\n",
        "\n",
        "# membuat data users dan tweet\n",
        "users = dfgraph.user.tolist()\n",
        "tweets = dfgraph.tweet.to_list()\n",
        "\n",
        "# membuat node/vertex dari users\n",
        "G = nx.Graph()\n",
        "G.add_nodes_from(users)\n",
        "\n",
        "# memproses data tweet untuk diambil mention\n",
        "for usr, t in zip(users, tweets):\n",
        "    mentionS =  re.findall(\"@([a-zA-Z0-9]{1,15})\", t)\n",
        "    for mention in mentionS:\n",
        "        if \".\" not in mention: #skipping emails\n",
        "            G.add_edge(usr, mention)\n",
        "\n",
        "print(G.number_of_nodes())\n",
        "print(G.number_of_edges())"
      ],
      "metadata": {
        "colab": {
          "base_uri": "https://localhost:8080/"
        },
        "id": "wYj8Eq1CdxbV",
        "outputId": "b612a020-b75e-4b11-a7e3-c95704fb4f20"
      },
      "execution_count": null,
      "outputs": [
        {
          "output_type": "stream",
          "name": "stdout",
          "text": [
            "14073\n",
            "17891\n"
          ]
        }
      ]
    },
    {
      "cell_type": "markdown",
      "source": [
        "### Graph Tweet"
      ],
      "metadata": {
        "id": "NbYbTazVhRbG"
      }
    },
    {
      "cell_type": "code",
      "source": [
        "!pip install --upgrade scipy networkx"
      ],
      "metadata": {
        "colab": {
          "base_uri": "https://localhost:8080/"
        },
        "id": "ld_LsfhD_rtv",
        "outputId": "7d2cd63c-652e-4903-a632-539fc6d5f6bf"
      },
      "execution_count": null,
      "outputs": [
        {
          "output_type": "stream",
          "name": "stdout",
          "text": [
            "Looking in indexes: https://pypi.org/simple, https://us-python.pkg.dev/colab-wheels/public/simple/\n",
            "Requirement already satisfied: scipy in /usr/local/lib/python3.8/dist-packages (1.7.3)\n",
            "Collecting scipy\n",
            "  Downloading scipy-1.9.3-cp38-cp38-manylinux_2_17_x86_64.manylinux2014_x86_64.whl (33.8 MB)\n",
            "\u001b[K     |████████████████████████████████| 33.8 MB 74.7 MB/s \n",
            "\u001b[?25hRequirement already satisfied: networkx in /usr/local/lib/python3.8/dist-packages (2.8.8)\n",
            "Requirement already satisfied: numpy<1.26.0,>=1.18.5 in /usr/local/lib/python3.8/dist-packages (from scipy) (1.21.6)\n",
            "Installing collected packages: scipy\n",
            "  Attempting uninstall: scipy\n",
            "    Found existing installation: scipy 1.7.3\n",
            "    Uninstalling scipy-1.7.3:\n",
            "      Successfully uninstalled scipy-1.7.3\n",
            "Successfully installed scipy-1.9.3\n"
          ]
        }
      ]
    },
    {
      "cell_type": "code",
      "source": [
        "%%script echo skipping\n",
        "# cell ini akan diskip ketika rerun karena akan memakan waktu yang cukup lama\n",
        "plt.subplots(figsize=(12,8))\n",
        "\n",
        "d = nx.degree(G)\n",
        "pos = nx.spring_layout(G, seed=1)\n",
        "D = [d[node]*30 for node in G.nodes()]\n",
        "nx.draw_networkx_nodes(G, pos, node_size=D, node_color=D)\n",
        "nx.draw_networkx_edges(G, pos, width=1, alpha=0.5)\n",
        "plt.show()"
      ],
      "metadata": {
        "colab": {
          "base_uri": "https://localhost:8080/",
          "height": 466
        },
        "id": "M3teUnQ_gVkS",
        "outputId": "7d75d08c-1819-4a70-dc48-baa8234f395a"
      },
      "execution_count": null,
      "outputs": [
        {
          "output_type": "display_data",
          "data": {
            "text/plain": [
              "<Figure size 864x576 with 1 Axes>"
            ],
            "image/png": "[encoded data removed]"
          },
          "metadata": {}
        }
      ]
    },
    {
      "cell_type": "markdown",
      "source": [
        "<details>\n",
        "<summary ><font size=3><i>grafik seharusnya</i></font></summary>\n",
        "<a href=https://github.com/mdzakyjaya/Final_Project_ADM/blob/main/gambar/graph%20tweet.png?raw=true><img src=https://github.com/mdzakyjaya/Final_Project_ADM/blob/main/gambar/graph%20tweet.png?raw=true></img></a>\n",
        "<font size=4>\n",
        "</details>\n",
        "grafik diatas menunjukkan adanya satu akun yang sangat menjadi pusat perhatian/pengaruh (node yg berwarna kuning besar ditengah), selain itu juga beberapa akun yang memiliki pengaruh cukup kuat ditandai dengan ukuran yang cukup besar ditengah berwarna ungu. Untuk melihat bagaimana jenis pengaruh akun2 yang ada akan dilakukan centrality analysis."
      ],
      "metadata": {
        "id": "vBDEI5LGSg9v"
      }
    },
    {
      "cell_type": "markdown",
      "source": [
        "### Centrality Analysis"
      ],
      "metadata": {
        "id": "7qGI6mkLhkci"
      }
    },
    {
      "cell_type": "code",
      "source": [
        "import operator\n",
        "import numpy as np\n",
        "\n",
        "def Centrality(G, N=10, method='katz', outliers=False, Label = True, layOut='shells'):\n",
        "    if method.lower()=='katz':\n",
        "        phi = 1.618033988749895 # largest eigenvalue of adj matrix\n",
        "        ranking = nx.katz_centrality_numpy(G,1/phi)\n",
        "    elif method.lower() == 'degree':\n",
        "        ranking = nx.degree_centrality(G)\n",
        "    elif method.lower() == 'eigen':\n",
        "        ranking = nx.eigenvector_centrality_numpy(G)\n",
        "    elif method.lower() =='closeness':\n",
        "        ranking = nx.closeness_centrality(G)\n",
        "    elif method.lower() =='betweeness':\n",
        "        ranking = nx.betweenness_centrality(G)\n",
        "    elif method.lower() =='harmonic':\n",
        "        ranking = nx.harmonic_centrality(G)\n",
        "    elif method.lower() =='percolation':\n",
        "        ranking = nx.percolation_centrality(G)\n",
        "    else:\n",
        "        print('Error, Unsupported Method.'); return None\n",
        "\n",
        "    important_nodes = sorted(ranking.items(), key=operator.itemgetter(1))[::-1]#[0:Nimportant]\n",
        "    data = np.array([n[1] for n in important_nodes])\n",
        "    dnodes = [n[0] for n in important_nodes][:N]\n",
        "    if outliers:\n",
        "        m = 1 # 1 standard Deviation CI\n",
        "        data = data[:N]\n",
        "        out = len(data[abs(data - np.mean(data)) > m * np.std(data)]) # outlier within m stDev interval\n",
        "        if out<N:\n",
        "            dnodes = [n for n in dnodes[:out]]\n",
        "\n",
        "    print('Influencial Users: {0}'.format(str(dnodes)))\n",
        "    print('Influencial Users Scores: {0}'.format(str(data[:len(dnodes)])))\n",
        "    Gt = G.subgraph(dnodes)\n",
        "    return Gt\n",
        "\n",
        "def drawGraph(G, Label, layOut='spring', graphStyle=False, K = 200):\n",
        "    if graphStyle:\n",
        "        ranking = nx.degree_centrality(G)\n",
        "        warna = list(ranking.values())\n",
        "        d = nx.degree(G)\n",
        "        d = [d[node]*K for node in G.nodes()]\n",
        "        pos = nx.spring_layout(G) # Spring LayOut\n",
        "        nx.draw_networkx_nodes(G,pos, node_color=warna,node_size=d) # Gambar Vertex\n",
        "        nx.draw_networkx_edges(G,pos,width=2,alpha=0.1) # Gambar edges\n",
        "        nx.draw_networkx_labels(G,pos) #Gambar Label Nodes\n",
        "        plt.show() # Show the graph\n",
        "    else:\n",
        "        if layOut.lower()=='spring':\n",
        "            pos = nx.spring_layout(G)\n",
        "        elif layOut.lower()=='circular':\n",
        "            pos=nx.circular_layout(G)\n",
        "        elif layOut.lower()=='random':\n",
        "            pos = nx.random_layout(G)\n",
        "        elif layOut.lower()=='shells':\n",
        "            shells = [G.core_nodes,sorted(G.major_building_routers, key=lambda n: nx.degree(G.topo, n)) + G.distribution_routers + G.server_nodes,G.hosts + G.minor_building_routers]\n",
        "            pos = nx.shell_layout(G, shells)\n",
        "        elif layOut.lower()=='spectral':\n",
        "            pos=nx.spectral_layout(G)\n",
        "        else:\n",
        "            print('Graph Type is not available.')\n",
        "            return\n",
        "        nx.draw_networkx_nodes(G,pos, alpha=0.2,node_color='blue',node_size=600)\n",
        "        if Label:\n",
        "            nx.draw_networkx_labels(G,pos)\n",
        "        nx.draw_networkx_edges(G,pos,width=4)\n",
        "        plt.show()"
      ],
      "metadata": {
        "id": "gfSbbg_whi-4"
      },
      "execution_count": null,
      "outputs": []
    },
    {
      "cell_type": "markdown",
      "source": [
        "### Centrality by Degree\n",
        "<font size=4>\n",
        "metode ini akan menilai tingkat pentingnya akun berdasarkan banyaknya ia di-mention"
      ],
      "metadata": {
        "id": "ONRR1n17itWz"
      }
    },
    {
      "cell_type": "code",
      "source": [
        "Gt = Centrality(G, N=20, method='degree', outliers=False, Label = True, layOut='spring')"
      ],
      "metadata": {
        "colab": {
          "base_uri": "https://localhost:8080/"
        },
        "id": "0KFvpDHliOeB",
        "outputId": "17fcdc43-15c0-4981-e4c6-4cdf024c87cd"
      },
      "execution_count": null,
      "outputs": [
        {
          "output_type": "stream",
          "name": "stdout",
          "text": [
            "Influencial Users: ['jokowi', 'aniesbaswedan', 'ruhutsitompul', 'msaid', 'CNNIndonesia', 'OposisiCerdas', 'alisyarief', 'ganjarpranowo', 'na', 'geloraco', 'prabowo', 'RamliRizal', 'NasDem', 'HelmiFelis', 'bachrum', 'abu', 'Dennysiregar7', 'democrazymedia', 'PartaiSocmed', 'kpu']\n",
            "Influencial Users Scores: [0.13814667 0.0319784  0.02039511 0.01591814 0.01492325 0.01243604\n",
            " 0.01236498 0.01208073 0.01151222 0.01144116 0.01129903 0.01101478\n",
            " 0.00994883 0.00938033 0.00859864 0.00838545 0.00831438 0.00831438\n",
            " 0.00817226 0.00795907]\n"
          ]
        }
      ]
    },
    {
      "cell_type": "markdown",
      "source": [
        "<font size=4>\n",
        "akun tokoh Jokowi merupakan akun paling banyak di-mention, diikuti oleh Anies Baswedan dan beberapa tokoh lainnya. dapat dilihat bahwa keempat nama tokoh yang jadi pembahasan sebelumnya juga masuk dalam jajaran top 20 akun yang banyak di-mention."
      ],
      "metadata": {
        "id": "Ik9d2XCtXDzM"
      }
    },
    {
      "cell_type": "code",
      "source": [
        "plt.figure(figsize=(12,8))\n",
        "drawGraph(Gt, True, layOut='circular')"
      ],
      "metadata": {
        "colab": {
          "base_uri": "https://localhost:8080/",
          "height": 466
        },
        "id": "fS2R546liTpx",
        "outputId": "759d4abb-bb15-4880-a011-f1a9ec414457"
      },
      "execution_count": null,
      "outputs": [
        {
          "output_type": "display_data",
          "data": {
            "text/plain": [
              "<Figure size 864x576 with 1 Axes>"
            ],
            "image/png": "[encoded data removed]"
          },
          "metadata": {}
        }
      ]
    },
    {
      "cell_type": "markdown",
      "source": [
        "<font size=4> akun PartaiSocmed adalah akun yang aktif berhubungan dengan berbagai akun-akun tokoh berpengaruh"
      ],
      "metadata": {
        "id": "VYvBV2bQX7LY"
      }
    },
    {
      "cell_type": "markdown",
      "source": [
        "### Closeness Centrality\n",
        "<font size=4>\n",
        "metode kali ini akan menilai pentingnya suatu akun berdasarkan kemampuannya menjangkau akun-akun lain dengan mudah."
      ],
      "metadata": {
        "id": "4JH7wtaHjIoL"
      }
    },
    {
      "cell_type": "code",
      "source": [
        "%%script echo skipping\n",
        "# cell ini akan diskip ketika rerun karena algoritma yang berusaha menghitung \n",
        "# jarak antar setiap node(14 rb-an node) untuk mencari rute terpendeknya akan memakan waktu cukup lama\n",
        "\n",
        "Gt = Centrality(G, N=10, method='closeness', outliers=False, Label = True, layOut='spring')"
      ],
      "metadata": {
        "colab": {
          "base_uri": "https://localhost:8080/"
        },
        "id": "9qFFDreFjfOp",
        "outputId": "6eff9888-ada3-4de6-a152-6a1d5f1f498e"
      },
      "execution_count": null,
      "outputs": [
        {
          "output_type": "stream",
          "name": "stdout",
          "text": [
            "Influencial Users: ['jokowi', 'MatJohar3', 'alisyarief', 'Syarman59', 'ParwantoAgus2', 'anakranto64', 'PartaiSocmed', '_SEKNAS_RI', 'MocangTian', 'PaimoMontok']\n",
            "Influencial Users Scores: [0.27301844 0.23382924 0.22663328 0.2254969  0.22525594 0.22278608\n",
            " 0.2224408  0.22179719 0.22153497 0.2211863 ]\n"
          ]
        }
      ]
    },
    {
      "cell_type": "markdown",
      "source": [
        "<details>\n",
        "    <summary><font size=3><i>output seharusnya</i></font></summary>\n",
        "<img src=https://github.com/mdzakyjaya/Final_Project_ADM/blob/main/gambar/closeness1.png?raw=true>"
      ],
      "metadata": {
        "id": "Y_8raGz1qq6e"
      }
    },
    {
      "cell_type": "code",
      "source": [
        "%%script echo skipping\n",
        "# karena data induknya pada cell sebelumnya diskip, maka cell ini juga perlu diskip\n",
        "\n",
        "plt.figure(figsize=(8,6))\n",
        "drawGraph(Gt, True, layOut='circular')"
      ],
      "metadata": {
        "colab": {
          "base_uri": "https://localhost:8080/",
          "height": 357
        },
        "id": "4p4SfP7Jkjw9",
        "outputId": "6dc25ae1-5521-40e0-a7e8-00f77d4d8b64"
      },
      "execution_count": null,
      "outputs": [
        {
          "output_type": "display_data",
          "data": {
            "text/plain": [
              "<Figure size 576x432 with 1 Axes>"
            ],
            "image/png": "[encoded data removed]"
          },
          "metadata": {}
        }
      ]
    },
    {
      "cell_type": "markdown",
      "source": [
        "<details>\n",
        "    <summary><font size=3><i>grafik seharusnya</i></font></summary>\n",
        "<img src=https://github.com/mdzakyjaya/Final_Project_ADM/blob/main/gambar/closeness2.png?raw=true</img>\n",
        "</details>\n",
        "<font size=4>\n",
        "kali ini akun Jokowi masih menjadi akun paling berpengaruh, akun ini dapat dengan mudah menggapai berbagai akun lainnya. Juga diikuti berbagai nama akun tokoh yang belum muncul sebelumnya"
      ],
      "metadata": {
        "id": "mgprcYDVZ5AC"
      }
    },
    {
      "cell_type": "markdown",
      "source": [
        "### Beetwenness Centrality\n",
        "<font size=4> metode ini akan menilai pentingnya suatu akun berdasarkan kemampuan ia menjadi \"jembatan\" informasi antar berbagai akun."
      ],
      "metadata": {
        "id": "bc72RfLVkpV7"
      }
    },
    {
      "cell_type": "code",
      "source": [
        "Gt = Centrality(G, N=10, method='betweeness', outliers=False, Label = True, layOut='spring')"
      ],
      "metadata": {
        "colab": {
          "base_uri": "https://localhost:8080/"
        },
        "id": "zti9c8RmkxT-",
        "outputId": "f7312b32-0ab1-4625-e84b-9537bafb014b"
      },
      "execution_count": null,
      "outputs": [
        {
          "output_type": "stream",
          "name": "stdout",
          "text": [
            "Influencial Users: ['jokowi', 'aniesbaswedan', 'ruhutsitompul', 'CNNIndonesia', 'msaid', 'MatJohar3', 'OposisiCerdas', 'kpu', 'Azlasy', 'geloraco']\n",
            "Influencial Users Scores: [0.2733416  0.04877069 0.02579261 0.01804488 0.01744756 0.01734021\n",
            " 0.01382549 0.01333874 0.01323965 0.01278376]\n"
          ]
        }
      ]
    },
    {
      "cell_type": "code",
      "source": [
        "plt.figure(figsize=(8,6))\n",
        "drawGraph(Gt, True, layOut='circular')"
      ],
      "metadata": {
        "colab": {
          "base_uri": "https://localhost:8080/",
          "height": 357
        },
        "id": "pOZqF6Wykyb8",
        "outputId": "ae42c26e-cb06-445c-bba7-437b8beda610"
      },
      "execution_count": null,
      "outputs": [
        {
          "output_type": "display_data",
          "data": {
            "text/plain": [
              "<Figure size 576x432 with 1 Axes>"
            ],
            "image/png": "[encoded data removed]"
          },
          "metadata": {}
        }
      ]
    },
    {
      "cell_type": "markdown",
      "source": [
        "<font size=4>\n",
        "akun2 ini memiliki peran penting dalam distribusi informasi antar komunitas, jika akun2 ini berhenti beroperasi penyebaran informasi di twitter bisa terganggu dan terhambat."
      ],
      "metadata": {
        "id": "rnk-JUoEbYUc"
      }
    },
    {
      "cell_type": "markdown",
      "source": [
        "### Eigenvector Centrality\n",
        "<font size=4>\n",
        "metode ini akan menilai pentingnya suatu akun berdasarkan kemampuannya \"dilirik\" oleh akun yang memiliki pengaruh kuat"
      ],
      "metadata": {
        "id": "SSBjEKsmk2vQ"
      }
    },
    {
      "cell_type": "code",
      "source": [
        "Gt = Centrality(G, N=10, method='eigen', outliers=False, Label = True, layOut='spring')"
      ],
      "metadata": {
        "colab": {
          "base_uri": "https://localhost:8080/"
        },
        "id": "4SrR7W67lYad",
        "outputId": "ade54eca-b22e-40d6-e73c-5d261975bf56"
      },
      "execution_count": null,
      "outputs": [
        {
          "output_type": "stream",
          "name": "stdout",
          "text": [
            "Influencial Users: ['jokowi', 'na', 'alisyarief', 'aniesbaswedan', 'PartaiSocmed', 'hnurwahid', 'ganjarpranowo', 'Syarman59', 'msaid', 'RamliRizal']\n",
            "Influencial Users Scores: [0.68977393 0.06082368 0.04785794 0.04781092 0.03675793 0.03652223\n",
            " 0.03136498 0.03052285 0.02940787 0.02919951]\n"
          ]
        }
      ]
    },
    {
      "cell_type": "code",
      "source": [
        "plt.figure(figsize=(8,6))\n",
        "drawGraph(Gt, True, layOut='circular')"
      ],
      "metadata": {
        "colab": {
          "base_uri": "https://localhost:8080/",
          "height": 357
        },
        "id": "stOGHaiXlaWl",
        "outputId": "433cbe85-f003-46e3-963b-ad3e96c24c6c"
      },
      "execution_count": null,
      "outputs": [
        {
          "output_type": "display_data",
          "data": {
            "text/plain": [
              "<Figure size 576x432 with 1 Axes>"
            ],
            "image/png": "[encoded data removed]"
          },
          "metadata": {}
        }
      ]
    },
    {
      "cell_type": "markdown",
      "source": [
        "<font size=4> akun2 yang memang sudah dideteksi memiliki pengaruh kuat tetap muncul di metode ini. beberapa akun tokoh seperti Jokowi, msaid, alisyarief hingga aniesbaswedan yang selalu dinilai oleh berbagai metode centrality menjadi akun penting & berpengaruh untuk topik pilpres 2024 di twitter. sementara akun non-tokoh yang selalu muncul dinilai sebagai akun penting dan berpengaruh adalah PartaiSocmed."
      ],
      "metadata": {
        "id": "3L1rGPbdcHnD"
      }
    },
    {
      "cell_type": "markdown",
      "source": [
        "### Community Detection\n",
        "<font size=4>\n",
        "akun dilakukan pengelompokkan untuk melihat kemungkinan subtopik apa saja yang menjadi bahasan"
      ],
      "metadata": {
        "id": "Y91V0WbHllqF"
      }
    },
    {
      "cell_type": "code",
      "source": [
        "Gt = nx.algorithms.community.greedy_modularity_communities(G)\n",
        "\n",
        "# lihat top 50 community\n",
        "for community in Gt[:50]:\n",
        "    print(community)"
      ],
      "metadata": {
        "colab": {
          "base_uri": "https://localhost:8080/"
        },
        "id": "aaQ7zfqvLIRG",
        "outputId": "7e3efbc4-80aa-4333-f9e6-db2d625a6ff5"
      },
      "execution_count": null,
      "outputs": [
        {
          "output_type": "stream",
          "name": "stdout",
          "text": [
            "frozenset({'elrickynl', 'sebutajadhika', 'Jeza74422125', 'DaudnailaC', 'arkham1818', 'MoelyonovDjalil', 'sarda7tompul', 'NsarHaq', 'abahadilah', 'W', 'yuleko', 'JanganJadiPaok', 'Jaga', 'NongNayara', 'gatotka69145480', 'sarwono70', 'kurukatonacho', 'CTodolo', 'uyaboira', 'Orileys2', 'Ganesa', 'AzizahA97161751', 'anakbenteng71', 'AinuSalim', 'arya99915', 'densatjo', 'NKRI_NTBSasambo', 'Purnomo81853219', 'andika_yen', 'Myusuf_joozz', 'bacotradit', 'bachtiarihsanov', 'basoamir', 'Rudi09098805', 'Mengharapkeadi2', 'dablor24', 'Maiden666_', 'Rainsuryo00', 'crushonleviark', 'PolitikKekuatan', 'ker_asa', 'damarstwn', 'sitepusalim', 'mumungwisnu', '1ndonesiaku', 'JasindoID', 'cahyono_cs', 'bongpret', 'AbdulFa41793528', 'danty_luv', 'masayaharuhi', 'VkyR87', 'ArArmaja', 'ahdahni', 'SumahanP', 'kawananraja', 'Oladalah', 'Pai', 'HensuAja', 'Gunadiahmad3', 'kafiradikalis', 'ridwanadji4', 'BorisJohnson', 'zackers1992', 'Hudakeyy', 'ikhwannurrizal', 'OlgaLy_DIA', 'gakmaudua', 'IbraPanyalai', 'abeey', 'IbnaMD1', 'herusndkedua', 'suaratribunatas', 'ImQiem', 'BeBuzzerNKRI', 'HerwinDermawan8', 'medcom', 'ndagels', 'TulipKuning5', 'brngmadu', 'dzulfaqor1402', 'AlamTimur3', 'OwnedByPras', 'dede_np', 'kimuria9', 'Speedtrap', 'rz_sikumbang', 'Gintamark', 'wilsontherik', 'Muh_N_UD', 'onlinebooksto11', 'Maroef21', 'SiKebongce', 'Nsukarna17Nana', 'PutraMarbau', 'susipudjiastuti', 'arunariftan', 'jimroberto', 'firmantile02', 'tr35na', 'Noeroelhoed4', 'kuyabulus', 'dewa88058386', '__Sy4zwan1211', 'alicules', 'kenthouzzz', 'InaAinaz', 'RikiBas62276038', 'tarmiziarifm', 'gun_na7', 'mjokowi_stg', 'sautparulian404', 'siskidipappap', 'sayyidsyarifff', 'BbTampu', 'M_Zulfan_Z', 'HDaun99', 'teuku_hazbi', 'RagilSemar', 'ValentinusAriF', '028Phs', 'Kikiaston159', 'mas_bud12', 'senopatimgl', 'Jemsbray', 'Yustina8570', 'bankmandiri', 'asykar_ma', 'a', 'elensanjoyo84', 'seleb', 'dede918979231', 'TimHore1112', 'elangbintang14', 'Zenggo_GTA', 'kalla_jengking', 'EndahKirana17', 'cinta0x', 'NKRI_Nomor_1', 'isrorinh', 'pakguruhonorer', 'MrBill254700551', 'Yanto20212', 'Tafonao2', 'jack_timboel', 'introverta4', 'nimbuz87', 'ngibul', 'Sobosawa', 'YugoAreil', 'ferrykoto', 'M_ALI_M80', 'arrapoly', 'SOERYAWAD1', 'masarmany', 'AswanaAktivix', 'YuartantoY', 'SinagaJanuardi', 'adriankucka', 'Huang55067557', 'YogaPras', 'Ryan_negros07', 'dnyn_ee', 'OkaAje', 'imam', 'Deenaz31968158', 'RamsesSimanjun6', 'pesanbergambar', 'antjuk77', 'ofc_teenegirl', 'henyShr', 'retnosetyow4t', 'TonSg', 'kipadkumislelee', 'AhmadKawom', '20Lanata', 'EvaElvira11', 'sambudi_99', 'DiptraD', 'OpRafael', 'Michaelnur77', 'triasada', 'UNajib4', 'masBUNG3', 'Murni68171189', 'admodimejo', 'AmarWakhid', 'WARKOPMOVEON', 'ZeboLady', 'UGMYogyakarta', 'miq2501', 'widipramono', 'alver29ian', 'lerkvd', 'ferascorp', 'FendyRome', 'nuniardhi', 'henryg_diver', 'rizieqdivist01', 'SheTiaa2', 'richworld', 'sigit0954', 'mardiantopsi', 'darmannst', 'ismail_im596', 'UncleJames01', 'baragaju', 'Loronggoronggm1', 'PangLima_Senyap', 'MauritsAlberth', '1e1embut', 'jijokcl', 'mrfloperez', 'syarifntoke', 'HeruBudiHartono', 'RXsuci', '6undul0h', 'Jphms', 'ata0923', 'rnjae16', 'heru', 'FauzanMusthofa', 'ednID', 'ibnutimar', 'Gadogadoindo', 'setkabgoid', 'Deahasan99', 'Yusri82867561', 'ikankodd', 'alaikshofi', 'Mottakaal', 'yournalista', 'Muhammad', 'RiO_Lola_', 'ReizaAditya2', '1rw4nsy4h88', 'Innayaputri72', 'kus_new', 'Nayr79R', 'edykrit22', 'TheEagle', 'aderifaeuy', 'Najazi731', 'KelantunLipas', 'Arraso4', 'Brother37816449', 'ronavioleta', 'BennyKeef', 'suspend_ke3', 'daniswara02', 'Heri06608285', 'Opa', 'HaramAsoy', 'buminkrikita', 'albhermanoaken', 'Ramjungpara', '_4r4bellaH4yy1_', 'Yoedhani13', 'fadla76755829', 'SuperHutagalung', 'AgusSanjaya2022', 'SamudraAdlu', 'me_risnov', 'BlackliztHunter', 'GATOTKO97400932', 'WartoYudo', 'mncrgknskl', 'gaksukanekoneko', 'Syhkhong1', 'Reifky2121', 'segopecels', 'na', 'TriesnaAlBakrie', 'Radit60884233', 'alan_zark', 'Namaku76301065', 'luisxcampiones', 'bluwithluv', 'LikParjo', 'raatnowijayaa', 'KangSoera', 'AKUsetiaNKRI', 'FarukbeJadd', 'jansen_dmk', 'Muhamma68739023', 'AbuBakarNst', '_Heyo_', 'ciangsex', 'herricahyadi', 'hendro_an', 'azis_rahmaddi', 'ndhan_Rom', 'tukangrosok___', 'AndyWinanto_AW', 'indraprasojo', 'edwinwong47', 'rounderzx', 'Ochi', 'arya9095', 'JTawul', 'Alharomain96', 'john_ndarung', 'zainhias', 'akbgio', 'batalionbaduy', 'LiliesSulistya1', 'Faijin99', 'ajah_safari', 'budimandjatmiko', 'IchwanAnto1', 'sapimen', 'tiebreakset', 'RusdiEffendi10', 'mzzecko_ako', 'fajarblues26', 'yunaidi_indra', 'ibrahimabdul_05', 'Brahmak10243893', 'Yattie2022', 'Intip', 'bsy094', 'IqbalAlKholil', 'Lambe_Bebek', 'MubarokRifani', 'niluhdjelantik', 'Alexander_6890', 'maman1965', 'BudiArie', '134_340', 'alvisyahr_', 'gamapila', 'adjie', 'haryopanuntun', 'majorcraftjoe', 'NengIma', 'DendiSusanto17', 'txtfromholy', 'wahyudi98017151', 'EkoSusiloNugro1', 'ZkiTommy', 'fiatsawala', 'Rockgar12', 'prastow', 'ecosocrights', 'snymrshn', 'DidahNurfaridah', 'Demacolin06', 'shdwmax', 'individumerd', 'nkri', 'PUTRI_41708', 'mufimizan76', 'merahbeat64', 'hanacaraka73', 'DavidHandiyanto', 'hkadarma', 'Laferan_92', 'NaufalBabah', 'VeeMillee', 'madebalik_80691', 'yosefdivo', 'Adra', 'amadima17', 'simple_heart68', 'imunk13', 'Mantiko_Bungo', 'Jebenk63285910', 'WadyaIrbar', 'arruwe04', 'hs', 'siaw_andryan', 'chandraWumbara', '3rwin__34', 'mendagri', 'mrpratamaaaa', 'Crismansyah3', 'ArdhaNamirah', 'HidayatHafied3', 'mynameisowi', 'yuwantino12', 'bosukage1', 'panwaslukarlos', 'Kidung_Kumara', 'AudryRibka', 'TatangSalman', 'TuanBarat', 'gilangngrha_', 'SyaefullahHamid', 'g3ndh3ng', 'Bima89009178', 'BoyRembaya', 'MYaminNasution1', 'Rheey_rY', 'SetiyawatiLisa', 'AntoBoelle', 'Cheche793', 'FreemanYisroel', 'Hendriksrtn', 'iw201098', 'Jokokelono69', 'MudiakS', 'Jecykajah', 'pakatikng', 'Muhamma66458404', 'MD_IN', 'KetumProDEMnew', '_ogawamizuki', 'MKZxRoel', 'akuikibutoijo', 'victory', 'Welly78421806', 'Manse_Mangat', 'NgopiAjarepot', 'JokoBangun7', 'bramptonRBS', 'Zadin27722493', 'hady_m1980', 'DreW_JaKoB_WolF', 'BAJ11GUR', 'rudianbachtiar', 'zuldesri', 'david_joentax', 'sastrotingkir', 'BenyKohar', 'sangkalacambang', 'bossketjil', 'Syapran_s', 'moelyd1', 'bhocisukerhead', 'neti_zzen', 'jatengpedia', 'CHOKYPARHAS', 'yudhis217', 'yusamhr', 'qomara', 'AuliaZlatan', 'bawaslubontang_', 'philophros', 'RDW12_', 'bobnstMEdan', 'wtskomik', 'Aris32107466', 'myrmyn', 'johnsimonwijaya', 'samododiw', 'AhdaFathul', 'ArRayah43832329', 'Dandhy', 'dedythebear', 'AlGumbreg', 'maspaitella', 'ksatria_kelam', 'FadliSultan2', 'MnsBiasa2020', 'kdyiah2', 'fdhliasad', 'Muhamma11191823', 'ManaluHumiras', 'txtdarimeeeong', 'SintaElvhee2', 'zuherrrr', 'ahyarichenkoACM', 'AliNgabalinNew', 'ibesukoco', 'zeronol0', 'suryaamriza', 'PutriSemesta45', '_pratama_ari', 'DonnyBonardo', 'reza_63', 'AkbarWasito', 'maximillian2008', 'titor980', 'pertamina', 'th3substitutes', 'ffebffebry', 'mustamarif', 'Alex36695252', 'RamadhianT', 'MbahDar96244784', 'be', 'Hegie_bae', 'cakprak97', 'soemomihardjo4', 'SatuDaya', 'N4N', 'IrulFadhilah', 'brooder999', 'agus22615699', 'ikhsansetyahadi', 'mygeosentris', 'BaitiiJannati', 'demang_hadi', 'KangDickyAjah', 'triwul82', 'Viqih_Aryanda27', 'demang', 'asmin_jeka', 'omhansss', 'sulemude99', 'AghestR', 'heri_parna', 'Achmadbinyahya1', 'OliverRTcoden', 'mamuiz', 'nagahitamjantan', 'tony', 'BknNegeriKolam', 'kaktusxnxx', 'ochidd', 'IndraWa57822310', 'sexyk1ll3r', 'mrridhomanurung', 'donnapf', 'Jamil37283396', 'RadarKorupsi', 'MiranRoser', 'Didi_BMS', 'BadruddinAl', 'KaunanYusuf', 'yo2thok', 'euriis', 'Fita_Shanty', 'keteklembab', 'bung_yad', 'sopyan', 'Aline', 'AgungSetiyadi13', 'Intoyou021', 'Bro_3dien', 'ritsariana', 'amatbejo_', 'Jayabay19479190', 'MyNameIsJuki', 'sosirupa', 'jokowi', 'FamilyRANS', 'DeviskaWijaya', 'bukalapar', 'BStolenbergs', 'Jelli', 'venomize', 'benediktus2302', 'BAWASLU_BLK', 'MuhammadWaluy20', 'ab_anward', 'kwangya2021', 'MardhiBond', 'von', '_denjul', 'abilrorke', 'Abiwahyup', 'ray55771', 'SultanAliNatadi', 'MhdAzdly99', 'caang_poek', 'Bagol91375512', 'syaifu23', 'DonAdam68', 'DrEvaChaniago', 'sulist_ty', 'AsliMakruf', 'pangek_padeh', 'regar_0p0sisi', 'mahmud_neo', 'MonisyahS', 'salmanaf26_', 'SINDOnews', 'SakuraRaja', 'hasim_suhastra', 'sryksma', 'Rynldksmwn', 'DinaAkmal71', '0xGib', 'BudiSet51912722', 'zyznaraya', 'murny7', 'LeeM1neraL', 'indrahwk', 'KaderjuangNU', 'Bintoro5316', 'wank37', 'abugunray', 'Narasihatii', 'BergemaRock', 'pembualndeso', 'aremania', 'her', 'calvinjpang', 'congkangboy', 'kr1t1kp3d45', 'LordSunda', 'YadikMulyadi', 'Nur13420342', 'Bagong10826788', 'intelijen04', 'ruhendie', 'Fbr24734588', 'Mat_Ali2', 'Syamsalis68', 'nandoucup1', 'fahayabi', 'YLKI', 'BlackDemocrazy', 'antasa96', 'tommyhpamungkas', 'Satya83358389', 'kris', 'cedricbuldan', 'PresidenBingung', 'irenkraw', 'Footballnesia', 'ifuljihad', 'PemilihJ', 'UGM', 'NephiLaxmus', 'azissubekti', 'Ireng_Maulana45', 'bbg_ied', 'abdullah_kankas', 'vseyon1', 'matiitupasti6', 'SellyJunita2', 'mantovoni', 'pjvermonte', 'synyster_81', 'davidgo63612444', 'HoreeeeTeam', 'tarwotowsg96', 'bukan4non', 'rinoriyatno', 'Hybridsundaclan', 'Antonrusdiyant4', 'SontoJoko', 'vncdele', 'Hansip__TL', 'rentomafor', 'dhanyslaats', 'bralinkmania27', 'Rizki12279143', 'MenthelRomario', 'RuliPujiono', 'RendiHermawan1_', 'SYARIFUDINPAMU9', 'FapolosS', 'avatarcs999', 'riefb79', 'JimHaHo3', 'hansdavidian', 'Shareeismyname', 'dediary', 'chang_armand', 'habangbangsel', 'Kurosaki_Icigo', 'morodjoyo', 'peribudiman4', 'rinigrace', 'roniazdirizani', 'zenstrive', 'amakmahdali1981', 'Jangansayur', 'UsmanAbdS1', 'AfrizalAriyant4', 'Sangpisanggg1', 'qomara_dwi', 'Humaira922', 'fallingmonstar', 'ismailhendra85', 'nakhodasasau', 'VokalisBMTH', 'Damarandii', 'hs_meliala', 'Chandra_a2', 'gani0506', 'FransElius2', 'Hum4n7', 'thXander', 'Dyananjani89', 'bimosaurus', 'kalong9669', 'kudu', 'mhdmahirnasua', 'WaryonoYoyon', 'BahaudinAgus', 'benitosmtpng', 'baqiebaka', 'antibzzrp', 'bayubudaksunda', 'utpudah', 'loyoamatbang', 'Danimas19', 'sandalista1789', 'KemenkeuRI', 'DrPullmanrogers', 'adittyajulmi', 'Om_Sugik', 'AbdeeProklamasi', 'Gustam081', 'miskiy28', 'JohnySibuea', 'donalfariz', 'IKorleko', 'BapakKu20416527', 'KementerianESDM', 'batagorrebus', 'arireliyanto', 'damaiharilubis6', 'Budionotaslim3', 'ardiankusuma', 'e100ss', 'Salim10Ayu', 'Ovajayanti2', 'spensieratez24', 'Rizal1518640911', 'PakDheGondrong', 'oentoenk13', 'Andini78987', 'athakelly', 'AssaJannatan', 'IkhlasAbdulkad2', 'yoyopie', 'RustamIbrahim', 'Ayu78008958', 'AFdrmwnsyh', 'cholilnafis', 'FKudby', 'jacksparrow_us', 'dedeesetya', 'Agus0381A', 'GAH', 'Syarargiandini1', 'Susmana', 'indra087', 'NarasiNewsroom', 'djcenud', 'eskacangred', 'arwidodo', 'BawasluSelayar', 'conceplt', 'salmanihru', 'novanfebrians', 'teh_lokal', 'devaannaa', 'SimpatisanFPI', 'umihanif2', 'PartaiSocmed', 'Moerdianto7', 'mrha_p', 'OmSky6', 'HarunHusain', 'Wibik89', 'suhendar7945', 'Metro_TV', 'sujudkamal68', 'Satriya1158', 'LSIsmail14', 'ADerijanto', 'CaryantoAwuy', 'kangbaridin', 'efekrumahsaja', 'TaufikH78435552', 'WinnerWave', 'cn_rlt', 'banyaksyukur26', 'yuzz_2079', 'Hegie', 'Jaidun02', 'ewangiggs', 'mullerpakpahan4', 'januarovsky', 'Kimberley_2022', 'HAPOSANM', 'Pepen_Effendi76', 'Ridhoi95544912', 'AlekJm1', 'Bongkar2', 'Rusdysantos0', 'AlMawardin7', 'Budiarni711', 'janganmentang2', 'NurShol76190440', 'jongkokdikebon', 'Nawal_Alawiyyah', 'bawaslu_RI', 'harlansmfachra', 'ChabyZaina', 'henrysubiakto', 'yaniarsim', 'YudiSet16452924', 'lenny1_rose', 'labyod', 'satriaviMN', 'apakintung', 'richoisme', 'Hmuzak2', 'hari_adji', 'bergeloralah', 'FinkPanta', 'fat_bry', 'ijo', 'LekMarteg', 'Revi_Mangkulla', 'FujitaDenny', 'MMalik_gtu', 'Kadir59573132', 'bhanurasmi', 'ghoendexs', 'OlgaLy', 'JungjungTan', 'ijan_swr', 'VanDeam27', 'tirta', 'amekynwa', 'nzoftwelve', 'makdin_', 'jusufreis', 'AbdulHa280180', 'poldajateng', 'Jhon_wick1', 'zzzzzzarghhhhh', 'vanfikry', 'ganesa4gp', 'AgusSho62811788', '66Hasto', 'AbdurrasyidRah1', 'musaKSQ', 'alin_raihani', 'Oleh_Oleh_Dpk', 'salamanterus', 'justfun_00', 'stratolucaster', 'pakdhe_mu', 'MDargombes', 'muhamadrdani', 'anjares90', 'xrwinsx', 'tukangrosok', 'kirananayla67', 'dra_tio', 'elkrova', '05Kaneda', 'bokulos_', 'trisujoko_fx', 'SutrisnoStr17', 'Tha_Daisuke', 'heri', 'DaunAkar', 'kabarriaucom', 'agen', 'hemaviton99', 'danil', 'storeukm', 'bentargantinama', 'veaadeeana', 'itokomar', 'DiezWhz', 'GanRusdi', 'cgaretsaftrmeal', 'Romeo7Be', 'BustedD0G', 'puguhng', 'Dismas03021740', 'CopySalsabila', 'Rudy4591', 'MaxMart00860032', 'SidqianSaahirah', 'irvanababil10', 'ugm', 'arissuwandi', 'afannni', 'AGNATION1999', 'TenaboloDade', 'Fijo06076096', 'Princess_milea', 'GeenGeluk', 'Temadur3', 'xsupir', 'gaols02', 'jennifer_xixi', 'el4n9bint4n9', 'RyS_374', 'alfifiananto', 'whatsadp', 'ananirtudosi', 'ZAEffendy', 'AbasBalapradana', 'galindog07', 'Javeed', 'ImamAgiansyah', 'GenerasiPeneru6', 'sangkungijo', 'Hadi', 'Misbah74992274', 'adjie_ngurah', 'AminkMach', 'Latheris33', 'aries', 'AnantaKusumo', 'moslem_nkri', 'inimohikhsani', 'solehsolihun', 'ocee', 'SAltoYF_29', 'ar_akramAR', 'DPR99_', 'uman_2009', 'Yulia', 'set42508397', 'ApeAstronautz', 'Ran9_9a', 'ahmad_nahnudin', 'i4a_Store', 'ovyz_indogrind', 'AdianNapitupul1', 'GSebastiandre', 'Bubble23382347', 'assemblerAVR', 'johan_junus', 'tribowotanoe', 'missdiah2', 'Wonderschon', 'AsylaAsyra', 'OktoviaMaria', 'BudiSan42575424', 'albakowah', 'WongIndonesiaOK', 'keepithink', 'heriawanadiwan4', '211220Ahmad', 'ItsMe', 'hilman', 'GregDeJonk', 'Atikah2010', 'andra_rsul', 'jumatpon66', 'suaidi_j', 'Yopiluthfi2', 'Friznb', 'Ghureem', 'tutuz_alhadie', 'WastuPrabowo', 'ervanpriyanto26', 'ArabZoel', 'jackodanish', 'kitahappy24', 'OmBrewoksNew', 'Adhie_Baelah', 'yudasagara', 'savanthe', 'eRS_AREMA021', 'zkzainal', 'Ojoklalenya', 'thepzcheq', 'HARIWIJ99551647', 'PONOROG23764997', 'Eko', 'sianipar_jp', 'donsat10', 'ErzaMaul_', 'KKampul', 'agusput16131197', 'seemanjo', 'D3S3MBERW1N_', 'Sabillah2002', 'AnbuSiber', 'mrnoer12', 'paansitllol', 'ridedwind', 'senjadanudara', 'syaiful', 'KrisyantoOni', 'Sa1Santoso', 'Aulia77332992', 'habibiAhmad58', 'SonyaIrawan', 'igisuhendi', 'Iyan_concept', 'omdddrmwn', 'LaluLal92026935', 'NenekDariCucuku', 'Julian51758164', 'KANIGORO_HeLL', 'geetracker', 'Dididimyati1', 'MkomEliya', 'jokosantoso_id', 'nazz_mu4ever', 'surodilagan', 'JoshuaGinting3', 'SalimKancil16', 'politik___', 'Oshiiiiiinnn', 'Andre97549676', 'medypsargo', 'yaelahvid', 'PietFitriady', 'MaheerOman', 'DailymotionUSA', 'sammyhalim', 'ikanbadutz', 'AQansa', 'EvanRollan', 'ARIFILIZER', 'tunnov', 'GmGatot', 'alan_dofa', 'a_forestama', 'Ketiksukahati', 'FCBayern', 'BpjPekalongan', 'n0sm0_king', 'NagaVVijaya', 'Lyandraqanita', 'aditya20519717', 'UtuhHaruan', 'SaragihSahal', 'DjafarTamtama', 'marvellmaliki2', 'GiovannoMaulana', 'Omregar2010', 'mappirewa', 'akusiantarman', 'yhulaiboy', 'makhluk_62', 'gerobak_tank', 'Alfatih007Mr', 'LaksamanaLima', 'myudiman', 'naufalrizkhy', 'PutraBachtiar9', 'bersama_bersatu', 'Javeed_Lelete', '421Bathosai', 'allpribadi', 'Mukhlis749', 'basukining', 'allucardz1980', 'R_Kuswandi', 'Dutajomblo3', 's', 'u1fsmr_press', 'Paidjo72901435', 'jame_rudy', 'ChuckTheodore19', 'WagimanDeep212', 'Rafsan228899', 'topijerami1788', 'arok07', 'arivannie1816', 'faher_funkme', 'LelakiKampungan', 'indraindrong', 'Dori51742776', 'Bi_n_eL', 'ariaizumu', 'sinagano2', 'UbigoRenk', 'wlaha_sarimbit', 'dewiirawan13', 'MohamadMuhajir5', 'DeddyDay14', 'MammatangT', 'RizkiR4madani', 'news_delik', 'RizqoDsrfnt', 'AnisKastara', 'YoYoAyo17845', 'Y', 'IndraJPiliang', 'rrnisa2', 'HGevralloh', 'JJRizal', 'kumparan', 'DreW', 'istiyantomr', 'IrsanJoss', 'ecommurz', 'RachmatJoshua', 'rayrangkuti82', 'AndreanSatriyo', 'Adens49195515', 'siwiwidi', 'idhumhii', 'TweetAboed', 'enggagitufi', 'Penjelajah01', 'Nurfatm56604604', 'Pribadi66223655', 'AlPacitanii', 'jumjumareka', 'AGoeci', 'tcmb_nyak_min', 'dimazjanu', 'alexcandriya', 'netizenid_', 'wiryadiharja', 'CariAmanAjadulu', 'DenDjaka14', 'andryan1453', 'tawajkt', 'ogud', 'UHarjito', '8_FERRY_8', 'danil_adp', 'rakkiyasu123', 'fat', 'muhammad_tonro', 'Ronal77349150', 'JohnAquinoo', 'Wiji_kedua', 'abah', 'komendird', 'CttnDmkrs', 'lastman365214', 'BangHendraAhmad', 'CauKepoo', 'sebulatbumi', 'ucok_aka_47', 'shayfuddinz', 'Sugiartha140385', 'Konco_82', 'GalangLulang', 'KeynaWu', 'DeniForester1', 'rezafahlv', 'rudi_depari', 'DeeRose782', 'PAkmalsapriant', 'fatraa1999', 'pradazooka', 'HasanainAbal', 'MhmmdHsaini', 'baiqdende', 'bagus_ax9', 'Buibu_', 'Hasepfurqon', 'YossWong', 'hndracong', 'paddsocy', 'friskantynova', 'bawarezeki', 'beeducated01', 'BoesthamiA', 'M15TY__KABUT', 'JPrabavany', 'heriyantoquin', 'MarioInferno', 'RezimBokek', 'calonorangsugih', 'papanyaarin', 'susyrizky', 'BangJun', 'AsdimanTua', 'JailJali', 'Setiawa29869974', 'Ir_Fian_To', 'bloodyNyos', 'dickrahar', 'permenkemasan', 'AwanxColler', 'knpiharis', 'Akhmad_Adil', 'NcangBeni', 'SandjojoS', 'yasuoxyz1', 'yaditriya', 'Pagi_Baru', 'AliObeng', 'faktaidn_', 'Ceritanyapanja1', '2045Tv', 'LOVE', 'MFAlfath', 'kukuh_irianto', 'tolakbigotnkri', 'sugxrpluums', 'GratisTerbaik', 'akhdan_2011', 'LkmnOkterman', 'ridanulantary27', 'zain1902', 'arika_120r', 'AgusTornado2', 'sapunejagat', 'rohmatyellow', 'SeptiadiAndrie', 'ben_anhar', 'kangkhoiry', 'LoveOfSpeechz', 'chrisdinantya', 'WqKusuma2', 'gerinisk2', 'Cozillar_Chrome', 'andaliman_raya', 'TerongU72356816', 'ErickFernandoW', 'MajuTerus____', 'MahpudV', 'tadanamasaya', 'basuki', 'SOLIDUM7', 'dodokovic', 'Busrah52946787', 'GAH_KERJO', 'RakhmanHeri', 'teak_home', 'OrangMEDAN7', 'edoharyono', 'corokandangrusa', 'CakCoenk', 'PDemokratjkt', 'WAHIDFD1', 'ari', 'ZALFITRA_Nazar', 'sennnnoooo', 'sozis_kanpler', 'aimrod', 'Ridwandasitisar', 'ada_pohan', 'Ry_Odji', 'NavyGaming9', 'Echaschan1', 'michael021110', 'kangirul803', 'mbahbonoo', 'chil14real', 'Azimaulana17', 'MilitoFk', 'JagoTandang21', 'riyanabe', 'Benisoeroso', 'orang_ilang70', 'annasantoz318', 'zakicha29230025', 'alam32944205', 'I5AMA', 'ready_brahmana', 'makejoy22', 'sayids', 'Roomans', 'Revenge00810455', 'BerlandGroup', 'jack', 'chess_rhiel', 'malawau', 'Jon_de_Ababiel', 'Suprayi71269194', 'LuqmanBeeNKRI', 'IanurrakhmanIrk', 'AcoyBk', 'Waras4ever', 'cacake18', 'pedro_supedro1', 'satria_preda', 'SURYAPS20_', 'rahmaddiant0', 'bonie0959', 'Muhamma87797214', 'bakcerpen', 'Wiyanto79954068', 'asal__tebak', 'curoci1', 'RevolBertrus7', 'PanciB0zz', 'NicholasErik', 'PangeranBiru212', 'tershanjung13', 'KangHavid', 'dHan3_aNas', 'heriwidiarso', 'argamuria', 'Wahyuku92681994', 'Is', 'kangdede78', 'denidkraider', 'AKu71678189', 'Sans_30', 'BgubauThobyTb2', 'Mr_Hendra_H', 'wawantatoo', '8147fcdb17514f3', 'pimbidi', 'MjAgungNugroho1', 'HerlySukoco', 'miun_samin', 'Suharto_BC', 'BongPapMa', 'Dekgam2106', 'maungngomul', 'NurrioK97', 'kang_asepakuda', 'irdzi29', 'wahyu', 'fadyanova', 'Gojidfearless', 'Melvinblarakan', 'mayday444444', 'TongTji789', 'Vivi8697822896', 'AstroAtmos', 'Kentir', 'nkri_info', 'masewah', 'nu', 'AamAmirah2', 'ZSumirta', 'widayanto80', 's4h4b4tl4m4', 'Koemala_sary', 'mandirit49', 'ahongherlando', 'dastanalghazy01', 'Rdicks10', 'washabii22', 'denbagushari', 'KemensetnegRI', 'Junery_jr91', 'Karjani15', 'sakiracy', 'djohansoehandy', 'Azlasy', 'retritamsi', 'anti_aksiapapun', 'k1k1taufik', 'fernandyagga', 'Onel_JRH', 'abitanyo78', 'ioneinoe', 'PrasetyoEdi', 'SyabillalS', 'pa2gha2', 'bankyossie1', 'samurai_tenro', 'Fixtech7', 'mkoen13', 'Lala', 'jamban9', 'keksugino', 'mengmaaf', 'Kebenaran_HQQ', 'fly_swing', 'sarungkotak2', 'ZAINAL64638613', 'JenokAljhirez01', 'yoeandha01', 'kopex', 'rh_pradana', 'YoseAndri', 'DonFlamingo_', 'ab______kangman', 'AbaheKade', 'DjuremiReinke', 'Sehaniya', 'MallorySianturi', 'titokarnavian', 'PanjaitanNoven', 'SeanPrawiro', '___ZADU___', 'Mukidioon2', 'ais_arza', 'YMerbabu', 'Go_Drill', 'samyoesmar', 'jaja', 'Delamination14', 'NetizenZulid', 'maliq1928', 'loopbackmsc', 'Wdiens', 'UpikTaufik8', 'apeaceallpart', 'likha', 'ibanuez_savajko', 'ArlyndaRatu', 'sasaranbina', 'HernandezAcha', 'daRa', 'AniBunny14', 'oposisi_merdeka', 'HarrisRegar', 'DeltaDesignSDA', 'FikriNuqroho', 'babyboyuniverse', 'surabioncomamis', 'Justonedy2', 'radixwp', 'dbagyo', 'musthofa_harun', 'quinn_corner023', 'herman_chou73', 'Bakwan_', 'IwanKurus8', 'MafiaWasit', 'donmlengos', 'ciungwanara_88', 'wahyujaya93', 'dampakindra', 'RAKYATJ97874842', 'morrisssey', 'elbarkani7', 'JalanAnOnym7', 'Nuryant98975867', 'dpalgunadi1', 'DwiMuchsin', 'benangkatun', 'taliwongsooo', 'kus', 'Yudiantiyaman', 'NovalAssegaf', 'Emma73188421', 'SasmayaRespati', 'Macho90El', 'RaraAbila', 'antarikzaHQ', 'Amryjayuz', 'rikoadiatma', 'Angga603300565', 'StephenTanuwija', 'setiadjoeang', 'nvn_hdyt', 'bread', 'Abe', 'ltr', 'MMamin98250444', 'Srikandi', 'budiwithlove', 'Singgih_permdi', 'helmifelis', 'andyal81', 'Iseng57185173', 'AniesIsTheBest', 'Ari3Pras', 'jamril_nursehan', 'deditelaumbanu4', '5arbini', 'ikn', 'yanpanjie', 'Suwarto98207844', 'BackBoneTaif', 'Arman_topbgt', 'De_wwyyy', 'SlametW62594274', 'trussliz', 'Ingin', 'MadhangSego', 'HifdiAmrillah', '10Sutedi', 'Arman', 'Dhimas_Mashudi', 'Purham6', 'ngisormejo', 'antonsampit', 'Indo_Bekerja', 'harumvaness', 'Arifian77', 'rinaldialamsya5', 'saisane_wae', 'yuda', 'batireinyong', 'devils4dvocate', 'Roydarmansyah90', 'IndoBarometer', 'netijenplusnam2', 'nezarpatria', 'harysuse', 'aziz_jordan', 'Rahmatmikhaela', 'AgusSup78953147', 'BalikLagiPecah', 'BROW_nis', 'oryaoiii', 'PoesTri', 'Pambudiherawan', 'tjapoenglaut', 'SentoSareen', 'EksMarbot', 'Raden_Cebong', 'dybaleee', 'Feri1Perdana', 'aji_ab', 'jandakembang78', 'AthuurN', 'HermawanadiCand', 'hutapea_tiarma', 'RonnyYulianto7', 'Sintamahalona', 'Vito69496691', 'MCybermuslim', 'gunturwibowo30', 'LTwitland', 'Opicknoviadi', 'ahmadmunawwir10', 'AlyaniLevi', 'Iwan50349206', 'LuckyLudjainat1', 'DCeduk', 'IinSuriin1', 'jack___wolfskin', 'supriyantoezra', 'PutraWadapi2', 'Beni332211', 'jojo', 'firlyxx', 'Merdekalah123', 'maulanaahmadsi1', 'CyberHansip86', 'ridwan_banjari', 'Muhamad81748951', 'akabelen444', 'SumantriBrata', 'HeriZudin', 'tamerlane9470', 'AgusSiswanto789', 'SayutiNasri', 'dabigujosman1', 'Gw_Anti_Komunis', 'bravecation_m', 'DimasThogar', 'Diek_Clev', 'RelawanAnies24', 'JawaraSantuy', 'stafsus_dagelan', 'abd_hrp', 'pbukanv', 'KMER212', 'FarhanAtjeh', 'HanyaOrgDewasa', 'oxoxixixi', 'hoax_bukan', 'kartuprankerja', 'rethiesri', 'auliaprasetyah1', 'ditotokok', 'James00159152', 'Wongkul19322039', 'ARisnawan82', 'DanunMuseLim', 'AndiSyarifMaul1', 'FCBayernEN', 'aribowos', 'H82672090Hakim', 'noelrusmana99', 'hakunamaku', 'yaudhyaaaa', 'wingkyp', 'BuchroniK', 'mbahdoro1', 'nak_teri', 'FotoNurdin', 'LekKacung', 'WeolJohny', 'bodonx_EA', 'janz1829', 'AhlulQohwah', 'BogaAndis', 'Wendi96475512', 'ArgentianaA', 'conan', 'rinoli3', 'Zaenal25816297', 'Jokowo09994509', 'BerhadiahPulpen', 'radialv', 'JonasMarzuki', 'med__81', 'gilanggumilang', 'garagarabola', 'M15TY', 'roasolo2', 'youngeagle__', 'TMahasan', 'run2thewater', 'KholiqKhan4', 'bujangmisuh', 'Nerra031', 'KopralJ25813605', 'adi2576', 'muliaaray', 'kan9_batag0r', 'HERMAWA87270689', 'Last', 'ruwednesia', 'Bambang67561659', '1001Alasan_', 'Adhi_Beka2', 'dedy_sucianto', 'interfans12', '042Teguh', 'AliSinggih1', 'SBahriTweet', 'frenssiahaan30', 'Mxmomogi', 'AkbarGin', 'enrithea', 'saruman_gondor', 'satyaoke', 'eno', 'dirkmc3', 'rollingwoles', 'Anoon404', 'Nicestory08', 'sar_nono065', 'ardizubir67', 'Alapala51530665', 'jidimohammad', 'sandra_hut', 'KangenNemo'})\n",
            "frozenset({'419Tajul', 'em_rokib1982', 'Rejosh2', 'mataairku', 'DennyGu47596295', 'ahmadzahroni', 'adhidaud', 'Hartono70515456', 'panjinugroho80', 'AliHasymi17', 'ArilGuci', 'massool', 'DeltaStore2020', 'Wwn0303', 'AdjiEins', 'blue_fire1221', 'pudoli_sandra', 'camilajenie', 'Myname1579', 'koncektanah', 'tjt1974', 'NalaSugesti', 'irwanrgafar', 'Rapkar', 'HadiWibisono10', 'RezimKeparat', 'MataReat', 'JFD56667058', 'Basukirahmat70', 'salmanbestu', 'ArulArulArulA11', 'PresidenSang', 'BambangWidyasm1', 'jaymaholdtra', 'Konfrontasi', 'SOkeah2', 'haikal_ramae', 'andrariez', 'abu', 'Wans2334', 'DodyAnggoro', 'Whoru90408865', 'RRahmanjack', 'kojex201266', 'PakJenggot___', 'AgusSop18908328', 'Kangrohim14', 'yanto_desy', 'emmii_bijak', 'Aribawono471', 'anas48324567', 'Jasasewamobil1', 'nenni', 'asfan_warah', 'PreciosaKanti', 'Kopiku49433058', 'Melkihastomo', 'Sultan00674771', 'itto_darma1', 'amir_alv', 'rmpsnperang', 'y_yumnan', 'id_luka', 'PARADASIBARANI', 'ryanxyz', 'Panglima', 'perambah', 'papa_sheva', 'Heryawanian', 'YASOzatulo', 'verticalscape', 'tanahbanh', 'Satria99647567', 'umayah14306947', 'UtangJpu', 'm2bOfficial1', 'RadenKasep', 'fatriaullah', 'indratwoko', 'HermanLanang3', 'NusaCiptaInti', 'sandysandiego76', 'dianper49617298', 'ahmadmulyadish1', 'KWidiarso', 'MargoAwangAwung', 'dendrob03402808', 'MButarButar3', 'KunkunTarkun', 'H4l1mun', 'shda_agatha_', 'feriamsari', 'TjutjunKartini1', 'DayatSutisnaDa1', 'Gr4sssss', 'nuicemedia', 'bro', 'aikel112629', 'LPingitan', 'Rakyat____', 'Paijo32512510', 'bwinarso99', 'aniesfor2024', 'aryasubrata11', 'Lasoren2', 'BantenIka', 'sakamusik', 'tutysusatya', 'riskaeuy77', 'AlfiAlle', 'SiapaNamamu12', 'bagassgt', 'AmetRiyadi9', 'iqbal', 'neocorp3', 'nahisrebek', 'ali_alisalim98', 'yun123452788', 'Langit', 'alisyarief', 'RoySugianto23', 'bkpm', 'SenoWerkudoro5', 'Widodo71852194', 'Harry85469365', 'SafriNuntung', 'own2balls', 'Tri', 'Sur', 'Sugiarto001', 'asuss300ca', 'Gerry90773581', 'PUTRABUKIT13', 'imsitumeang', 'Mulyadi30716666', 'ionedhs', 'BangJag67469926', 'prabususatya', 'eppyjozz', 'RickyFight', 'deannova26', 'inddraa5', 'GarudaWisnu11', 'SantriJalanan70', 'LBalsep', 'still_hendro', 'chdnzm1', 'Muslim', 'ICHANKsrg2', 'AkbNouval', 'CEMzNUK4bAAFAsb', 'Syamsul17829218', 'Itoonk1', 'GrsJulius', 'Belgedez13', 'GapaiRidhoAllah', 'wongkalibanteng', 'kontrasongong', 'ajegilelu1', 'AryoKuncoro47', 'DigiSmart', 'prabowo_hanny', 'bambangsoesatyo', 'assa_imelda', 'Karwito9', 'achza81', 'suwito_abdullah', 'vatony_11p', 'wahyudi', 'SuhartoLaswi', 'RayKnig16584322', 'bapakbagus4', 'AzizyPambudi', 'Sambodo_ah', 'jufriyanto98', 'LanangJagad31', 'AndiDarwis71', 'decarlieracing', 'infidels888', 'JS', 'AGP26231197', 'niwablezinky', 'RezaDarwien', 'K_Wartika', 'alibasr65943070', 'zulhier', 'OmJun32709962', 'Ibrahim24831326', 'ranee655', 'tiurpakpahan2', 'JengkolMayo', 'BroAfqy', 'aselirembang', 'SarhudiB', 'niniek2504', 'Amangdewa', 'proposal', 'AdjidMuhamad', 'DayakMaju', 'YanuarIllahi', 'ForRezim', 'RMSigalingging1', 'HudSuharg', 'MochRomansa', 'tibulessek', 'jaman', 'AhmadMuhtar_98', 'KosmetikDinda1', 'MSR_MSR_MSR', 'djoko786249933', 'soloposdotcom', 'AryaSom34444331', 'puspita3_eka', 'jmandiri011', 'mmarleyt', 'Kopi_Hitam2022', 'hendriprabowo', 'handrisontea', 'Manzuu181', 'Bambang', 'DemoKreasi889', 'Tendy_KeyBass', 'sexykiller903', 'Ibnu_Radi', 'RudyRudyNKRI', 'ifull1934', 'triliuner007', 'desipurwani1', 'LaNyallaAcademy', 'TrulyTob', 'TaherBayu', 'idubgus_62', 'FerdiantoSony', 'BangsaAbah', 'BambangSumarti', 'Profesional70', 'arydidik', 'IMCMushroom', 'arielkw29', 'SULNKECE1', 'Embunpa01390476', 'amlahtan2011', 'EdySant12773784', 'diva', 'saiful', 'kalap_corona', 'nawaum2022', 'non', 'AhmadSyah458', 'jekgarbi', 'SomplakHerman', 'rolandcahya15', 'Ibadt11', 'romeo', 'HerintoK', 'NegeriKolam', 'dwy1965', 'AbdillahAba', 'AJ150876', 'restukhoiruls', 'Uwaisalatas', 'DediSup53523518', 'Proboss88', 'padondont', 'huitutbuwaw', 'Juliocaesar_11', '8591Sade', 'robino', 'rahman_nanie', 'Affan79992133', 'amujahid65', 'm_erwiansyah', 'FirmansahRiski', 'bambangherm2022', 'Taufiq13796699', 'EmNasir3', 'bongcit1', 'Josh_Hp06', 'Promosi22096333', 'sepedakujelek', 'nisma_mokhtar', 'NobowoNonowo', 'd4Rminta', 'muakanoke', 'ListyoRini02', 'Farhan26094445', 'Mustofa39120770', 'HeriWij67472901', 'ScioCogitoCredo', 'rosidin_bae', 'OxluckyOman', 'Tumarja2', 'tresaple', 'ArieMutyara', 'Upasara5', 'MOHAMAD26051170', 'democrazymedia', 'tanyaAzka', 'Oposisi_Militan', 'abang_suryo', 'yock_sukaryono', 'singo', 'no_rlgion', 'dhessy_maharani', 'aazni', 'fifa_aris', 'kendie42', 'siagiansulben', 'abungresik', 'Snpth_Tomporejo', 'ronaldwj14', 'tuminosaja', 'Bambang18041954', 'Zahra_Madinaa', 'mulyadimalang', 'Agust774596422', 'Granade8994', 'harun_mas_iku', 'boedi0n0', 'EkoTPPPagak', 'Mumu1000000', 'yohaness6411', 'madachiba', 'NenkMonica', 'gandhigendon', 'nayla0999', 'MrJohnDoe', 'AprillioHadi', 'T', 'HakamBelemo', 'SantorinisSun', 'cahangon1207', 'rhamasukma', 'butramisty', 'Jhonmar71570206', 'gugugaga6661', 'wawan', 'ariesandi_B', 'UniAima', 'ApyAsap', 'danyharto', 'NyataNyataKerja', 'Ratmangondhez1', 'SSastraprawira', 'JasrilSaid', 'TrisSetya3', 'EkoAtmojo19', 'boys_505', 'HotmaParasian', 'Jaya_Ind', 'mbah_way', 'SnotesNotes', 'Anyer_Fury', 'Syahrul27564524', 'suryani_0321', 'merdekadotcom', 'Madebylaluna', 'Poly_Walun', 'AzzizzahNur', 'PowerInvestindo', 'gathoe18', 'Uncluk3', 'Ariiq39638088', 'mahmudy49001585', 'dirdja5758', 'z4r4n', 'stiyvan', 'AliWahiruna', 'mjpty58', 'amamaopare', 'Adhie935881782', 'HanzLatief', 'dedimahardi', 'blankbanget', 'Arbi58734777', 'Yulia_nandiyu98', 'Michael_Mukiyo', 'Rapkar_LA', 'perkasa', 'aripramudyo', 'baletunu', 'ekowboy2', 'ketut188', 'PlendoDon', '_samsyah4', 'junichirich', 'handajani10', 'SeruniPuspaAlam', 'CendollMabess', 'Saefull62028784', 'wadjdy', 'kelapamuda80', 'HermanWSutisna1', 'Bambang71161953', 'AjaNizwar', 'GunawanSerafine', 'junregar30', 'Kdarwata20', 'Momonsimomon', 'reihanf474', 'JoegejeGeje', 'keuangannews', 'Ringo15Pansa', 'Ach_Faizal', 'moh_boesh', 'bakul_sop', 'kopiduadelapan', 'n_pamuji', 'Kitasemu2', 'IwayanSukariaw1', 'markuszacharia1', 'Ade22404206', 'AlvredoBadhar', 'abifauzancs', 'Anang_soetoyo', 'JorgiPrima', 'RosidinPulunga4', 'DinastiTambunan', 'Bams27735590', 'Kamdi35860761', 'vior', 'bagoes', 'Antoyuli150670', 'RezimBipang', 'SrikayaNona', 'ABUDITEA', 'tamartamsil', 'ViyuZacky', 'MasHuri53048612', 'Maheswari_Trans', 'arifin34533', 'SuratmanWirose1', 'MprAldo', 'pawangbanteng', 'vladinord01', 'Farid78580326', 'Hyudi15', 'sutanakhir', 'sobatnya', 'Azgar021', 'RFauzy5', 'ronald_ntot', 'yab31421723', 'achmad_kusnanto', 'MNurBonar', 'MissKoral', 'DonieBie', 'R_Arnoldii', 'Amira3333333', 'DarisR99', 'bristynangela', 'Dennis93536453', 'DilanDaewokas', 'Pecinta', 'AbdulHa10259822', 'baharst28', 'nonpartisan666', 'AirdanGelombang', 'STresnowat1', 'Annamarbun5', 'DeEagles3', 'rusAMQ', 'RazakSabriah', 'iwan_mochamad', 'ekkie2108', 'ACHMADTAUFIEQ11', 'soeyoto1', 'muhsinsalim30', 'presiden', 'ginger9916', 'juhaiman15', 'NehemiaAmallo', 'AndifaizalAbd', 'LiliSur19187398', 'JajangS57466125', 'jinxsud', 'FirdaSyeban', 'matsodor', 'wulandahokimoto', 'Gideonsinaga', 'faktaanies', 'syamsulkoim', 'TedjaWoeloeng', 'Shofia_Labora', 'susan1612', 'Herman', 'Ozie_67', 'JacksQuevara', 'sonifunny85', 'bledozcity', 'PrayEatLuv', 'AdjaCapoek', 'ZulaikaSugiarto', 'rafsa', 'atipsthahir', 'rioprosetara', 'HerryNuryadi1', 'darthvder_', 'A3jati', 'Umbara', 'KaryawanTuhan77', '_rakyatjelata', 'DayakJempol', 'SimbangT', 'supraptiyono', 'Agun80gun', 'AgusWar51357635', 'KrismanPasaribu', 'Retno_HS2', 'darwin_lutor16', 'SAMMONIN', 'taharudddin', 'roycembadun', 'syarifudinSukr1', 'JokoLipService', 'j4w4rA', 'staysaferek', 'Irna37290983', 'RobertJanuar2', '_adityaiskandar', 'gedetwit', 'Budy09546711', 'bramkey1', 'BlackSp92744249', 'LulukSwa', 'tiganomor282', 'HelmiFelis', 'DartodartoD', 'HansjayaHans', 'AmirSe75822816', 'AlberaD5', 'dhiemasrizaldy', 'hendrik', 'alboy', 'DsSupriyady', 'myhppylittlepil', 'a_djumarlan', 'narkosun', 'kadrunzz212', 'irvansyah_d', 'mail_karcaa', 'Dominic_Dhom', 'teuku_fachrians', 'RajaPanukkunan', 'setia010185', 'rip_l0gic', 'KevinCh84889504', 'matamerdeka17', 'Ad', 'pujihandoko811', 'debu_kipa5', 'yoloboxandrew1', 'Bolang47292144', 'BebenVa', 'RyaWiedy', 'Irfanz_andre', 'ErlanDAzis', 'TIRANISAKIT', 'Opa_Lagi_Jalan2', 'YoSetiabudi', 'DMafizalni', 'GeiszChalifah', 'ToniSugiri', 'daeng_pole', 'bungastro', 'Najis3Periode', 'Sapto7mk1', 'antimanipulasi', 'akoeben3', 'voxyimpianku', 'safa_almira20', 'ziezie84187091', 'BandarasEmanuel', 'ErikS_2601', 'Nuraini6713', 'BlackredGanz', 'Marsam44221909', 'KaptenKikuk', 'ircboy', 'SooJun97650962', 'DongenakDongora', 'DarsAlexandra1', 'wulanarum15', 'engkoskoswara65', 'wan_ngibul', 'thegunners65', 'asetyoso', 'yosnggarang', 'budiono8520', 'changkarock', '2019PAS3', 'borneos206', 'ignamukti', 'Alfateh76818374', 'dirt', 'Timothy18471739', 'Mileanies24', 'BukanMa73006397', 'machbeach', 'YLBHI', 'zenold', 'sancik_pahmi', 'mazDa1310', 'hansssolo', 'wan', 'BudiIdk2', 'GrandLight88', 'YSakhrul', 'IsnanZulfida', 'PG_Kla_10', 'KharismaSang', 'SmbHendra', 'ukhtielya', 'Srimuly85735447', 'CintaNegeri', 'WorldWimWeb', 'Subadi_Sigit_W', 'DedySet19424526', 'IbnuAfwan2', 'akhmadsoderi2', 'DjokoRetnadi', 'Yanihunny1', 'EricSentana68', 'abu_waras', 'aljufri_adenk', 'kang', 'yani_akhmad', 'banikolor', 'ione', 'achmad_buzrizal', 'Winardi_641', 'sutanmangara', 'razmatafara_', 'WiyonoHw', 'Boediantar4', 'Z74753011', 'dara', 'soekamti_andang', 'SenjaSore22560', 'fathkadesign', 'bolangwebberII', 'chireng', 'rockygerungreal', 'kangisrona', 'rajodirajoSS', 'icatwps', 'gembala_asu', 'PaijoKidemang', 'LikeEarth43351', 'ustadzkhalid', 'AnQ_L3POK', 'caul', 'Udinjae4', 'nenni_achir1', 'HermanBudiSant4', 'To7033397616', 'Arief01071979', 'raja_pasar', 'ManukLondo76', 'DjogdjaKembali', 'vior_ind', 'Setiawan6251ya1', 'afewgoodmen45', 'desi_mezia', 'espete812', 'JustOrdinay', 'MayaA62580468', 'chusnuIch', 'Adinda', 'CakCuk86', 'Cahyo_ch', 'HendryS84858335', 'Pakamkalam', 'GilangA04097662', 'ai_abdulazis', 'abiarsaumar', 'FCN_Transport', 'OmpopsOm', 'Official3Ato', 'LNM2024', 'AJL_Pasee', 'slamet12270', 'biacho6688992', 'Mulyadi03790651', 'suchardie_doega', 'don_rahmad', 'andre', 'buattertawa', 'AgusMun25894838', 'maymarmas', 'sitleryos', 'Rini703', 'juandajaya4', 'adityaabadi5', 'BacotPerih', 'porosotLeos1', 'Indra2127', '_PointBroo__', 'rozali', 'akunyangbaik', 'obel_cikal', 'WidodoDodo5', 'r36un', 'CecepSt', 'djalu1964', 'msaid', 'AlayBerisik', 'jalanlurus05', 'NamakuOnah', 'icallaci88', 'habiburokhman', 'Berusaha4', 'HaddadSyena', 'jindc6', 'TirtoID', 'simkuringporsea', 'banyu_s', 'kwinarta279', 'Seruan', 'caitlinlauretta', 'LinaSoesmono', 'AdiPramomo', 'bachrum', 'sujeAchmad', 'JurnaldesaN', 'sup3r4banx', 'douboegiez', 'muttaqien1962y1', 'black011285', 'anirohayano701', 'telaumnanua', 'HengkyMarting', 'Junaedy_8906', 'ridwan2474', 'anselmdurmann', 'Kepolisian', 'haritedjamantri', 'AbymaknunB', 'RudiWah93009623', 'gusbenk', 'Mara_Reborn', 'djonprasetyanto', 'mf4future', 'Tery44117487', 'TTuwuh', 'MuhamadYatim10', 'permana17703522', 'RYOBARON', 'jakelaregrage', 'Wahyu16D', 'Kicks38578414', 'Aku_Dan_Semesta', 'Ivan01915617', 'Nasab', 'PendiriRepublik', 'suromardanu', 'metha_diwangga', 'SSuwerr', 'UkanIbrahim', 'tareqAzizii', 'ArieMunil', 'MangAhmadAja', 'RijikGuguk', 'yudiistiono09', 'van_Adi20', 'Ihul53568851', 'rifelsgod', 'Mangkub68305207', 'msiagia', 'perianto1970', 'yohanescafe', 'ndhessss', 'duniabulat5', 'EmeritaArkompas', 'JurixHama', 'YusufMu15877377', 'javieralaqsa', 'AbdulBasarin', 'HardokoWisnu', 'SoegihantoHeroe', 'BnnAgus', 'j_sulut', '_erachmat', 'Titik39078729', 'UmJihan69', 'mhmfikri', 'FajarSirait9', 'Kobarian557987', 'NasrieAep', 'FahmiNsk', 'masbraling2', 'Dwirusmantinin1', 'Jarwo99661180', 'Anu44575827', 'codot_25', 'Spnjnj20', 'andryjuga', 'AlaindelonPaijo', 'ferdy05379246', 'ilc', 'Nasrul', 'kas_maman', 'julpendisinurat', 'GudpipelH', 'EMusiran', 'hhamdisofyan', 'endri671', 'fania_win', 'PeriArdian2', 'danu64283274', 'KDyiah', 'rahmaniarbaftim', 'NajwaShihab', 'radit133', 'CRYPT0_IN', 'rief7722', 'superandreyo', 'putinkhov', 'Sigitcsh2', 'Di4rmenK', 'harsonohar10', 'tacnol', 'me', 'MC', 'ganafmargi', 'descha', 'anti', 'BakriPejaten', 'fitriz1511', 'BLailatus', 'abdulhakim1480', 'fnncoid', 'anusekaliya', 'aan_hafram', 'NoName13128402', 'KomnasHAM', 'aunsstuff', 'douboegiez_', 'BudhiPrabowo3', 'Mahatirrizki', 'ThE_ELm007', 'kuntaw_h', 'rahmasarita', 'khojan_x_x', 'organik', 'SIR_Pribadi', 'AKU_dgn3putra', 'EnnyPurwanti13', 'adi_blinx', 'NandarGobel', 'kit', 'RustamLatifKha1', 'Arthania12', 'Joe_58w', 'Zahary5Achmad', 'daviani_sendy', 'UkiSanukri5', 'blarakering', 'MUSLIM', '13angkitArdians', 'o3nNHboQbkXZQnn', 'Sumantr20316632', 'KatakanKebenarn', 'endangriyanto4', 'jeremaayy', 'Bangica90550761', 'GurBachot', 'D_rayanS', 'risad_tristan', 'MataEla59147147', 'Dialoha', 'Trimatrima1', 'gantangpa', 'khojan00', 'DIDIK', 'MSApunya', 'jawapos', 'eatingdimsum', 'RelawanNusanta1', 'kad_ding', 'perdanagilang11', 'BalyaMoh', 'nengiten', 'cebong', 'tian', 'WahysWahyudin', 'yance', 'MuhAzwar17', 'puji_sumarno', 'hendrik_ringo', 'MYNasution2', 'rachmanh76', 'AfandyHasan2', 'Muhamma77705787', 'ReflyHZ', 'QaillaAsyiqah', 'BudiHimawan28', 'JM_Bela_NKRI', 'BhaktiRah', 'Haris67975397', 'ShofwatE', 'Utero2022', 'DesriyantoHeri', 'rakem', 'idabuchori4', 'StefanAntonio__', 'irawan_seni', 'DJ', 'GreenpeaceID', 'atokprihartono', 'Anjoeh1975', 'JohanIkmal', 'Jalaramm2', 'gaganhermawan75', 'suryasembilan', 'Stonya16', 'IndraKomano', 'leviKiem', 'Maizufri', 'Pati3Sakao', 'santai2aja', 'AcgungN', 'auliamed', 'TarunaAdjie1', 'kepalabatu1292', 'arta', 'ndorochriskgph', 'mathsoul1', 'JabreakYudha', 'umam_ogi', 'LantjoerLanang', 'REINYA95665041', 'Hoky68293174', 'AptBasri', 'geloraco', 'Bangg', 'boy_mirah', 'GomarusBudiatn4', 'JemetSamsu', 'HazHasibuan', 'HajiBajuri', 'jojoe_gaza', 'Gede', 'ANtoCakep', 'AlasBanjaran', 'UAS', 'Eppoy89', 'kadomainan', 'stevau_', 'Ratu31195942', 'BukanSambo', 'adamsaiful86', 'wongkecemek', 'abu_hudzaifah', 'Aktivis_HAM_RI', 'ilkurham', 'RizkyMu36148218', 'BunkTomy_sh08', 'Franken', 'DataPrint9', 'wiwin40718731', 'AliThamora', 'NCindrasari', 'MoTeeTee', 'mohaj09', 'TerasCLBK', 'Radenlangitan', 'Abuhammasah', 'isalseabiscuit', 'ambrocus', 'SudungSimamora3', 'Achenk25177836', 'cakrawalapagi99', 'NanditoOmje', 'gem_1000x', 'dedifrozenfood', 'JokoWah33372742', 'JarnasRaya', 'NdesoPonco', 'JohanZaba', 'gak_aneh', 'hulkolorijo', 'feriphe3', 'arzirimuuw', 'PadadaLaki', 'Andi09774584', 'NuryantoYohanes', 'To_W3LLy', 'Ranger', 'jubaedi', 'Gilang72gmailc1', 'dododid64453759', 'neotriplefeet', 'DonJuan_3123', 'Raju89755360', 'IrsyadMohmed', 'nifta82', 'FoeraeraD', 'apuds17', 'Amdevdes', 'MocangTian', 'RMTHandoko', 'JafYaya2150', 'haristop99', 'KurniaAditia5', 'EvaSriDiana', 'ryd', 'OerangB', 'Ferdyan_SN', 'bhangantho', 'Ratata04283021', 'JustKaka04', 'Maruahalsiahaa2', 'faqqhuee', 'Blackred262626', 'Bayu_Ndim_ex', 'Priambodosugen1', 'alidetroy', 'tumim', 'RaflyRiffath', 'EdwinYdym', 'thelaw_m', 'darmalikSe', 'punokawan88', 'encesutisna', 'Lostama18', 'akoeben2', 'Chokee72634552', 'RivaldiFaza', 'AblehOglenk', 'faridrasyidi57', 'MARQUEZ__93', 'TxtFromMando', 'Albarro1978', 'fadroel', 'borist0ka', 'Gandawan', 'AtukKe3', 'SholikanD', 'aliakbar_62', 'Brutus04463720', 'IneedULord', 'BUDAKBADUY8', 'AdindaAsmara', 'kitamerdeka19', 'GusLawyer1', 'Rezy69592074', 'Marikophi1', 'golan_five98', 'galembheang', 'dayanty_rose', 'jakkari1', 'mangga_wae', 'yanto', 'yeremia23', 'agoez_76', 'Busyair12161815', 'iyai_toeni', 'AndyHendra99', '15_angka', 'H_Besar09', 'MichelAdam5', 'popcornletare', 'Luthfi_nashrul', 'Lululal50596679', 'GustiMberkahi', 'bintoro35490219', 'Ahmad99tm', 'CahRukan', 'joddie', 'omarmoyo963', 'ElfizaEnny', 'MrRooneyNoBody', 'ilham1057', 'stompstin', 'iqmaulana_', 'Aja6Saad', 'Hasbil', 'fajaronline', 'Picoropiko', 'Sigmahalim', 'Rizwanovharoon', 'Giman', 'barkahjogis', 'birin_jambi', 'henrynico', 'SugitoMustofa', 'exelrockstar', 'Dety22248995', 'djati', 'koming2012', 'akuragil', 'wawa_huwa', 'Jasmin37342265', 'Budiant19029849', 'Mawardi050574', 'OposisiCerdas', 'Ignastherry', 'AlangBabega76', 'OebaqK', 'herygunarto', 'Aldamar83697681', 'damai61549852', 'ColuRengge', 'LaJaya75536516', 'rivaldi04812418', 'handiabbott', 'SutanMangaraHrp', 'KeysaDwiadinda1', '093Bintang', 'RezhaChaniago', 'hdsambodo', 'perbowo', 'ahmadsalam0741', 'RomziTrilaksana', 'Mastrip10', 'prabamska', 'kahminasionalRI', 'Yakamaniku', 'GilaKadrun', 'ReflyHarun', 'Agus_Rambo0907', 'nurasdaffa', 'fauzansamsury', 'mancall', 'FaulinaAzizah', 'KINGsm4kers', 'niconico_jak', 'AhmadNa16807662', 'RomeoWalker19', 'NatizenRi', 'Cikimprinh', 'AyahFathan3', 'AriefAM', 'matsuhiroeka', 'Muhamma58659661', 'Rudy', 'Dod', 'Kumbang37123036', 'SaatTobat22', 'IwanMarora', 'AdiHidayatLcMa', 'wisnu_aj1', 'doni_andalas', 'DuanePutra', 'DarwisArbiantar', 'jebred73', 'datukma37848351', 'KAPLAK', 'SahLeoSin', 'deninursamsi', 'SanusiUndins', 'psurahmat', 'pujowidodo', 'hendrawarmanr', 'tohir', 'HENDISU84145141', 'syahrial', 'Alfatih', 'benyamin_ketawa', 'DaengWahidin2', 'abyalif74_noni', 'obinriri', 'DenySaepul21', 'Maudinl1', 'denlian41', 'editya77', 'cupitata07', 'wahibsopari', 'JarmoNggung', 'Safato_SFR', 'MbahWin3', 'MoslemTrump', 'Markidil3', 'monaliza_abidin', 'arisakrisno', 'taufik_q', 'UpasRitonga2', 'AFFA', 'raharja', 'ssrjaaojr', 'PrayidC', 'baharirwan2', 'KSariade', 'EdiSuya17281287', 'Saudi', 'mutiara_anie', 'Vigriawan_van', 'Tyenxmr', 'regaldogaldo', 'ViviPalesti', 'JoysteaJs', 'Nabil32096672', 'achek_neggro', 'boedi_wie', 'nababanna2101', 'LuciaRatihz', 'Nasrul_dhifahRR', 'baiou_2829', '04Pvtra', 'Andiirfanpatan1', 'Neng', 'Dodol91015668', 'AbibullahD', 'Idud_Lekha', 'Pantauaja67', 'Luckyoshi_', 'Satupriodelagi', 'Joe_Wiet', 'tutur', 'agoezsatria3', 'Kido_ih', 'Dave', 'MakopalaS', 'ningnong2kali', 'OkiWaseng', 'Pillowtalk___', 'YoanAngelic', 'PemulaSekali', 'BlueNeo81', 'sun', 'msi_ari', 'arjunasn', 'Lamon_gray', 'OmBara03', 'Argadhahana', 'bathosai02', 'IbexIbexbelin', 'NKRI_blessed', 'pujolampusu', 'bangoneeee', 'JUN062022', 'HS_861', 'putra_nofi', 'QossamMahar', 'YulieNew', 'Antok_1005', 'Kriskawakawa', 'Didit3Ahmadi', 'RoRo87315602', 'bayubamzz', 'sumpanto', 'boodmynded24', 'reflisss', 'KWahyudiMartono', 'MochMaulidan4', 'Manguni21', 'julianike31', 'OnnoGammara09', 'Budi50966237', 'juned_zeid', 'MTaufik50002911', 'Rahayu60336018', 'didickputra73', 'OkaSaptono2', 'hendro', 'radpopper', 'found_101', 'GarengRocky', 'ARIEFP03996095', 'GunawanTariga16', 'Zoel280175', 'Ade', 'KNorris2021', 'Ooqu8585', 'halulejah', 'Zombie22743702', 'theclubforboys', 'nandar5758', 'DeddyAbdHamid', 'nir_iwan', 'FrediHadikusuma', 'agushardoyo', 'nabil69882275', 'nursii5', 'abdulja18368633', 'IrawanRommi', 'Luckyoshi', 'KinkinAsikin1', 'blackcrow0717', 'Realrisman', 'ntrahman2013', 'Technospeed', 'ekoguruoke', 'ekoamras211', 'sibayan60', 'AbidinZnl', 'patualanggaAsse', 'mulyabali', 'assegaf_aliyah', 'NH', 'SSNatzio', 'dryadirakhmadi', 'Voltz_air', 'kiwalipitu', 'Yorkeous', 'rdenymk', 'nakhoda4t4', 'ORANGPI70376928', 'nurjaman_martha', 'Al_faths200', 'hendra0201', 'woodsthejust', 'SalikFx', 'Chelktbffh', 'putraangkasa36', 'didienAZHAR', 'PancasilaSaja', 'Ronggolawe02', 'joyoboyosakti88', 'Bangkit55489150', 'abrar06978057', 'simsonallosau', 'sf1ans', 'Fitrinisa01', '87Wans', 'BudiDarma888', 'DowerAbah', 'Arofani_Hatifa', 'Gunawanilyas1', 'Chrissan2880', 'CharlieJuang', 'NASRUDD63695963', 'zeinvey', 'radensamedi', 'Keda_doank', 'kram', 'Luqmanul2188', 'Tio_tmg', 'Asdin28812169', 'SyaikhuMochtar', 'DavidHe49955130', 'Nikitong17', 'ManadoSatuNews', 'RanduWatangan', 'rodjickin', 'roniexs', 'ArekJatim72', 'baso_juragan', 'regarpauls', 'hexoctahedon', 'pinkfloydd09', 'BapakFadilLagi', 'WhatSap89659695', 'Omyung0505', 'masBarock', 'syam_juhri', 'aoeliaRF', 'andimitsu', 'hadifianwidjaja', 'tomas_budiono', 'veramustikaz', 'NEEAyu82', 'hanifyahyaasya3', 'malonda_hendrik', 'Abah_tiar75', 'sehat', 'MPutih75', 'AdeqOmpong4', 'gusradank', 'nandabachrus', 'DugulIwan', 'Been4Q59', 'AMSiCare', 'Bove52_', 'raharjokw', 'caklis4', 'NayDonuts', 'warga_songong', 'ArdoyantoE', 'dayce2229', 'LaNyallaMM1', 'BakhroinRegar', 'KhairuddinUsma5', 'ridwanwijiyant6', 'sukma', 'Muliadi75', 'karmatiranda', 'piettekoek', 'romeo08657467', 'AlifRizkiprata3', 'SudahToh', 'ChackKarya', 'HMTata3', 'Rampago15', 'Bean781', 'Cikawung_kgn58', 'Amir21308294', 'Haris33532376', 'newpresident19'})\n",
            "frozenset({'elitgl', 'JarnasABW', 'anwar95866730', 'CaesaraFrank', 'AnjaniSyakirah', 'Tohid', 'Aviraagustia', 'SangGuru2471', 'jejakachev', 'EDHARIS3', 'hasrilspdyoidc1', 'JrSinaga3', 'seutikeoimnida', 'massonny9', 'GpmnMedia', 'ArdiRiau3', 'billy4riez', 'FIFAcom', 'Mdy_Asmara1701', 'enidtranslator', 'Moch_herianto', 'Juliant23874760', 'AsliLucuBanget', 'axeltarachan', 'ahmadsahroni88', 'metha', 'SimanjuntakElly', 'AMaingak', 'Ky', 'omarbasayev18', 'HestiAndianiii', 'ki_waskita', 'SiberPMJ', 'widarto63285827', 'JohnyCRPNTR', 'ZUL', 'ImanTangankanan', 'AthayaP_', 'Alle_ex_Xander', 'Sahrin84959845', 'mas_taqien', 'sarmansdbtar', 'DhSamsul', 'Gilar1990', 'garuda080', 'malut', 'Dihandri1', 'YeniSur42_', 'maju_ahmad', 'Ihendraone2', 'maducipta', 'Dimasjoko12', 'aditya_psi', 'aniesbaswedan', 'rakyatmenanti_', 'Dediy_orlando', 'L', 'koecing_pasar', 'FendiMochamad', 'EDDYSANTRI', 'AndryN41223480', 'suriadikusumah', 'Aku_MohArwani', 'ZonaKluet', 'Pertapatua_', 'Abdulla3new', 'raetse', 'rinaldi_yudhi', 'Kacaback678910', 'bahlillahadalia', 'Kuntungkulung', 'ridwankamil', 'Cerdas32885715', 'ekorudianto0851', 'FurqonBilly', 'ALKaRZ_5', 'wahyu_azzurri', 'kurangbayar', 'golkar', 'Ninjaku4', 'silobahata', 'wiro_capitano', 'dalikum06', 'dadang2107', 'HaniNingsih4', 'KingLio17745311', 'mnuzultommy', 'SaifuddinSay', 'ANIESSATU', 'opiniindonesia_', 'relawanlanyalla', 'Disinikrik_krik', 'igo_alghozaly', 'Zafianz1', 'firmanyursak', 'Mayonkforall1', 'SotoyLuBray', 'Shantie_cutee19', 'bintangnew02', 'ArisWila', 'Zombeyy3', 'agustaufiqurro1', 'sutarno19671', '5l4m3ts', 'ChusnulCh', 'Simbok_Dharmi', 'babikurma29', 'aapriliyanto', 'AniesFans', 'Samarantu0505', 'shieldkid', 'AlqudsiAsykal', 'mustcho_55555', 'NabilaAr__', 'Juragan69856512', 'Panemba90581638', 'RumahServis', 'HanskoeG', 'IrSjoeqriy', 'ZainAris', 'CarolinSiagian', 'PutraAzir', 'Kemendag', 'dwi_nantoo', 'Cpt28', 'buds2k21', 'SIstiatuti', 'DianGondokusumo', 'aladzivie', 'krisnaparta', 'chusnuIch_', 'AK', 'AlifYW2', 'MamanSu74843985', 'Arya', 'rakyat_banten', 'MashuriMas8', 'clatenisti', 'lucihappy11', 'Taniaanandaa', 'tni', 'ilhamjati4', 'Partai', 'ersa_almaira', 'CherylTanzil', 'Herri32407314', 'Muhamma36670211', 'ekopras96808127', 'candisinaga', 'Bung_Andrian', 'ErwinRockerkids', 'largurda', 'LaseApoyHBB', 'Andifs7Fs', 'Hasanud26016311', 'zone_arizona', 'IUN00648110', 'agbudisan', 'nizaralimiii_', 'josshbayu', 'tonyAJ90616729', 'ABS49367613', 'djie_23', 'Bimsyah_', 'ArenaOp3n', 'regar_franz', 'Rifqizuhdi281', 'AzzamJihadis', 'hasbipkb', '03', 'KompasTV', 'kataanies', 'kevynsaverio', 'used2beagoodboy', 'Lulusan_Terbaik', 'saidah_leli', 'michelleziu', 'Rijal34993306', 'LintangNamirah', 'jumialfonso', 'ListyoSigitP', 'joulepakir', 'ApriyatnaYudi', 'bob_ichsan', 'PurnamaRie', 'RobertoHonggo18', 'ABDULRA89491208', 'FarzanFikran', 'Amg09913454', 'AniesPurwokerto', '_AngryWolf_', 'AkiPagiTvOne', 'Barokahaamiin', 'mulyadi2028', 'hermantmwa_', 'HJ_Boy_', 'TaufikH28980359', 'psi', 'nan_priatna', 'mashadi_abbas', 'hotgossip107', 'airlangga', 'trisunuhw', 'RuhutSitompuul', 'aressoes', 'tuiterimud', 'geekfender', 'Kumbara14467594', 'Riska_ibusaLsa', 'JanGakEthis', 'Felly_Adytia', 'SangarjunaCool', 'L_Man27', 'AgustaHaira', 'Wandymedan', 'wahyuberbedza19', 'PKSDKIJakarta', 'SyafeiMn', 'Mustami83227585', 'ex', 'Julian', 'RajaAlangalang1', 'sudirmansaid', 'FerdinandHutah5', 'mossad882', 'Astuty51', 'RaraLovie', 'KontakSenjata', 'Abah', 'kuldonk', 'GakiHajime', 'dwioktariyadi', 'RifaiTaqwin', 'jetsilvers', 'Bagindo47562689', 'JagalCebong', 'Putri', 'ViviTanxx', 'SeftCynthia', 'irhamnapermana', 'MarveDilan', 'derloven888', 'hersuss', '7utup', 'radiXe', 'SuwandaBen', 'ekowBoy', 'Albar_sw', 'Dahnilanzar', 'kopi', 'ElNursad', 'Fraksi', 'OsengBanyuwangi', 'riadi101', 'sayfull46', 'Opposite6B90', 'herjobi', 'rezkyamiriel', 'anton61093127', 'L3laki', 'nabilaaryy', 'Jaga5_sila', 'sipil82', 'johnsinagabonor', 'trisnowidibagus', 'jennifer', 'MadechanS', 'bundafeybundaf1', 'MicksMarzuq', 'andi_median', 'parungkil', 'SalimCipok', 'saripudin1601', 'FajarMoenir', 'tamanhutandki', 'MPRnews', 'mnemonictanz', 'Lumbalaut1', 'budisiswa01', 'YongkySusanto1', 'Kak1Lang1t', 'abdulzayn7', 'zoldyk45', 'hersuss_sibejoo', 'RabintonRfp', 'noumanbayyinah', 'MuhammadPoleh', 'Megatop99', 'atd_nrz', 'DPP', 'AbabilSemprong', 'KiBajolIjo', 'BungaTe97453859', 'DanieSasmita', 'satriadjenar', 'manusia80733752', 'BNurvia', 'RyanBayu__', 'kulitbumi', 'AlamOravutu', 'zalfaar9', 'Vanjava74', 'PribadiBales', 'MangDjanaBdg', 'FithriaNasda', 'sulunghasian', 'BudiHer37868321', 'CalistaWarmina', 'RiniAmbarw', 'BorneoMandau', 'afcdevan', 'BandiHermawan_', 'DewiPer3_', 'Didikjzzie', 'FitsaMarina', 'zky_zaki', 'PakwieTopan', 'AqByu', 'TukangMu', 'eedo_realman', 'bungkustukang2', 'faizalmos79', 'NyiMasRuminah', 'ayuastr21700264', 'tabascopepsauce', 'usernamemusiapa', 'St', 'JarnasABWBpn', 'RusiaOne', 'adhika', 'bkapal04', 'tirtapan', 'HasyemZ', 'dgcolection', 'MatJohar3', 'HarmoniStefano', 'AnagAlam2', 'Jlz901', 'reisyarianaa_', 'Robyganteng9', 'teguhhati20', 'dani_prakosa86', 'abdurah26718123', 'satria', 'f2s_id', 'RudiantaraWR', 'Rulyarif0906', 'Irawand33', 'KomandanViper', 'AsmanHay', 'gyart1803', 'bos_toke', 'AditGustaf', 'Agus86659282', '5758Hary', 'zaidanhsn_', 'Niaagustiann', 'jambuai', 'Wawan_74', 'UstSugengBawono', 'yuana_kusuma', 'AlesPamungkas', 'JonieDamns', 'Ria53882653', 'azkur_ghozali', 'JoeMoli5', 'Suciandoko', 'mYahya14468234', 'BudiHar74845311', 'Yusrilihza', 'Ombens70', 'RajaBulud', 'lightmotive', 'patriot016610', 'yoyo07849568', 'JimiHensem2', 'KangResign1', 'arisanti_nia', 'JerssonWolonte1', 'RafaelArseniusG', 'BangunMarkos', 'DarrulHizya', 'KosanaMatty', 'ahmad', '4417bacala', 'RiyantoBintan', 'MuhsyahrirTulo', 'ilazaknight', 'ChovaHerman', 'goen_Rgblue', 'Jokowi3periode', 'OlanSit41879845', 'penjaga15016707', 'babylonia771', 'ucida145', 'dyahNeZza', 'gibran', 'DedyRamanta', 'djuna_jr', 'rizalyoung2', 'puntadewa24', 'Ryan_Septian7', 'd4ds', 'gandiltoruan85', 'AmburadulAdul', 'antikorupsi', 'ab', 'HjAhmadS1', 'CasanovaX8X', 'BillaNindy', 'HalimPase', 'denywidjaja', 'BatuKepla', 'PutraAlamsyahJ1', 'NannyAlexendry', 'sudadmono', 'Riyanto17Putra', 'Fahrihamzah', 'andriy1314', 'Bams_Jilid2', 'fucksakeeee', 'imriatitriyanto', 'jksgrn10', 'Sulistyo961', 'amymura99', 'ST', 'DartieDartie1', 'PartaiPerindo', 'maxicorrn', 'Samudera', 'OnayRiano', 'mihrabku', 'BNPTRI', 'danielbutar21', 'rosela', 'HammamKrishna', 'Kimpoekim', 'PEMKOT', 'TheBest97311628', 'kba', 'antony_riyanto', 'juga_gitu', 'aniesGoblok', 'IdSinpo', 'portalmediaid', 'ali_rochmadi', 'ggetzy', 'IsyanaShanum', 'PDIPerjuangan', 'ivan_gendud', 'RusdiRu95544598', 'jpnncom', 'edwingosal', 'barkhah_bpp', 'SemutMerah2024', 'el_vissitompul', 'LollitaBala', 'Khatibalatief', 'Cintada16', 'DedieRuji', 'somnabulis', 'linkotv', 'zefry1974', 'Is1dyK', 'aherrys', 'IwanNgana', 'TinaWat28209246', 'muda_lurah', 'TeddyUnggik', 'AriefGka', 'henrisabastian1', 'puanmaharani', 'sayhidayat3', 'jacky', 'FPolitik', 'CCICPolri', 'ATeguh44', 'RioHand62590061', 'xquitavee', 'adittyasetianto', 'AkiJalanLurus', 'adindundendon', 'mprgoid', 'Robit48123387', 'sieradwla_', 'papariezky', 'jumintenGAKsexy', 'GImenang2024', 'syabillalnovian', 'Hari_shevchenko', 'cecep19232517', 'ChandraHary1', 'tjahkenebae', 'Napit61496887', 'Edy12744555', 'IbuNe_neng', 'NUgarislucu', 'cnbcindonesia', 'wijaya_wono', 'dprddkijakarta', 'rudhy4kurniawan', 'ega_suyatno', 'wijayantogempar', 'Ahmat_Fany', 'PamPamenang', 'Mentari00', 'janganngadu', 'Masjo_Koclok', 'cumanseragam', 'ImamMarzukiRid1', 'S1LOKA', 'mohmahfudmd', 'mastotoping', 'yuliusindro', 'kakang', 'rizieqdivist', 'UsanGSG9', 'NgkongRoses', 'rurisonatha', 'NKRILover45', 'karniilyas', 'PutraPe68576956', 'SalbootD', 'BudiSut55037067', 'bobiraychelsea', 'tentang', 'chaniadasril', 'okino2x', 'dhyanuarti', 'SupraptoHelman', 'pizzastrwbery', 'Imrajula3', 'Juventini851', 'tukangaduayam', 'faruq06254776', 'latief1163', 'aslamnatsir', 'Widiyanto772', '1356burian', 'choppyq2', 'PutraErlangga95', 'Hasto', 'JunairiHeri', 'RifaiDarusM', 'razali070985', 'InfoABW', 'choymarkochoy', 'Syarman59', 'Garanganalim77', 'JohnKuy8', 'Hulk', 'AhmadSy3_', 'rumahkit', 'Hendrikorachman', 'sugih_atine', 'BungaAnindyaa', 'Jaya', 'ManafSamuel', 'gonthopramu', 'Danki', 'a_ndi_awla', 'gus_ceria', 'BossssKR', 'princepuy1', 'denbagooz', 'pengusahatanggh', 'Roykarokaro2', 'KhobirulU', 'irfan_nuruddin', 'chuck_look', 'FahnoerIrwandhi', 'mbok_tuminah', 'ArdhaniFariz', 'tatakujiyati', 'saragih_ahmad', 'RobiTse1', 'safesinggih4', 'AsatArifin5', 'getteng_hola', 'MariaYuliyansih', 'xMN9WUNh9Xwmit7', 'Munix_black', 'XiDooms', 'Sariden10687985', 'JebuelMania900', 'ATropong', 'Puspenkum', 'virtual_asisten', 'andry', 'bekilapan', 'Def1Only', 'KacceKc', '74MahlukHalus', 'yakungismail', 'marintaneeoezr', 'Subiyan69724788', 'imambud64909264', 'Sugiyon15783772', 'SewadMukmek', 'mwan952', 'hamdanzoelva', 'Romysingo', 'Aryprasetyo85', 'sanakanies', 'b', 'linda', 'Rosedah76', 'juli', 'DPR', 'AhmadIbnSiraj', 'AuliaMuham', 'oldguntur', 'mas', 'aisyahnorin', 'jokongiskhan', 'Utara99912', 'LenteraBangsaa', 'cakimiNOW', 'ApriliaWisangg3', 'DidikPu70594714', 'mohlukmanulhak2', 'pgnunnah', 'Rif86805896', 'wiguna', 'AdityaP51301799', 'Anwarbohebo', 'Shagoe', 'HmsPoldaPapua', 'WZastra', 'FraksiPKB', 'Odhe231', 'ErikaSafiera', 'Ardhy663', 'reegatz', 'DivHumas_Cebong', 'keraktelorrrr', 'Nipre2', 'tommymks', 'Ugi7498', 'bluerranger', 'KejaksaanRI', 'canzone', 'nandayogie_', 'Kutu_Kupret_One', 'khilmibageur', 'Odesiga1', 'Cebongmilitan1', 'Sulut18', 'WanAmbruk', 'elleanor12', 'ParwantoAgus2', 'hanyatitoaja', 'eli_rujito', 'ahmad_bellamy', 'FaGtng', 'The_Piroen', 'Ghifari17smp', 'sastiafailaa_', 'T_Irham', 'k0k0hiyyun', 'selosenama', 'nasdem', 'RawakilIrfan', 'zhu', 'edgypab', 'Pendukung', 'mawar1703', 'EdwinHariyadi', 'Abdulba99410762', 'TaufikRendusara', 'NursalimElmose', 'GatotNurmantyo', 'Reiza', 'ardhani83', 'mayonghill', 'Wendra16609501', 'tjhinfar', 'ImangJasmine', 'H_RadenAgustiar', 'andhikarizkyrhn', 'china', '2024ForAnies', 'picoez', 'Bsuworo', 'twitkuopiniku', 'Xuemei_mei', 'dominikus76', 'Nokia7200', 'doncharbone', 'FerdinandHutah4', 'NapiPKS', 'otoniwdub', 'aniesmania', 'Gladislagiwoy', 'JamalBoegis', 'StioBam', 'Damai', 'Happy20122000', 'akunsahabatku', 'sekretarisPD', 'Puspen', 'HarRyAmbones', 'pembela_rakyat_', 'Anies', 'NinaCarla17', 'YoezZar', 'kemitris', 'AkhmadDimyati13', 'DKIJakarta', 'matjan51670210', 'SyariefSaji', 'EngkusAbdurahm1', 'Sukmono67655933', 'AxelAzarya', 'AlfarisMuchlis', 'AhJempol', 'chrissaliarebe1', 'perindunabi17', 'kimingo2022', 'zaskiaptri_', 'AndiSinulingga', '1WinJanuary', 'Qinuyfamily', 'fadlizon', 'martinmanurung', 'virtual', 'kolapkalip', 'DyrmanAkbar', 'DhewiDhewi11', 'petruspasaribuu', 'aldebarankw10', 'adam', 'WarasWareg', 'Burhan75568087', 'Partono_ADjem', 'RomitsuT', 'likeblue7777', 'bos', '503PL0', 'MuhammadZuhriii', 'Christi28566166', 'DinSafrud', 'DraculaMelow', 'ordersofheavens', 'KangTonothea1', 'aurafikri', 'KatolikG', 'rangga_tweet', 'g_politik2024', 'bardes131', 'Doni13587681', 'Rudy_indoart', 'Chynthia', 'firzahusainInc', 'dededaud999', 'AsevGorbacev', 'abdulazis1990', 'slankdotcom', 'ucuppampam', 'PartaiGolkar', 'setiawanh46', 'LANGKAHANIES', 'Burhanu30702523', 'papuamuslim95', 'AriYuliawati2', 'WastamBin', 'aufa_bay', 'agusnanang88', 'Erikson_Hthaean', 'luminousmatthew', 'p_priyambodo', 'rianernesto', 'sihotang_halim', 'AmrilNaufal', 'pak_juntaks', 'tandui72', 'jcndrxl', 'PolhukamRI', 'AliImro11293694', 'MohArifWidarto', 'artonpower', 'Upset', 'gempita_ptk2024', 'Dadalex19th', 'id3nesia', 'AmuzeLeon', 'AgungKuswanto19', 'feryfarhati', 'BarthoSihombing', 'MasJanto6', 'Ranggant83', 'FirzaHusainID', 'opaparawitha', 'kangcabes', 'Fuzaandini', 'Therealrizkhy_', 'AyuLestari10099', 'Faujijpn_', 'MediaCellPPP', 'awliya_rafie', 'bumnbersatu', 'tikasinaga', 'mardigu024', 'juliuus079', 'Dmz_73', 'robith_silmi', 'FahmiAgustian', 'ZulkifliLubis69', 'wawan_pewe', 'KSPgoid', 'Havidz73', 'KhofifahIP', 'PSSI', 'kuntodeworanger', 'Jangan_GR_', 'anies', 'Fido_id_', 'BoediHardjono2', 'Nyo', 'teumaen', 'SunHok19', 'trisulanurbando', 'ImamNganuu', 'AgusSalim832000', 'zikhtiar1', 'AryaAsya4', 'Roytar1', 'anthwf77', '86Bohay', 'pepeng182', 'NSDemsRI', 'denygunawan786', 'Saktiazz', 'PembasmiHoax2', 'makdin24', 'KintariRozza', 'delaSABADILLA', 'ericktohir', 'adianasrul', 'proGPranowo', 'prabowo', 'Candra4smara', 'Rizmaya', 'WKherhuk58', 'AjaddinDaniel', 'fornas', 'JokerJoker911', 'MustaFEnerba', 'Zuhir66445569', 'julio_painting', 'jamal83407918', 'IlhamNoName', 'Zurukara', 'Jay', 'R', 'stefanaezer', '303konsorsium', 'prayogayuliano', 'militannkri01', 'Ary0977', 'cecengsutarman', 'JohnyGoodbye', 'sarahairunnisa', 'fs', 'KawuloLaredusun', 'Nanikaja8', 'AniesIndonesia', 'B3nnyTjoe', 'Kayakuwek', 'Lulusan', 'denny_tanidjaja', 'Aku', 'tridoso32', 'AchmadY00241129', 'Buaya', 'DPWPKBJAKARTA', 'PagiPerindu', 'antirezimkodok', 'janbejoki', 'Vr1_Gim', 'Fery49857895', 'Nugelo', 'lulus_ujh67', 'AlimMaktour', 'Nodemokrasi', 'DhoniSyb', 'lfiakwmdfuczw', 'DivHumas', 'alexdananjaya', 'koentoelbaris', 'AbelFavian5', 'NaradaOlivia', 'dimas_felis', 'bams_wb', 'novbigw1n', 'liabr40', 'razakthaib64', 'domu', 'sig4rpenjalin', 'MamanSu30264482', 'HumorJonTampan', 'inewsdotid', 'Shalihin_NAD', 'Speedtrap_', 'dewimajid4', 'Jessicavanes13', 'jagoan_ball', 'YURANSIMA3', 'Mhd_IrfanW', 'juanto_mm', 'Abdulra53446886', 'DharulFit', 'AhmadCibul', 'PertamaInfo', 'bayamarabahaya', 'DPDRI', 'Paulus', 'Shycan4', 'donnyadams_', 'NawawiMasud', 'RAISYAELBIX1s', 'WahyuKomplit', 'Muhamma89671207', 'AHMADDHANIPRAST', 'BungkusTukang', 'abuyahy60071056', 'yukitawor', 'DanilKaryanto', 'VYulisti', 'alialhabsyi19', 'Damatri303', 'R_min80', 'iamticka', 'millenial2000', 'mikuroQ', 'fxbanget', 'HermesWijaya', 'epa_debu', 'UmarFachruddin', '_sijempol', 'yusuf_my1', 'Jsbaba16', 'jagalkadrun1312', 'krezz_cool', 'NurAini72917449', 'rgdiwan1', 'sa_thamrin', 'TotokSuryoto2', 'SyahrianTengku', 'sigitwid', 'JAKGUAR9', 'MusaddadMf', 'Hulk_SlaluHijau', 'Don', 'SSentono', 'sujudsyukur12', 'lasles_satset', 'hadiHAMjakarta', 'herdijames81', 'Imamalfa10', 'ocukam', 'putrisakera', 'Aniesprsdn2024', 'ASasmitho', 'fs_andika', 'PepenefendyPep1', 'erriekojomin', 'sintawepatikm27', 'HeruBudihartono', 'budrox72', 'DulCharem', 'HumbleGzd', 'Budiarto6575', 'DesIndraL1', 'OlifaRose', 'bulangaluhh_', 'felim20000', 'hery_prihantono', 'YustinaWinda1', 'HallOfHoaks', 'Daarul16', 'pn7l7h', 'HarmenHarmen12', 'widiastuti811', 'firlibahuri', 'HAITravel2', 'maarifsyahed', 'EkoWitono9', 'prawiradijaya9', 'Ardy477', 'RizZamr245', 'ihsan_mhd', 'DhaniNusantara1', 'moh_aak', 'anak', 'agok_habang', 'penegakkebena11', 'MulyadiTjeppy', '2224767195f24c1', 'dus_irwanto', 'arifinpordjo1', 'Nawang991', 'ErniPut8_', 'lelakimusaja', 'Bonds_18', 'Giring', 'tina_aggr', 'zaky_azkary', 'JuryLim5', 'KingCabbage12', 'sasqia_radaulii', 'AniesPondokgede', 'HalimRudianto', 'akbarsyarihada', 'Mharizd', 'bams', 'JumadiAkhi12', 'syafrialdasri38', 'sangkurian44', 'rubiavianto', 'Sutarjosebas2', 'fraksinasdemjkt', 'AryaZulvikar', 'maspiyuaja', 'AdkrNadira', 'aqua_gak', 'yudyzt', 'anto_katochimo', 'HinduanTahir', 'Dawgs000', 'lambegambleh1', 'DpwAniesNtb', 'Mdy', 'KomKompos063', 'fyasof83', 'Selera_Milenial', 'YoutubeILC', 'MataNajwa', 'e_rankt', 'ganjarpranowo', 'azkaayulutfiah', 'awemany', 'Info_parlemen', 'MS', 'AruniNastitie', 'Aditya73950687', 'IWAN79915332', 'MCAOps', 'RizalRamli', 'marlina', 'sikumbang', 'IWMawardi', 'keplak', 'TukimanChu', 'mzheppy', 'poltracking', 'KelanaJiwa3', 'AndiiEgi', 'BertoRegaR', 'burungmembeo', 'haloho', 'MRDKINDO', 'FerdinandHutah6', 'AGBFatria', 'saididu', 'Priyo59759907', 'sandiuno', 'AgungSu76387898', 'mediusnewscom', 'Mauro_sabda', 'adangsetiadana', 'DediSyah19', 'KPK', 'ndryerlangga', 'Omega_1954', 'ReedDragooN', 'JSuryoP1', 'Frans', 'b_4ever21', 'NyiRusmini2', 'mikirnyaa', 'sssugarsky', 'tokpitut', 'JOKOWI3PERIODE', 'BeloSuki', 'yudiwijayaa', 'Sang_Rajawali', 'ismeatoon', 'jay_casillas', 'emerson', 'DhekaGf', 'IPUparliament', 'Dhimas', 'jonsa61664335', 'ryandeui123', 'msc_udara', 'restyca', 'jagadmana', 'Edhie', 'Syam', 'sarnosa97180412', 'rm_wiyono2', 'cebongsejati1', 'VIPNetizen', 'BangAhsanM', 'Davinpu1', 'joeliani79', 'Karcedi', 'lapen', 'bob', 'dndtirani', 'DarwisSteven', 'Zaquza_tris', 'TeraAnindya', 'jagorawi', 'hendrisantapan', 'DoniSyahrudin', 'gunoto7', 'skybenar', 'riad_bhrni', 'IndraPe6_', 'KenzMantasi', 'KangEntis31', 'JohnDMangu', 'halleluhellyeah', 'Rian', 'Ridaharlina', 'dendi_thehot', 'ejuendeh', 'jayusman92', 'JavanggaP', 'RaffaelleJuan', 'EndyNugroho8', 'deswita1804', 'CutSarina5', 'syahrial_nst', 'KeefRichards9', 'bagajact', 'nlusezniaklzw', 'MSKaban3', 'prahara', 'PdiperjuanganP', 'madularang', 'NasutionHandi', 'Abercio_Wiwoho', 'Rantie_Ry', 'Karaknasianguih', 'budipekik', 'madinakopikoi', 'S0BATANIES', 'AlifMuharam77', 'Junaediukkas6', 'leeannindonesia', 'Lia_kurus2', 'menang2024', 'gori_191', 'sudar_h', 'normaamelia', 'Mashadi37659701', 'nurdin16341198', 'RiyadiMr2', 'Amal81gmailcom1', 'acokbatanggang', 'Simanjunta9Nico', 'cenilklopo', 'pricillia_kezia', 'phafv', 'Gerindra', 'BimoSiddharta', 'SuronoMuhammad1', 'murtadin92', 'loketpaytren2', 'kakang_juaw', 'mbangunbangsa', 'ghezi19', 'Irdian17967375', 'KoprofilJati', 'KJeudine', 'HARPERin619', 'bnasmarmata', 'soetta_s', 'ParlaBGR', '74bidadari', 'Sur_Yosodipuro', 'PDI', 'twprabowo', 'Rasambahyar1', 'SobatAniesNas', '__RismaWidiono_'})\n",
            "frozenset({'achzam', 'aammilanisty', 'Ayunin___', 'ppidkominfo', 'com', 'rahmaelin2', 'Kang_Mustain99', 'waohen_71', 'alvinlie21', 'Dskydwi', 'Kris', 'mudabdab', 'FIREDOWNBABYLON', 'JoyKailan', 'juara_smackdown', 'the3brothers2', 'Hendra8019', 'Budi', 'BengkeltanahONE', 'FachryA30708802', 'MamiaDoang', 'Yunisari0971', 'heri_ciko', 'MarganaRizaldi', 'Hasanudin', 'Ngolemar', 'kalangliwoo', 'aryakusuma1707', 'cagubnyinyir2', 'RomaChandra77', 'RiisqiRama', 'AndeChilly', 'HukumHarusTegak', 'IndonesiaD4m41', 'denyspam', 'Agahogok', 'bembistraus', 'noviankristanto', 'benzemafaraj', 'MrsRachelIn', 'JavaAntok', 'dachyarpatria', 'khucays', 'HerryYuwono6', 'tugunkri', 'SinyoSubandi', 'TmHasiholan', 'JimlyAs', 'Goseeagoose', 'BejoBack', 'IlhamMu70122596', 'Oming72494594', 'barasultan048', 'farhanpenyiar', 'Dedy44169434', 'KhaledWaleed_ID', 'AdrianvanFlores', 'siregar', 'nahdlatululama', 'BennyHarmanID', 'quuqiilaa', 'TjahjoLoet', 'rudyno1', 'ninang77', '2019JokowiLNJT', 'Febriwarren2', 'Criztiandi', 'SofianBrahmana', 'PKSejahtera', 'TheCreatorSF', 'King', 'cintah', 'NcesWahyu', 'judahrenz', 'SahabatJokow1', 'avink1807', 'TonyBlank19', 'kemkominfo', 'B3r', 'Yohanes1927', 'RAbdinyo', 'veni_swi', 'Oodhi', 'Zella97990844', 'HaedarNs', 'okeeko9', 'POs3idOn', 'dagajoe', 'DoankWarto', 'OmDickyajah', 'd30n3', 'EbongCilik', 'cahyo', 'RuSoet118', 'PartaiDemokrat', 'rdbarkie', 'BM7NOGO', 'tolak3periode', 'galihholic', 'phikaphika12', 'Ardye', 'msi', 'Rabimo01', 'Mohamad50983447', 'AREAJULID', 'YansenSorong', 'jokotuek', 'dehadaud', 'istidharto', 'YohanYo64596277', 'syaikhu', 'fariji_lacak', 'wawan85936154', 'HamzahDech2', 'HendraSien', 'TempeMendoan888', 'CrbSira', 'Adiooss57', 'alexblck', 'supri', 'ImranAlfazza7', 'Muhamma31175865', 'KakaKeyo', 'BoediTomo19', 'r66newlitics', 'Novelis11', 'PlateJohnny', 'Rasto66010876', 'Rusman30966088', 'alextham878', 'pakmul63', 'fariji', 'JackUmarali3', 'AgusPramono74', 'UsniErlangga', 'BeiKhiar', 'setyoprihandono', 'KrishWangsa3', 'Lasuauloye', 'SultanHilmy', 'panonherang', 'ichwan', 'K3NNYH5', 'DSuryang', 'BoyMantouw', 'HabiebBass', 'Gonggo45668754', 'Ichsan_Nis', 'makLambeTurah', 'ikur12_iwan', 'fastertoro', 'AkiOjanse', 'AgusYudhoyono', 'NasDem', 'Pemberang1', 'Nr53N74H7N', 'praktisikonyol', 'C4kDeep', 'Thomastjik', 'M4ngU5il', 'Gatal', 'still', 'azmimajid01', 'nissa', 'Bahana36723795', 'Wagiso', 'Herry09898531', 'phunglie1', 'DonnyTaju', 'Joko_Prihanto', 'Fikri_Prianton', 'effendi_kardo', 'JatimDemokrat', 'abdurra86613761', 'ImeldaPutriAnis', 'alibaba_non', 'hamro', 'BondanP63263423', 'syaipul007rahm1', 'LJayaprana', 'andhiepur', 'Eddianto1', 'AgusSup39011241', 'djokoAdv', 'Kanjeng2022', 'MisnunWarok', 'abdul_karel', 'Sasorishared', 'sebelpuyeng', 'igoen', 'dirgantra00', 'Didiek09165668', 'Andika74522181', 'supari', 'BuzzerpAnti', 'Bravehe76472750', 'prowekmian', 'robowarriorsX', 'ermi', 'sudrajatasep17', 'captain', 'setiyo', 'TDR', 'handtrianz81', 'Prihandono72', 'fajar_bud', 'Kurniawan_E1', 'Widodo64194059', 'syahradenamal1', 'muhammadsyakur2', 'JinNonik', 'IraMeilani14', 'H4l1mun_D1n61n', 'endijaya6', 'yonicakep', 'umar_tampan', 'Lukmanharijant1', 'dir1ku', 'Wiens_Dede', 'BobElTor', 'jansen', 'joko4ko2', 'iron', 'KangAwi1', 'RakyatdanJokowi', 'SriRedjeki2', 'Adri56972840', 'bahdirdja', 'Iwanrayyan2', 'modien', 'DayangIndah4', 'vanjie08', 'chelly_martinus', 'MurtadhaOne1', 'HarisDatunsola3', 'buzzerMUI', 'Sibadogil14', 'OrangBa13921152', 'gustafadi', 'denni', 'LobiaMartha', 'YRadianto', 'tisnaprasetia1', 'Mushlyus', 'BenLiberty6', 'ursugarcandyyy', 'agung_milala', 'Fery_setu', 'TVMuhammadiyah', 'Rasanya', 'LumowaS', 'iccank', 'JudiantoT', 'alleySych', 'SopanEdan', 'alex', 'asfan', 'jhoko28140831', 'najatom26', 'PanRumbo', 'PiusLeza5', 'Lemp3r', 'Chendra', 'u51k', 'Adi16343002', 'KerjaTuntas', 'hrmnt80', 'HelmiFelis_', 'MohamadMaskur8', 'kokohandi1', 'Cantika82104633', 'Hotlan7bela', 'rms', 'Dewishintasurya', 'theluxme', 'Nur', 'eriemrn', 'AdamZakars', 'igoen_anindya', 'BronkWarrior', 'Galih', 'bobbynasution', 'AyamSalwa', 'madtu', 'ratpurba', 'wynorusia20', 'Khojan7', '_53NN0_', 'Semut_Ireng88', 'Adhi_Faiz', 'SoettaSena', 'SusiEmilia2', 'CarlaP5a', 'lonika', 'SiAndi', 'BoyMart78237185', 'HooHooTan', 'kyky887i', 'FYudiWibowo4', 'kinoyastilianti', 'mawingoso', 'ikbharis2021', 'Mohmahfud', 'PitherKase', 'tekat_agus', 'PatihSengkuni11', 'Hardjoeno', 'Nurhadiismail13', 'memorysongs2022', 'bu', 'angga_karjo', 'dann84620377', 'Slankersx', 'YCH7168', 'SahabatSaber', 'soen', 'DemokratProbo1', 'BEMUI', 'veroaktivis', 'harrycoocaa', 'Gembul99999', 'WicaksonoMulyo', 'Pencerah', 'herupratama18', 'yangmi3prnew', 'FHL_thinx81', 'edisutrisno8888', 'damarjati', 'AntonKu08408962', 'frans_ansel', 'WidiarsoKris', 'mahfudanwar', 'Nitizen', 'Firman03092395D', 'ArzetiSilfia', 'Leonita', 'iwanstj', 'suchiQoe', 'AjahSanusi', 'Eris_Supriyayna', 'PaimoMontok', 'Gendorowo3', 'ci__pluk', 'tribuners1', 'FPKSDPRRI', 'alfin_spy', 'ZulfahriGani3', 'yoe', 'Mobil', 'atiroh07', 'Rohati84177440', 'SulselNasdem', 'GerySpto', 'iadirajendra', 'herman_3113', 'pecintaanabul', 'ElinaDio', 'Shandyborju', 'yantanu2_08', 'JembatanMerah11', 'bjopass17', 'MrRedy74', 'NatanaelPakpa10', 'Adm61481192', 'jolotundo988', 'mangunsong63', 'PepenPurwanto', 'Karuhun', 'Hantoro2011', 'KING', 'arifsudiharto', 'Syahrul', 'mistya80810644', 'HRMalik12', 'Deny90605367', 'HudAbdullah10', 'bambang20020901', 'fariedza', 'RullyHendrawan5', 'woda', 'YustusHarefa', 'anaanne6', 'Sitanjung12', 'BangEdiii', 'Tjel0up', 'M', 'avi_koty', 'SobatMIDO', 'YokL97', 'Siantar72', 'tengkuzainalar1', 'EniendahS', 'AlbaksGhany', 'arya__wiralodra', 'JokowiMrakyat', 'najmul_romadhon', 'aheryawan', 'AriHend95106868', 'none', 'AQezir_', 'dank', '7Figureauthors', 'JulBayur3', 'rizalbakrie', 'itsmelula18', 'cryptoholderrrr', 'ShenoWirang', 'SBYudhoyono', 'ismail', 'Sudiyanto204573', 'Wesly_Arfan', 'FLatadjang', 'Hunterjagar3', 'jimmy_atp', 'mahandi22', 'RuslanNKRI', 'PANDHITADHYASA1', 'YRadianto1', 'MamaNing81', 'agung', 'UMATEIBLIS7', 'Migran', 'Dahlanm99', 'jenong26297101', 'LoeGueNKRI', 'Mdd217', 'AncuJoin', 'deatunggaesti', 'dit', 'Blake96467084', 'edy_siregar_77', 'dimaz_gaza', 'Gaussada', 'UjangHaerudin12', 'Xcalibrr1', 'ek_sunartoclp', 'LaingenLisa', 'tau07572790', 'inthuliaster', 'BlueSvoja8503', 'MNurhuda0209', 'bobolingga', 'sakhwan8', 'alleshutapea', 'PDemokrat', 'Sulkhan39423633', 'Lukman87050476', 'Mayapada1108', 'Mulyadisae3', 'Celebes26', 'bubarbubar', 'ThemasterARie', 'Mazprie', 'bhebob', 'alifahzi', 'mtriwinar', 'herry_wl', 'BorneoNeo6', 'rudi_kadarisman', 'PartaiDemokrat1', 'majas_mursal', 'Presiden', 'afathngantuk', 'orangka50509213', 'Dionbonjovi181', 'Ales21070844', 'xagusalim68', 'samsatudua', 'Srikandiindo1', 'Jumiatu74902112', 'DanielLetelay8', 'mbahGandalf', 'warenk71853443', 'yustus', 'aris_didacus', 'pranandapaloh', 'ReSinagal2', 'AhmadHi43', 'Era25803754', 'bambangASuryo', 'de_dons76', 'Ir2Kominfo', 'sep_colin', 'NKRI666', 'karetnya', 'G0P4NK_G0P4NG_7', 'Hanz22604636', 'markus', 'AbdKhairul', 'ferizandra', 'andy_onet', 'Guesx1', 'I', 'Twitter', 'KakeK_dx', 'detektifcanon94', 'tajjo', 'panca66', 'RoesianaM', 'Johan_Vicx', 'KhoiruLArkan19', 'FerdinandHutah7', 'Sidoel59634271', 'MarshalRezario', 'Marselinne3', 'DimaseLagie', 'PKartawidjaja', 'MasBejo98u', 'MetdroS', 'bianca25090809', 'AltamiraReena', 'ediso9876', 'yoke_cihuy', 'netty', 'Ziipo17', 'Neo_Action', 'salimsegaf', 'ProfHenuk', 'FDerKanzler', 'MandiriRusman', 'donmeylin', 'VieSariBasriah', 'SAPAR752', 'MasBroJowoNKRI', 'djaywikarta', 'elisha_sya', 'jefrijenong', 'agepratomo', 'macak_kere', 'geol_anda', 'Abenk12356649', 'bobby_risakotta', 'DIDIK_RODENT', 'Ferdy85Ferdy', 'Pejuang19875123', 'Indonesia', 'hongkiy1', 'GosongSego', 'fajaralam9', 'streetlawyers85', 'Wa01doank', 'Badruzz76394141', 'IwanAbiI1', 'tekat', 'MilenialSemar', 'ronaldua1', 'AkunGra01642733', 'BBerizik', 'Christofel_ID', 'asjsm45', 'Totok0912', 'mia_rrdamayani', '0p0s1s1', 'yosep_sena', 'Andrian7979', 'hajeedude', 'Irfan_sanjaya87', 'ThrashMetal16', 'OssyDermawan', 'think_gus', 'jumianto', 'Ridwansadana', 'muslimf', 'Raja_Ndablek', 'josssexsee', 'ridwanhr', 'anismatta', 'BudTeguh', 'GoStelindo', 'medcom_id', 'tawali9999', 'titipNkri', 'sh4d0wbL4ckz', 'one_zhaq77', 'ekoyuwono58', 'didikstema99', 'Lentera1568', 'hendratjipto', 'wyansonataman', 'YantoJhonny', 'SinyoAlvin1', 'GazaliHaery', 'BigDaddy234s', 'd2balitour', 'JazuliJuwaini', 'ABhungs', 'dewinugrahagma1', 'Msimsims2ND', 'MurtadhaOne', 'vulgis', 'harry_chiwox', 'BUKAN', 'anjas260996', 'Ndaxwz', 'ZRsaja', 'azisaleasa', 'Sanjaya35120419', 'suryasena53', 'e_pph', 'plawiradika', 'ASEAN', 'suryapaloh51', '04JoFiKa', 'aleumdaoen', 'arinuzula', 'lee_djunaedi', 'beta_vcity', 'diandrachoi', 'LAODE79285118', 'Guard31Tony', 'Yox87638222', 'EvanYousufRush', 'Shagoe_er', 'ANDIFIRDA75', 'RCikboy', 'inuchiua', 'henrywahyu', 'qwrtpsdfgh', 'YusufNusantara5', 'Suherma85922464', 'JonoUstadz', 'KsatriaNKRI', 'Chairul58099619', 'bangpoerslalu', 'hermanodop94', 'MahfudzSiddiq', 'JokowiVibes', 'DeOlmo1', 'YudhistiraDoddy', 'USutendi', 'Rin_niswa', 'SangPejuank', 'elonmusk', 'Lembayung071', 'Poerna9', '_Goentoer_', 'BaiqIlaa', 'tkngkbb', 'borutoforhokage', 'SultanH04160212', 'holopiscom', 'SedengWiro', '_SEKNAS_RI', 'teddytantular1', 'AnangYuseran', 'ZahrilLabung', 'Babangtavan6661', 'abd', 'Gans_oke', 'Bonar170845', 'AmeshaSpenta1', 'AndiBavano', 'zahiruddinudin', 'JatimPemprov', 'Trieszeguet', 'SaviolaVega', 'Deddyash1', 'rachlannashidik', 'SomarwaneSefnat', 'NusBhisma', 'aboebakar15', 'IshM73', 'bencisid', 'FoxacSusantha', '4ac96a9dd8cc4e4', 'SilalahiIngan', 'tijabar', 'john65802895', 'narto30108narto', 'fauzanasb', 'Kang_Ngibull', 'BudiSatri2', 'DimasRoyan5', 'SimbokeSarah', 'Etain76', 'b_pardjo', 'HusinShihab', 'Joko1widodo', 'Simbok', 'joko_gusman11', 'Minietweets', 'warenkbae', 'SKHery8', 'PBNU', 'Sari_Bumi88', 'Verraagustian', 'Da4at1', 'ddnmip', 'bliwayansp', 'Arsikamadja', 'SriMRasyid4', 'andiajah1230', 'P', 'Sandalsepatupe1', 'Brahma59531271', 'Suharla85020812', 'RevolusOne', 'RonalSihotang78', 'glondor69', 'ZMannaroy', 'sabiwir1', 'Gondo_Maruto', 'ApriliaLin', 'Freeyork90', 'AdjieSSoera', 'IMilan234', 'r0sari0', 'Dani19814705', 'Sudarno_Silaban', 'Aadec', 'Cora02620009', 'benuaandin', 'breowww', 'rozali_subhan', 'RaniKancana__', 'Anskan7', 'SBHs14p', 'gp', 'Hans_prayoga70', 'AlfredoDeBocori', 'sopiadewi6', 'Pejuang24508811', 'laja_fransiskus', 'SoemadiRito', 'Rosyid_Alfatih', 'ajengcute16', 'helmbiruku', 'BHD', 'azwarsiregar', 'hnurwahid', 'KayanaDuris', 'SutayaLili', 'AbuFari97232105', 'UtieIsAnoBody', 'RaniKancana', 'sahabat_NengVia', 'MarahIchsan', 'dwikyenggar', 'JohnVirgoVj', 'besutomo3', 'obocha10', 'MochamadRofiq8', 'rmiryanti', 'SisiwittFrida', 'Ajuansyah_putra', 'zulkifl48777634', 'ChristiandaCun4', 'FNt70', 'pery', 'YeniSswt83', 'Masinton', 'SetiyonoWadi', 'asgunanta', 'stephen', 'januar_soesanto', 'SaifulB79453472', 'Dzarro', 'kofielake', 'dedik', 'ozie_58', 'Ferroferroferra', 'Boankrsn', 'salmon_toding', 'SandyTrisno', 'kangmirdja', 'DarusHeru', 'benson20580853', '2020Kadrun', 'kadrunbuatlucu2', 'HeriAgustiawan5', 'Asri3Asri', 'asepkartika3', 'AndreSolo79', 'IndiMaryono', 'KreatorYuda', 'WAHYU', 'banteng_pbg', 'wiwowibowo', 'erfinsyafrizal3', 'MRijalulM', 'wilarmono', 'BetaPhi9', 'Sharice89000737', 'Metdro2', 'AgusSantaiAja', 'RizalGantare', 'Oetaryo7', 'DoanxEwon', 'enothewinner', 'Ericksemaunya', 'corbuzier', 'chillinaris', 'meicatur2', 'edo', 'susantisyafa', 'Laingen2', 'BetapusI', 'Godblessus16', 'PjVicca', 'wonggendheng00', 'anakranto64', 'HelmiRahim', 'rouf_ludba', 'ojiex', 'AimanJudakusum1', 'Pencerah___', 'annozaen', 'Sutebe5', 'bendolganteng', 'PanglimaSilihw1', 'NkriLentera', 'Dianraihana1', 'Jud303i', 'ardi_odo', 'SonjayaSyaiful', 'azarya88', 'olvaholvah', 'NahiMungkar5', 'jembersolo', 'MardaniAliSera', 'RadenPramono2', 'wiwikherma', 'Pasrantobolo', 'pery_tan', 'sunartoadhie32', 'BenyaminSidabu3', 'AlifPancasila', 'SuhartiniTaurus', 'fachrul_88', 'Ibaneezzzz', 'dendearaa', 'AntonKu44233833', 'AryPrasetyo_85', 'fhsowhat', 'harris', 'Hidayat8Hasyim', 'andreasfobi', 'PeluHalawan', 'jayarastafara54', 'programmer', 'AntiBangsatBgs', 'allexobed', 'joko_tuek', 'harder_tyo', 'isari68', 'canthingku', 'AnangSibolga', 'Ryu53944310', 'DaffakuPratama', 'EllyKoro', 'Denbagus481', 'BossToukeeIsa', 'BrayBolank7', 'AwYesaya', 'LifeGreal', 'KodratArief', 'jokowi3periode', 'mamangdjalu', 'DemoPelengseran', 'gerindra', 'wondo', 'Ariefkasam2', 'ridhoramdhani16', 'Maya83206301', 'Hasan12790847', 'Muslimat', 'CappucinoNdeso', 'ibnupurna', 'kitainirakyat', 'mediapemberani', 'myatharva', 'Kenko', 'SekarJayanti07', 'Raja', 'JsDeyz_2', 'maladewo41', 'SitiNurbayaLHK', 'zakyhiromasa22', 'novrizalhelmi', 'RobinHo87731807', 'KWijono', 'impossible038', 'dhiemas_rhathre', 'arniata', 'ebe', 'UsamaAttamimi', 'SayaTopo', 'Kimitob57728753', 'WaspadaOnline', 'ManusiaSuci2016', 'ndCapio', 'natalie17_R', 'NkriUud45', 'realprincetotty', 'awituchuz_', 'AdrianneSerlo', 'pittbrad18', 'Doedoeng108', 'CEO_Ndeso', 'bangkimen86', 'Ngadimi08002459', 'AgusRia74905035', 'Rofiazka7', 'AbuWafa51611261', 'andriejalal', 'kaylafardhan', 'junimendo007', 'edyharyadi', 'cakfan3', 'Ayah20202', 'rochyaimar07', 'HeryTimur', 'AllenWa51704921', 'SundaDayak', 'LayaSando', 'DreSyahbani', 'rich146754', 'EXCOPARTAIBURUH', 'kemuning', 'BattoAjax', 'pandawinata', 'Keadilan_Semua', 'BanyuwangiS14P', 'RAMujiyono', 'SeptiOrizal', 'ArmiSatria8', 'YahyaCStaquf', 'superUnknownnn', 'el', 'FellyJendri', 'KaredokLeunca', 'sefa', 'damarjati_dimas', 'YosafatRogika', 'alex_hunter146', 'ariepong', 'bebek', 'IwanPangka', 'BlekokUhuy', 'Manse', 'rockygerungpart', 'Rwndesa09', 'ChrisJ', 'dnayza1212', 'Youaresaltyaf', 'agustinus_kris', 'Putra6976', 'Ati26987442', 'scallop123456', 'ekosepu49052970', 'enny', 'YaqutCQoumas', 'Cyberknight24', 'agushendriana', 'martajasa0811', '763916e81', 'sammy10726838', 'AgusPra17277810', 'Bento263', 'tyarmaulanabach', 'Evikusuma14', 'pardi', 'Kandy52271825', 'BocahArusBawah', 'tch0077', 'su_santoso', 'Antaredja1', 'Haji_Wisnu81', 'KEVINYUSUF_', 'hermawan_algi', 'de', 'Michael27179015', 'DethanVic', 'chess022002', 'Jenny27648973', 'Andiarief', 'epinnay', 'ArisMustamin2', 'sihol72', 'widianaachmad', 'slandut1', 'eka_cau', 'pipilaa18', 'jeejenny18', 'BPRTIK', 'Bubut871', 'DoengMbah', 'sankuroZ'})\n",
            "frozenset({'farobay', 'istiraahat', 'Carlosaja8', 'MakmuriHamid', 'Safa_Andriana', 'NanglekL', 'alafkal', 'elpoghu', 'SakraAndra', 'Antonjunaa', 'SarinaSarlina', 'onne', 'CangkemEllek', 'GoekYon', 'Dipanegara_', '2nd', 'joane_mills', 'PangrehS', 'EdySugiantoro2', 'Save', 'Cidromulu', 'Steven', 'DedenPadjajaran', 'Daniel13666', 'Priadisamudra78', 'sumoburloff', 'YutaMan82947777', 'rumahqudepok', 'Louis', 'iriantomo', 'syarifuddina3', 'HSoehardjo3', 'parulianymunthe', 'AimanWitjaksono', 'UntungAmal', 'evanstevan97', 'llgggmegp', 'Zaky795', 'EJat3010', 'ChanelKautsar', 'LittleJ98595985', 'AdiPrio75517352', 'hacetresiqus', 'Nurholil4', 'Fajridinsen', 'Zaya67180170', 'Jupri56024559', 'mbahkun62316623', 'Yurissa_Samosir', 'KadarwatiEndah', 'FilsafatTimur', 'Bargowo88365221', 'aslijawa82', 'DjPrasetyo85', 'tempodotco', 'arif', 'officialMKRI', 'Arri_Hrp', 'sindai', 'taufikr65', 'yurdawelly', 'Abuda24437939', 'Ekopriy96316948', 'Dhejan_Alfa13', 'pipihfiles', 'OmHardiman', 'Yom', 'AGUSSADONO1', 'roestopo', 'AmarAsraf159', 'alsaik_', 'robert06627324', 'tepentri', 'naftaliyus', 'gampar_frans', 'cryptojokoo', 'mr_iiii1iuuus', 'proudbear19', 'kacang__IJO', 'BoymauMuhammad', 'kacang', 'Sigumonr1Yantie', 'gilangutamageme', 'HariCahNdeso', 'iwan_supomo', 'Abdillah17Yusuf', 'Ndranomade', 'DharWid', 'JumiranJumiran9', 'TitipanIllahi44', 'diahnya_sastro', 'bendaaneh', 'AnaisWttrson', 'FeniRose', 'harisphalo', 'ArabBara2', 'mmadinata', 'MaxTaolin01', 'bayud3wa', 'borubatak_do_au', 'Sand_The_Dragon', 'Se_NoPati', 'Matisyahdu17', 'MalmsteenEndye', 'kaizen_pdca', 'Pitbird_', 'andry19633', 'khalidz_akbar', 'Mas_zobirin', 'Kalich66907864', 'zulment', 'PresidenKe2024', 'donisuandi26', 'getteng_m', 'Junaidifanta2', 'inilahdotcom', 'YunusRohmah', 'Danny12971208', 'juansibuea85', 'pangisyarwi1', 'cherga9000', 'ADarmantyo', 'AFDahlius', 'Sekber', 'Yanto25836498', 'AbdiLla90306141', 'MasAnto95463015', 'yunastedd', 'tans_trisna', 'imoas', 'n_alfarez', 'fajariw', 'RamlyRukiah', 'BISMOLICIOUS', 'deri02790', 'vvinusi', 'EMHARIYANTO', 'mahmud839', 'AmbooyyRoham', 'JoeWongJava1', 'Donie2488', 'rmol', 'DanteLokal', 'Febriiyanto_', 'nizaminz', 'imyuthero', 'MULYOHARTO69', 'dionedone', 'meinaret', 'dimaswasikun', 'lutviprajindra1', 'Aryabinya2F', 'YusMi93107530', 'Abymany47450488', 'MiftahudDiaz84', 'akriameldi', 'ElizaaRambue', 'NDTregars', 'sartini_ratna', 'ZayLani03036841', 'SamohongAnam4', 'gonzoelank', 'whysato2', 'SyahrilTng', 'bakso34624584', 'studiyanto', 'HartonoRian2', 'NyawaTitipan', 'SuHardi39319916', 'ImamAliArafat1', 'TriW1212', 'eyudya', 'AbdulHamidS10', 'WatuLor77', 'julkiflimarbun', 'ShanuseeS', 'Yurissa', 'Firman_Syah_Kun', 'lij_imam', 'Wirosab008', 'brobroan', 'RinggoSilaban', 'Lennasjam', 'VIVAcoid', 'suyudiks', 'deAr', 'Nissakti', 'syahli_sitorus', 'HenryS75761541', 'NoordErnest', 'Chaerul19022022', 'bima', 'KHOIRUL50664450', 'dul', 'narkoju1', 'yuuhhuuuuuuuuuu', 'p4piKRiS', 'Rahmat61822331', 'arimbi98', 'muslim_bobi', 'AriyonoL', 'MPR', 'Sw34567689', 'FerdinanNangin', 'NegaraWacanda', 'masihmagangNIH', 'citizen', 'arok07_arok', 'hotmanParis', 'DedekAceh_74', 'Soekarno_muda22', 'CahayaL80915016', 'Heritanjung13', 'wiragaksableng', 'love', 'dulkholid', 'musniumar', 'EndangUban', 'BangNtong', 'RidNgemil', 'Sahabat', 'Adiprayitno', 'TautauMati', 'WPradhika', 'bangkimo_id', 'sanpelangi', 'dabdul2019', 'Duljuki88', 'achmad_afifah', 'TheKopRossonero', 'sigittepe', 'sbara2908', 'Panderadja2', 'HarjoHendrico', 'kluxkluk', 'Darisrizal06', 'NajmuddinRasul1', 'zkif50', 'M22Mentari9', 'babegalak01', 'HakimAdiib95', 'TejhoWahyu', 'profpungguk', 'RenDolan1', 'Rajisapotra', 'FreeWestPapua', 'tyan', 'Zetyo_pambudi7', 'pns', 'Riandadany', 'atoeng', 'BeeInsfire', 'adam_budhi', 'dickysubhan22', 'Semar17134178', 'irwanstela1', 'kh', 'BeritaPapua', 'pisauikan', 'ImoetSakha', 'AliRouf77662085', '4nonimusuminon4', 'Achrom3', 'Nagakayu11', 'joe_gatsu', 'SuherlanElan9', 'suherman_herri', 'itskhuzaimah', 'gandasatria', 'dedi_azis88', 'Safei67593228', 'almustari', 'SinamurRoy', 'rwiradik', 'ff_rezki', 'masyastra', 'Temujin234', 'cakjoe_peace', 'saksenengku_bro', 'kabakdj', 'Subur0204', 'BagusGenjing16', 'Chandrakirata', 'anggarafactory', 'HantonoYuli', 'JagungTongkol', 'dragoeinside', 'MulkisPohan', 'NasrunBaso', 'OmAdi37190039', 'FerryPratama99', 'altraist', 'bangben699', 'yossuriadi99', 'ismailfahmi', 'DianFatwa', 'dimasalam', 'MgmPtmgm', 'AriefBudianto77', 'ShelbyNeutral', 'ArthamilliBy', '__SudutPandang', 'AbdrahmanAd', 'fernandhiDP', 'jayapuraupdate', 'karniilyasclub', 'Waranda', 'arkanaZT', 'Ary', 'MochFadzil7', 'Panci37789495', 'papa', 'Dvee883', 'cenkboboy', 'black_dog_boba', 'safirasafifra', 'SOLOARIF3', 'Gandaparulian13', 'tadjuddin7000', 'abde', 'hendri63956744', 'Musti_Umbar', 'ramseslim', 'Julian303', 'Sahabat_Bangsa', 'txtdariwt', 'WongNdesaSugih', 'cayapatacakara', 'AdhieMassardi', 'oombayum', 'nsutady', 'radotsimora', 'AsriTeuku', 'Ubiitem', 'MaulaIkhwan', 'abraham44289237', 'Rhoemeoadhamz', 'aghi_raharjo', 'RHuazaifi', 'recovery1505', 'RakjatDjelataaa', 'tw467', 'Wahyudi48632434', 'FlameObituary', 'Jhonata18656531', 'DJUMARI22417755', 'niamkhaizun', 'RwheenErwin', 'BARAJPK', 'RamliRizal', 'bunemaula', 'jamiebaedlowi', 'q_tza', 'djarotwidjanar2', 'vaganza_v', 'WongTan96208922', 'AgamMufria', 'SahabatGuru165', 'AhmadRi48443676', 'KDroneHunter', 'BarwiasariReza', 'Cattl3yya', 'Fachabon', 'Dar', 'Naia94093308', 'DinaKusmayanti9', 'Iwan95419946', 'surya1667228934', 'ZainalM10798843', 'topanraro', 'Fitriad85164288', 'jemorrr1', 'PresidenKopi', 'GaleriAirlangga', 'AHMDYSRALKF', 'logikakudiatasm', 'Vivosanto7', 'AntoDetikCom', 'SakhaDelivery', 'agisubagio', 'wiliam999', 'aimanzulfa', 'ekodj373', 'Kiranadeira', 'Muhammadsofial1', 'Bageng_Siregar', 'Iyal90431410', 'AHerucokro', 'riewehh', 'NarendraRien', 'abi', 'MANROCHM', 'MrMN513', 'Cembok1', 'DaoedGauwan', 'radikal_rayap', 'Rfadlis1', 'saptamahendra11', 'geol', 'RioPerm35723181', 'yo2k_k', 'mt_aruan', 'masiponk', 'ali_berka', 'MbahDipo16', 'BudianaPangestu', 'NaelKecil', 'BagindoIbrahim', 'respolitika', 'sengseng2222', 'GatotKa86884427', 'axel_kamandanu', 'husni_difinubun', 'D002832', 'GeneralMoeldoko', 'IiiYendrawati', 'Hartati44247904', 'hadi_sopan', 'BOM_110179', 'AsuhTencent', 'jhonoivan', 'tvOneNews', 'Sarinah116', 'ASD_165', 'bundalestari875', 'brammasro', 'GarudaDoel', 'mouldie', 'AkioDad', 'NanangH67930359', 'Budiono', 'ayiep_nano2', 'jayanti_marnia', 'baroesy', 'Hidayat69558610', 'akocktea', 'haryadi64271867', 'SamponoSidi', 'DamanikTomok', 'rachmad_rajaa', 'Ojak978', 'ARAHMAN84614424', 'ata_deSaputra', 'RoizyantoPoetra', 'kompascom', 'bank', 'RSyamhil', 'har', 'TjiptaLesmana', 'soklowor', 'YoyokMusirin', 'zona22adem', 'Latawepatikm27', 'dhanyapri', 'andyydepp', 'Yeremia59920556', 'Liaaa_van', 'AsepWitoko', 'TakkoFaisal', 'NarasiPolitik', 'WikiEfendi', 'hadi_ambolo', 'Marthin', 'Kolagaaa', 'hendr4hermawan', 'DigitalBogor', 'BryanSyamN', 'MerapiW', 'BlackPa43550096', 'KReformasi20', 'aburami67600508', 'lxmw058', 'SudirmanHusaini', 'keong_ngebut', 'wahyudiprojo', 'Roman83364351', 'Mulyawans07gma2'})\n",
            "frozenset({'mureza522', 'heriakhmadi', 'UKumalajaya', 'Zige14', 'enddrue', 'sudrajat_azhar', 'AjaSpill', 'hamud_fauzan', 'desri12157', 'BenyFitri', 'annisarm23', 'TukangDagang12', 'PenyairRadikal', 'ZulfikriBarca10', 'PiusWahin4', 'Centimentil', 'CNNIndonesia', 'Plain', 'sinyo_adhie', 'UN', 'NusaLucu', 'Dewi_Aghyta', 'cekmuh907', 'Rysdab', 'MahaD3w4', 'puthutpurwanto', 'kabelxiaomi', 'Gbrand_9127', 'his_ever', 'snagti', 'parnoperbus', 'IrsalmanSir', 'KakSuraya76', 'tambunanmp', 'dharudndraa', 'AdrianZulfikar6', 'FajarGadot', 'alie_ibnue', 'mad_m4xx', 'MuhniiArRazzaq', 'ini7indonesia', 'unbiasedfan1', 'Maulana26103998', 'mawisevendry', 'dpermadhy', 'Wawanda', 'JJ', 'at_Frederich18', 'Jonbroni21', 'proterozo1c', 'Will_Syams', 'jangobi30', 'PLinUN', 'Yudiansyahjr', 'Kusworo47641471', 'takutgelapp', 'Irsyafruddin1', 'notyourshhhh', 'RafaelGawi', 'MachrusSebasti2', 'Sa16987601San', 'krisfatih', 'GADdarrosah', 'kusnansaja14', 'nugrazee', 'echoPiR', 'gusti_ndoro', 'wawantotot90', 'BenBeni51109615', 'RyanBakkaru', 'NAurumn', 'MencariKebena18', 'dricnagoya', 'BadrusS13716718', 'LambeTurahTweet', 'Calm_M4n', 'oposisiAJEdeh', 'Putra', 'aristoteles60', 'CrimeinAmerica', 'aline', 'AntonNu34549641', 'I92103753Totti', 'AbimanyuT45', 'SDEeeeeeeeee_e', 'motovlogkuliner', 'adijayarezky', 'PolandMFA', 'R575sukses', 'jamalkobain666_', 'OktoraJk007', 'Aziasto', 'mmyygrgsl', 'nobohong', 'LeuncaBohay', 'JaenoXTM', 'AffanIbnu03', 'NKRI', 'massdays', 'cloud_har', 'wansrosadi', 'B4Setia', 'AFFA_SNR', 'ApriliciaArifah', 'mk76', 'OniRasyad', 'chois25', 'inyongbralink', 'rizhmansyah54', 'sumadiwiria', 'Sahlan80206587', 'benny', 'CIA', 'hendra5010vers', 'bagustri0004', 'republikaonline', 'Emaicia', 'IlhamKusno2', 'karufakembala', 'SiaranBolaLive', 'mohmansyur_', 'MranggaTbk', 'widiryuki', 'mulstiyawan', 'lutfiabizar23', 'OjjieOke', 'UyokBack', 'txtdarisumi', 'agnesbeatahenny', 'DonFlamingo', 'tin_karya', 'danysoerya', 'Lavignerskillms', 'ywslahyo', 'onni_saputra994', 'ine_gunawan11', 'ariarjiwinata02', 'BicaAsal', 'BistoniIi', 'TaufikGazali65', 'IFyou', 'telegramnow', 'coba_dipikir', 'pinokioASU', 'Jentavv', 'Hannabangtan', 'aukombi13', 'UpiRaharjo', 'Ardy87719871', 'maskarebet_313', 'Jhonrambo513', 'Bambang06304959', 'kasmir1962', 'NantanOmar', 'lobaKaheureui', 'detikcom', 'blueeghy1', 'ChinaembassyT', 'kodok_pacman', 'RPanggaleh', 'bro99_mas', 'Fajar_al_fakir', 'adelia20181986', 'dawneight', 'james_sci', 'pejuangnkri77', '_kasurrusak', 'Kurnia_arif', 'pawkiku', 'Hijriah76948582', 'arisgunadi68', 'Genk', 'jabrigbaee', 'discoverhk', 'Intel', 'DidaGunawan', 'bongbon50918106', 'wisnukatep', 'Mang', 'dhianchakim', 'treehendra', 'LuckyNmbrNine', 'Showerme41', 'chetoosjagung', '4nt1k0m', 'Romy_damara', 'botwa_purba', 'tommyAjahh', 'ernadie', 'lordsalty57_', 'MattiRajala6', 'drharefa', 'Tester00280120', 'Bjorkanism', 'LionNotDonkey', 'faqihbadila', 'qwertyrm', '2rb2puluh4', 'ekakangpanci', 'dindrige', 'DavidPaulusplus', 'FBI', 'feriHatake', 'G', 'Bernardo', 'dhickyss', 'chesgweka', 'Stargodemperor', 'razak_subhan', 'BenkApoet', 'D1VArahardjo', 'China2ASEAN', 'Dulalim8', 'spirithardiesha', 'AkangDikdik1', 'Kangjaill', 'sepupujohnmayer', 'syahli', 'hendrikk168', 'Dicky', 'YopiTanjung', 'Agusanw21921549', 'gerinadp', 'bodasidun', 'jelo58238934', 'Legislator75', 'BAMS324305', 'note_iqbal', 'PareParesek', 'ChelseaThingss', 'nety', 'pebisnisgelap', 'nuwahyudi', 'teguh', 'Muhammadsabriqu', 'setyosby', 'mulaigoyang', '089_rok', 'legatemu', 'Fajar', 'Pulsakita3', 'bp2mi', 'GioMadini27', 'ChalsofRivia', 'kbenaranHakiki', 'bumijo1964', 'nano', 'jakarta_2024', 'HongKongTourism', 'GSoodman', 'paklikyion', 'vivattt', 'rudikaee', '303SISP', 'ackmalmajidd', 'poppyfortina', 'bembenk_jambi', 'drakulli', 'ELoudfi', 'anti__air', 'Maulanaiskhak15', 'ADWINADANG2', 'PriyoBagas', 'HeruPra56076105', 'jibotwo', 'HarumJoshua', 'raniyeaay', 'mirajulrifqi', 'wolf', 'Elfrans08', 'widyawidhistira', 'BasirWahyu', 'kurakurabrsayap', 'nambahsahabat', 'mac', 'jeffriamanda', 'SarnoNano4', 'JAKAGELEDEK01', 'LathaifulMinan', 'immank_chia', 'Osiae3', 'akunahmadfaisal', 'deenalovemuse', 'agusset17657260', 'HanArchie2', 'FalikhPamungkas', 'KhianatRakyat', 'b0cah1ngusan', 'KarinaNadila18', 'Ferry09431899', 'AYSigit__', 'HeriYo7', 'Jek40931132', 'BartuYaa66', 'Satutakmengena2', 'fotodakwah', 'yanti_ilmi', 'wawangu88797331', 'GendengMancing', 'dimazpurnomo11', 'SimbolonBilma', 'joeliuus', 'cepatkali', 'RadioElshinta', 'Elghazalie', 'HalooMad', 'dinokuninggemes', 'putraaaa', 'Rahmat42685676', 'faqih_insan', 'cobeh2021', 'Katadika', 'fotokayuku', 'kemundungmerah', 'gamer18th', 'ak03l', 'TheFeds24', 'rububngacakoji', 'Achmadarifh2H', 'bs', 'rvldipreseptya', 'ade_rusmaya', 'Fatih7991395033', 'Bp', 'Keturunan', 'RickyKardjono', 'Bagas_abima', 'besok', 'detik', 'Binsaragih1', 'txtdrimedia', 'DanangSuuu', 'Lidya80352307', 'rambang_jala', 'Pontifex', 'heriwiyanto19', 'Fadking19', 'eckolution', '2dibukaB', 'imamhomaidi', 'idez290208', 'dimasdzarkazi', 'timurshamal08', 'mrduatiga', 'Bugsbuddy71', 'TerryPrada_69', 'gajelaslusetaan', '_______sandy', 'Elmirakid', 'Fadilla50191088', 'eldrn', 'Yenithung1', 'andrekelv', 'ambar', 'SuryaPAA56', 'Wafie_Anas', 'wargakonoha12', 'jerrysujari', 'summa_isme', 'BuzzDrun', 'buda557987', 'AchmadSuryandan', 'antungriduan', 'hamam_fahrudin', 'Bangbenh', 'Umar83638540', 'awkwardmann_', 'MobZack', 'gro0ottt', 'hestiahartini', 'bendi13002825', 'ZFArdR', 'jotafana', 'pontianakpost1', 'elisa', 'iloveon66702618', 'hendri_kacaribu', 'ndakpayurabi', 'HeryadiHery4', 'giantbillards', 'umar', 'Target', 'ahsitumorang', 'faddelm', 'beweonly1', 'DanilGabril', 'wahyuajisb', 'Singo_Asmoro', 'BakolPenthol', 'BudimanMahbub', 'rezanorman', 'septa1122', 'asadanharapan', 'rans_bandicot', 'merapi', 'ArdhanyFikry', 'Zull24891202', '2024harapanbaru', 'Lausala10', 'iman_manul', 'AkhifaDanie', 'DemangSinuhun', 'jmelive', 'pak_suparmo', 'rotikan', 'belogrunge_deni', 'NarimoPakde', 'WuDelvi', 'gogogoalt', 'IdaYulius', 'abe', 'frans', 'mullamoeza', 'bersiaga', 'musafir_papa', 'bacotizen', 'Heru', 'DXBMediaOffice', 'rebo_kliwon', 'patsamasta', 'AndrianZul', 'BoyDRoger7', 'multatuli', 'WayneRo32774862'})\n",
            "frozenset({'doelpaten', 'AsamDaun', 'HazeeqElBth', 'pranowo_yudha', 'StefRudi', 'kopiluwak85', 'etbxhnvfhkbc145', 'EsTeh', 'AdindaLaurinda', 'dhiemas', 'Ghufronaminjk', 'mikhlas22juli', 'davidlintau82', 'OppaHan4', 'Kuifje58215139', 'ainurohman', 'Hengky68297570', 'Miduk17', 'jawir_solo', 'GagakNew', 'tkngnsgr', 'zr0n', 'laode_kowu', 'KWIHSOE', 'balgohom_syarif', 'terbucinz', 'fahriandriadi', 'Alexander_Indo', 'Malukutoleransi', 'vampirsalto', 'pakaipeci', 'GP_Lombok', 'firman2030', 'udinpet39660712', 'BagusMista', 'GiggSy', 'kokosaja123', 'daengiqbal92', 'RudiGun07', 'th3Red01', 'abu_haniffah', 'Dennysiregar7', 'SyahruD82778703', 'Aprilia_wiji', 'husen518L1', 'Wanto43299876', 'MasBontot6', 'mlvnnn_', 'manofgood77', 'sudirm28109865', 'eri', 'APermana001', 'KangNar01041542', 'lim_alung', 'AndriArsono', 'Midjan', 'seruanhl', 'Mchajir09', 'nalsya_aldi', 'GusLim68', 'infojakarta', 'ring1___', 'QodryAmir', 'RendraWibowo9', 'BurhanMuhtadi', 'AzisrahmatR', 'omuzito73', 'williamvcj', 'Wahrun12', 'NalaBimala', 'whong_jowo', 'HyEvan1', 'AgoiTaufik', 'Andreansyah_088', 'jappurutz', 'hervanka', 'amalnst', 'JuniardiFaisal', 'TaruziArip', 'AriaDinataK1', 'taufikisti', 'SanusiAlvin', 'ChoiMasMh', 'Ruhi_Ruhi17', 'PinkyStevanie', 'cimbulpamungkas', 'saidaqil', 'roosfeary', 'JihadDrebond', 'mugihartoni', 'Gemini636', 'wignyo_sinyo007', 'aditampans', 'DADIFIR27587251', 'Dyas44100221', 'Allcatrazz1', 'Darwan45537622', 'partainasdem', 'norma_soesila', 'hilalmultibiz', 'Absurd1sm3', 'KhairunisaNovia', 'DybalaGonzalo', 'yara60909', 'RyanRahmadhan', 'agussediono82', 'MonYayasan', 'And', 'HabibKribo', 'gobu2012jt', 'MasKript', 'linda_gunawan', 'darmantahu', 'RaymondGS3', 'SetiarsoU', 'S4N_W1B1', 'adrierochimi', 'mpujayaprema', 'Kendesu12', 'bread_selling', 'JasminAdi1', 'agomala', 'suradiparlan5', 'zarnaout45', '4g', 'Tano_AWJ', 'Desmon050781', 'Uki23', 'barryallen', 'AndiMalarangen5', 'jhonaz191', 'Four8Ibay', 'GajMo313', 'I17082000', 'Hotmajohn', 'Demonlord133', 'arekmalekk', 'AngelNgguyu', 'StefhanieQueen', 'AjiSukarno88', 'JWajabula', 'zforcexdo', 'HasilnyaNol', 'OposisiOjol', 'BIENSenator2022', 'Suluh98', 'adipurwa', 'bdleonanda', 'ViyataBhakti', 'akmalmilan01', 'abdulhusdin', 'NdangUya1', 'Azhar', 'ruspandiasep1', 'WngNgapak', 'ChartaPolitika', 'zulfik99', 'AhmadMa47956352', 'pramuktiga', '01Negeriku', 'gotdaamn_mf', 'IyukTanjung', 'RudyMewengkang9', 'LemahTrah', 'datoecoffee', 'Wwwoktacamereg1', '123ardhan', 'muhammadnaser5', 'putribungsu_16', 'Reim1211', 'inkyangaktif', 'didiek_y', 'lingua101', 'jakpoes', 'Yunartowijaya', 'Centang_G_L', 'calixtoys_', 'Ishomuddin2', 'GunturLaksana', 'Alexsmoked', 'JajatJajat4', 'Milli621807311', 'iwantarigan', 'ManaratNason', 'Alves_Ag88', 'ferizandra2', 'Izulhanani', 'PakKumi60541589', 'sumitra73006385', 'cihk_miaw', 'Balsem31430248', 'CandraI02540151', 'irv', 'mundhri03180616', 'saddiyatsadino', 'zaidanmuda', 'rikoabak79', 'dabenone2', 'geletea', 'muliadi78', 'SaktiChiong', 'rayyanallabib', 'petani', 'pieteriskandar0', 'akuwong3', 'ksatriaretuit', 'Paltiwest', 'RestyYa1', 'irwantoear12', 'akbarfaizal68', 'Sadewo_IX', 'lingga_susilo', 'musi2a', 'Muliasug', 'TjahjoWidianto2', 'RahmanPaliling2', 'carvalho_nemo', 'SugihartoSugih3', 'Sinuhaji_FP07', 'jalanyangbenar4', 'lim', 'tiswosolihin6', 'MarkSomplak', 'RianAbdiPanges1', 'aputdrafity', 'z', 'Tid', 'ekabudiyasa_ID', 'Olielleo', 'BiakNumfor2018', 'DkiMilikPribumi', 'IpinzimiriniZ', 'becakdorong23', 'alter_zombie', 'KusengSembiring', 'novitanay10', 'Lisaamartatara4', 'bil_lee', 'Bunga_Maw4R6027', 'wrahardian2', 'WimSaja', 'RadenBoy19', 'uripikuurub', 'Amsthe01', 'asmujivahn', 'Chandra8001', 'cebongtaek', 'mikadongaku22', 'h_mushafa', 'Espriatna05', 'erickthohir', 'Mahdi_pkl', 'BradHarizz', 'sensus_888', 'bankaibenk1', 'Valosenadya1', 'DaBeZhu', 'NoviFerdiana2', 'AyankLukman', '831212Y', 'guk', 'Brandon46790133', 'lutfi_iman18', 'andimalarangeng', 'FerrilWaits', 'kartarahardja', 'Hasanhutagalung', 'mugialancar168', 'KigundulG', 'Abuisaae', 'RPidola', 'fandy_mus', 'MarthinSorongan', 'sunggu66', 'janjipinokio', 'Carlamaya_', 'Lazuardiakbar6', 'budineon13', 'Zul_Pikir', 'Zikri34994093', 'miss_equal', 'KolorCeplok22', 'SALLY07195073', 'papa_proxy', 'SI_KOETJING', 'MarkEsso8', 'AdjiWid2', 'DonnyZhafran', 'dimas10247615', 'B4ngDm', 'demozkratoz', 'Seger_Sehat', 'Bwlyo2', 'AnggaBons', 'roymz_13', 'Handoko_TJ', 'anset_331', 'TRendusara', 'sahat1062', 'hanes451', 'packetswitch16', 'taufikbasari', 'IFujasari', '11ribu', 'BNiek1', 'HidayatBiin', 'adriansyah_van', 'RonaldR23065832', 'ismariki', 'Gojekmilitan', 'KardusImajinasi', 'p023456', 'prastsumadi', 'hereuya', 'PatDanang', 'taufiqR80', 'brunensilver', 'riku1706820', 'maik23K', 'Tan', 'ezie_catri', 'FSuferryandi', 'MasAnthony3', 'AdiAdimsamin', 'adrian21_k', 'AdeDani03', 'rdioto', 'minkx', 'MarulituaPurba5', 'navirius', 'soelisse', 'yunartowijaya', 'rahmani_ima', 'Angkoe5', 'Eko167Lee', 'Saputra3Tugi', 'StenlyAsaria', 'bedsandy', 'Dwi1975', 'tetottotttett', 'rizapasha_', 'harapanpejalan', 'AsliLanang2', 'jfgltm', 'Albert77026440', 'bwinsandi3', 'Kartika50887721', 'muntaco_LA86', 'MatKODAK2', 'Greendboyz', 'Nicho', 'eddy_rakhman', 'achyar', 'DPPNasDem', 'gunoto777', 'JiaoSwei', 'rendytjia', 'frankserpico86', 'PartaiPAN', 'KhaerulImanudi1', 'sukrada_g', 'BantanMajid', 'AriSisw62447767', 'Tan_Mar3M', 'sumadiseloguno', 'duaempatmai', 'AbrahamUmbas', 'WarjiyaS', 'BrahmaKumbara23', 'Senja39407090', 'adriansyah', 'rhiqho', 'MichaelNababani'})\n",
            "frozenset({'nusantara', 'nyolder', 'KartikaPurbasa', 'MHDYUSUFHANDOK1', 'AzwardiJoe', 'beanbagKarawang', 'spider9761', 'Titisan05918772', 'Pencari', 'tyok_s', 'Arjuna52700987', 'RedSemvack', 'Amazing24434', 'Yettidewi', 'AmdiDikzon', 'Unique_Card', 'SayaDunguu', 'MarioMuhtar31', 'andrfebri', 'Benisamri', 'jalenzo', 'asrunmartin84', 'Kolam08934187', 'aharidwan', 'Jerkass9', 'TanpaNa36481942', 'TalibAlen', 'DarmanSatr', 'ActAmiin', 'b4ce6d77c34e41e', 'MuiyahR', 'PujoHarianto4', 'thomyhamprie', 'Bagas170912', 'Juniset87794855', 'IzajiMuhamad', 'yuriandrov1', 'IqbalPu12834514', 'obor2150', 'Rakyat', 'munsiumar', 'BudiOe1', 'Koes_123', 'ruhutsitompul', 'utosangelang', 'Rashifridho1', 'sambellado10', 'RafliPadang', 'puadi_indra', 'Halilintareee', 'AhmadIkay', 'MustAlQ', 'GustiaManaf', 'khalidjauhari1', 'idnayidnay', 'Robert51827457', 'Meldian14', 'father_of_kk', 'Hery0866', 'Wilson', 'ieu_konci', 'usmanz', 'ary_oke', 'FauziAh16382311', 'MuhiqR', 'ZainalA25403201', 'Putri54054166', 'indarsih72', 'assaf_dharul', 'fadjroeL', 'KukiSeishiro', 'AhmadMa56712425', 'andikaseb', 'emon70467795', 'SamsulBasriLub1', 'SusantiHaryo123', 'twhandayani78', 'toroiwanuba', 'AdeNoe3', 'SevillaNord', 'PrinaWonkCerbon', 'BudiSul27538925', 'Dirga19805916', 'Daeng_Mandai', 'AlmandaryAnwar', 'sebayang_arifin', 'armanys1962', 'PakuJawa', 'WartaEkonomi', 'Toejoehkeliling', 'DeryPua', 'MamiaAja', 'ChaniagoDidot', 'PohanSapwan', 'Romanzah5', 'Irfanto74', 'kancil', 'ghaits_ali', 'tatangsrodjali', 'KatyushaDwinova', 'Zakaria_Rahman', 'Uram0501', 'Wandy12329142', 'Salimah25485819', 'samsonjakarta', 'berkahsentosa02', 'SamsulB69201485', 'IlminSyarif', 'yuricarce', 'orangka24088531', 'andrewdiangelo', 'Roni89286107', 'PpaEppe', 'mastatag83', 'Kawulo79', 'AdeNursaadah', 'ucou403', 'mbahghani', 'NurIzza69986636', 'Heru_gung', 'SiraJud39360302', 'koswara', 'izraseven', 't4t477', 'RudiRoed', 'Oby40914121', 'CicinHadiyati', 'Jrs866', 'AnangWahyudi17', 'Nina_borhap', 'AgusBag37508990', 'lennilenni549', 'IbnuhazmA', 'jalangkung86', 'PejuangNKRI03', 'shibli_gilir', 'KalimantanHadi', 'Tian_Xander_08', 'bangudi12532806', 'Sholihi91167250', 'ari_wibowo138', 'YudiIstiono', 'TukangGali999', 'YUDHA_MOU', 'kalmerkitty', 'masdari567', 'osmanqanuni', 'HafidRizky666', 'kareljabirI', 'bromotoco', 'MuhamadFajaru16', 'puspa', 'ashroruddin', 'HenHenszo32', 'TerracotaJ', 'iman62576082', 'erwinkwa', 'IkaHikayah', 'ketutdarmika10', 'Sanusi15619509', 'Alexander_Reby', 'Tuby11187858', 'MasMove2', 'DhennyAkbar', 'BugScuad', 'hp3342', 'akun_ecek2', 'AgusAbdll', 'junier_arwant', 'andri_elungan', 'BudiImanSanto11', 'ImronRo47311946', 'ArayanDavi', 'Kaneki73258644', 'EDA00815123', 'cindy_pon', 'Emak2Dasteran27', 'jonirafles1', 'IkhsanSinergi', 'GARUDAPUTIH_21', 'jhon', 'SatriyaUmam', 'kpukepulauanmer', 'GozimVan', 'Abermartin', 'mulfti', 'LGudeg', 'ChristianSomba6', 'LeonForever8', 'kemalandrea13', 'Aguskmpot', 'yudhaTrihastomo', 'daoesfir', 'iro_cules', 'vittaliarooms', 'AgroFishLombok', 'Bukankangkibul', 'MukhitsP', 'MerantiKpu', 'parsiman08', 'keG752', 'RinalDelapanen2', 'd_moristo', 'Junsix1', 'Bempi64', 'berlinrev', 'Raffi04241376', 'IbrahimMostapa', 'DDegea88', 'Jae93450484', 'amang_iram', 'aco_anaogi', 'LubisSyahfin', 'tedjo_muljono', 'Amanday200122', 'Sularna1', 'aldisal5', 'allessacanggu', 'dedykbagidik', 'BramandikoEko', 'MasRukh61173916', 'Digiaga1', 'Tamin1970', 'AndyNovi5', 'IndahPa31661606', 'Flo', 'lh_nararya', 'StefParera1', 'ane_margi', 'Yoyok73226906', 'ganjaris_porn', 'AnwarHaryanto16', 'dediputra_GP', 'WaluyoDino', 'suwantosedayu', 'ihcsandbs', 'addsomecash', 'KBagaskara12', 'rian_style', 'Budiyan78616149', 'Armen40535245', 'PriyoSupriatomo', 'NAndrianto21', 'hidayatabd', 'BenyZamrony', 'Wynno15', 'djumratwakatobi', 'hartawan288', 'ferrydevira77', 'AdeZM', 'Aay_Asmarayadi', 'Sulaem7Sulaeman', 'TugasTri', 'Yocke', 'asboedionoid', 'AndiAndikusumo1', 'CMzein', 'DanielWiharta', 'h_nyomba', 'FammosBasic', 'veni', 'ikkymubarok', 'heribengkulu', 'kemendagri', 'AsyiJuna', 'Praseti01999', 'EmElEs12', 'WarungSejarahRI', 'georgepirman', 'Sjaechu', 'MrEqualizer2024', 'Gumarang77', 'dian3545', 'ekojhones77', 'FaizalJamalNA1', 'initialzayn', 'afri_dk', 'PoermansyahM', 'long74new', 'Zidan05371884', 'soonbrid19', 'FbrYayan', 'anakodok2009', 'kalekerabat', 'AnasSitumorang', 'lotimoboy', 'FloosFloos1', 'didinsh_Energy', 'sejahterahman', 'BBravo911', 'EntengSaja', 'Andpas2019', 'Alariefs', 'putrapku88', 'dudut_11837', 'BismaPancasona', 'IrmaWat39633317', 'TheRingOfFire7', 'JujurRindu', 'Juragankolor', 'PeterBa01486003', 'SoerAnt96247351', 'iwanhasibuan05', 'KwokMie', 'F4154L', 'MelleMansur', 'batursarep', 'AnKiiim_', 'AlexNadya_Id', 'erickagunawan1', 'DjafarMuhamad1', 'KakSunarya', 'rozitiku', 'halfmoonnite', 'Nyoss76Nyoss', 'HisyamMochtar', 'HENdman12', 'VanDelean1', 'AgusSusanta13', 'masaffan', 'JandaArya', 'mudjib', 'Patahud31540417', 'adekoswara93', 'purnomo07834451', 'vlonnie_vlonn', 'AlexanderBrampu', 'SabriYa38491393', 'Fajri18411217', 'roland_interior', 'Dianiriani3', 'HidayatulAziz28', 'Romio63144074', 'dvctoz', 'AlghifaryCandra', 'HariSugiono18', 'BuzerMelawan', 'MasboyK', 'JSidoem', 'alfajri05401649', 'PutraJa16580033', 'AlfaFiter', 'septasirait_999', 'ahkeram', 'Anggun37560064', 'khair47363639', 'RazalieRazalie'})\n",
            "frozenset({'UmarHasibuan77', 'MedyChris', 'ByuCyd', 'Whyd801', 'gembong', 'amrubaid', 'sisujang9', 'Anfa', 'TephyCondet1705', 'HKurniawanheru', 'Zie83132906', 'Irawan15758608', 'tumbalt1', 'alibarrand', 'wajahjelata', 'Mastito79248466', 'JAYANKRI45', 'aswinsuharsono', 'iron_steel12', 'Biang05553051', 'Arrahman321123', 'a_djaffar', 'Ede923231701', 'osvia_r', 'Akun', 'susanta829', 'cutty', 'Yoppy02305633', 'Mjohnsamosir', 'StephanusaRobby', 'lukmanihsan', 'Aditz92', 'PutroJoyo18', 'Mar33Cj', 'mar_ulfaaa', 'arifchapter666', 'dulfendra1', 'Soeharsono8', 'sahattuatobing1', 'chrst70', 'MrMBM007', 'tono2wae', 'adendidi58', 'Kemenkumham', 'DuniaMarsya', 'Benibnu2', 'Dunkin92637854', 'garis_luruss', 'bageur75300194', 'AyaniMel', 'Budijon76660606', '26Ipanktea', 'uripsongo9', 'BumiPutra_NKRI', 'TeddGus', 'B4cht1412176', 'baGUSMUHAIMIN24', 'dedika_ern', 'BudiArmanLXX7', 'uniemara', 'Nusantara', 'wisatakhalifa', 'Vasco0507', 'arlenkc', 'tomriders07', 'siregar_najeges', 'suryobee', 'sempakavatar', 'ch', 'Firmansyahlepi', 'RaFatmawati', 'aleaonkai110', 'UpdateAnisa', 'iwandana1', 'romadoni_syarma', 'ahmadilaga', 'mamang_opik', 'selaluujian', 'kentshoes', 'DewirahmiS', 'ary_mimin', 'swibsyd', 'BungDenni', 'BambangDj40', 'LexiBhinbhin', 'anakserapung', 'AndrewKurzt', 'PadmaWijayanto', 'Yedie18', 'herman', 'wiewielucubgt', 'NelsonSiahaan10', 'Heriek', 'Asep71254288', 'syaiful_ghufr0n', 'Rizkibaswedan2', 'Rioperkasa008', 'Cimol', 'dotyeye', 'didi_zohdi', 'katrinrienks', 'OnoChettri', 'Chenk', 'p', 'fachrul', 'Kiyai', 'JulionGriffin', 'renoo64968145', 'tutiktolani', 'ipeng70', 'NataliusPigai2', 'masbams70', 'mulyadi_ipul', 'Purnomo08936457', 'HariyantoStmm', 'GheaJhana', 'ferdy', 'Khoirunnisa378', 'lpppgk', 'QMuksis', 'anthut99', 'qadex70', 'Ershaisfan', 'baikbaik_sajah', 'cahayafikiran', 'mens07505764', 'EclesiaDanisa2', 'RgwRudi', 'ku_dedy', 'abdinst', 'KodokNg11760053', 'rijalsunandr', 'Sukirman', 'DwiYatmo14', 'cakbas30814072', 'Cugak606060', 'BoWozZ', 'hadiwinata1982', 'Heraloebss', 'RAP1612RAP', 'DjokoSa08343211', 'melesaatjauh', 'ronin4711', 'Fikri8Khaerul', 'bhajingseng', 'nickzhou11', 'Nagashima007', 'MohammadHamdi12', 'SamuelParhan', 'Sambolon7', 'budhartono', 'yusuf', 'SaifulR80289076', 'rbkunwas', 'BapakSayit', 'LauraDew2111', 'KuroNekoBanser', 'Buyung_Isjoyo', 'api07211456', 'mnasution11', 'Ismoyo69', 'ElangLuck', 'rofiqnur', 'mahdiequintana', 'Dw99935050Dwi', 'suryadi54274008', 'didiek', 'pengarang', 'henasean', 'bukan', 'Shomad13649349', 'pamuji_n', 'JN', 'PembunuhSepi', 'Sitifatimahmal2', 'bidik32', 'kurawa', 'patrickharimo', 'Ahmad14Tamrin', 'a_apw', 'MansyUli', 'temponewsroom', 'hilmanazmi', 'Jokoelie', 'INDONESIAPERKS4', 'ChrisAb85103884', 'bayu_romawan', 'lahadinrajab', 'WidiantoroDeni', 'Ifhenk5Senyap', 'aku_indonesia_1', 'ahsanalfatih01', 'Concrete_buster', 'FirdausyMuh', 'Murtadin231', 'NangaYust', 'kpk', 'Erwind0869', 'JukirNasional', 'wonggemblung_', 'must_0ne01', 'pabriex0', 'FirzaHusain', 'DamaskusJamalum', 'AminMinonLahay', 'msobri99', 'fadhlierlanda', 'BOtnawed', 'kumham', 'mamat_oking1', 'sukmajati', 'CandraBeliti', 'r7olles', 'IndoMaju', 'MavinSutardi', 'IwidSoeryo', 'Peter29723363', 'Bank_Joee_', 'SriSuwando', 'Josh_Soros', 'SHPDCMPABABD', 'bhp_semarang', 'seroja_merah', 'Hasan09072', 'trikartikatika1', 'SayangAdeku', 'pandawinata__', 'AvianKharisma', 'PadmavatiPrati1', 'syswoto', 'arbag123', 'bhp', 'mediabersuara', 'carleskiwi', 'AbdulKh29602993', 'laurentiusnugr1', 'AzzaAsdi', 'AgusNug16837581', 'ChebonxInsyaf', 'RuslanGasang', 'kusmaya59835147', 'Astra_Abadi', 'ririn', 'bumnkita', 'MangOjol15', 'irawan', 'Nirmala', 'Kingdarius102', 'OnlyFrens', 'Nasdem', 'Prakarsa99Willy', 'dwi_irawansanto', 'kumham_babel', 'randuasri1704', 'HexaSetya', 'SambasNuryadi', 'regar', 'aji', 'MuhIqbal252', 'bejokdi', 'lufaq', 'Bulskeyy', 'boned_kuswanto', 'jLsV8n1lYpitqhJ', 'kristianlelono', 'khaeruman63', 'M45Broo', 'Karina', 'AbdulRochim_', 'Klabangijo', 'Sizco100', 'Idey69881575', 'Iqbalnyamala', 'madrid_jkt58', 'TalimbungThomas', 'Djoehary17_369', 'NaniMawar5', 'KiswantoDidi', 'Radenrasoasmoro', 'caritaucom', 'Camelaila1', 'mochrizki22', 'YuliantoTopik', 'N4N_0k', 'Awangyeo2', 'CalvinMso', 'RianSap71792878', 'TGandawanX', 'AnandaHalomoan1', 'BandyBudiharto', 'iye_bos', 'muryanto_sugeng', 'mouchethung', 'SimbahPutri1', 'winoto_ali', 'NichoSilalah1', 'anata_kesuma', 'fadlillah_1989', 'RN9613', 'esti', 'Rudiirawadi119', 'HidalgoHarmen', 'Gudang_Konten', 'Kiambang13', 'juju_uda', 'PondaagTemmy', 'AlexThe40661913', 'edsaputra8', 'ranggahermaw', 'DavidGosal4', 'Gina53855494', 'Usup77', 'Al', 'dinagustavsson', 'sumitroahmad', 'ayah', 'brother', 'Sari', 'Kaisar_Dusun', 'lleys28', 'renita_hartini', 'MaliqRidwane', 'Bambangelf', 'hermawatiwati11', 'joe', 'cahgemblung1468', 'SUPRIYO05923411', 'moodyt704', 'imron_dj', 'niorizki', 'RizkiarBaswedan', 'SyaifulSl', 'MusuhMisuh', 'AghielZaydan', 'yoedhaarie', 'rahmani', 'HeykaAmira', 'akunkeenam212', 'urifikuuruf', 'takeawayplease', 'made_in_INA', 'nulyaqin', 'DonkLentera', 'PRAST', 'CerishIva', 'Doroteuskalesi1', 'Saiful38653471'})\n",
            "frozenset({'SERABUTAN163', 'kpumanggarai', 'JDIHKPU_SUMSEL', 'KpuYalimo', 'MMisbakhun', 'TurnBackHoax', 'jdihkpu_boalemo', 'jayapurakotakpu', 'antros21', 'bjorkaxyz', 'panwascawas2022', 'panwaslukombeng', 'KPUBabel', 'kpuprovinsipapu', 'kpukabtasik', 'KPUPangandaran', 'JDIHKPU_Manado', 'Matinokhoirudi2', 'panwaslu_sby', 'KPU_Kab_Blora', 'siadaricharly', 'gunawancrypto', 'JDIHKPU_MGL', 'jembrana', 'TtsKpu', 'BawasluKuningan', 'kpulannyjaya', 'bawaslukab_bjn', 'kpu_manokwari', 'semak', 'kpusarolangun', 'panwasluwedari', 'golkarsumut', 'kpukepyapen', 'kpu_sumbatimur', 'kpuwajokab', 'bawaslubna', 'kabarafif', 'TantsAgus', 'JdihKpu', 'kpu_sambas', 'pardi94922942', 'PanwasGtw', 'AnwarSudibyo1', 'jdihkpu', 'kpukudus', 'KPUBaritotimur', 'sukri', 'kpuprov', 'KPU_ID', 'Panwascambadung', 'pwckarangrayung', 'djikp', 'jdihkpu_papua', 'kpu_malang', 'jdih', 'kpu_depok', 'jdihnindonesia', 'jdihkpukudus', 'bawaslu', 'BulelengKpu', 'alif_syahbani', 'hsym', 'KompasData', 'JDIHKIPAbdya', 'kpu_matim', 'KpuMesuji', 'puspoll', 'kpu4lawang', 'SMK', 'lollysaja', 'jdihkpukuningan', 'kpubasel', 'kpubondowoso', 'kpulamsel', 'Panwascam_Jati7', 'JDIHKPU_RI', 'KpuKotabaru', 'KpuSulbar', 'AbuNawa48105494', 'KPUKlungkung', 'KpuBanjarnegara', 'kpu_ponorogo', 'KPU_Wonosobo', 'KPUKUTIM_ID', 'partaigeloraid', 'kpu_subang', 'sorong_kpu', 'kpukotapasuruan', 'kpukotabanjar', 'BawaslukabS', 'kpu_grobogan', 'kpu_majalengka', 'BawasluJepara', 'JDIHKPUSergai', 'bawaslukabklate', 'BawasluJateng', 'kpusorsel', 'KIP_Pijay', 'SolokKpu', 'KPUBerau', 'golkar_id', 'netral', 'KPUKuningan', 'KpuSulteng', 'kip_lsw', 'jdih_kpuluwu', 'kpu_kabkukar', 'humasKPUGowa', 'GarutKpu', 'WPNewsOrg', 'badankesbangpol', 'Bawaslu_Kaltara', 'BatengBawaslu', 'withrepost', 'bawaslujakbar', 'panwascamstrj', 'panwascam_krama', 'KPU_PANGKEP', 'Kemenag', 'pesawaran_kpu', 'HadarNG', 'kpu_cianjur', 'PanwasKrsembung', 'kpukotadenpasar', 'JDIHKPU_JBR', 'Panwascam_poge', 'panwaslusabbang', 'BentengKpu', 'specpol2022', 'KpuMojokertoKab', 'LulukAlmira', 'endunabdulhaq', 'KIP_AcehSingkil', 'amalau74_u', 'kec', 'kpu_timur', 'BawasluSulSel', 'kip', 'mang_sel', 'SamosirKpu', 'arie_sgm', 'Elvian43691981', 'KPU_BONDOWOSO', 'temanggunGandem', 'officialunsika', 'panwascambout', 'bwslu_bkl_utara', 'kpulamteng', 'jdihkpudiy', 'polsekmuarawis', 'Citra_Wind', 'Panwaslu_Mengwi', 'kpukaboki', 'RifqiAlimubarok', 'KpuBatubara', 'SukoharJOS', 'kpuprovsumsel', 'Bawaslu', 'JDIHKPU_PADANG', 'KIPPidie', 'ppksalawu2020', 'melodramaperte', 'f_rock97', 'dayak_projects', 'KPUDGianyar', 'kpu', 'Ekawima', 'bernad', 'SalatigaBawaslu', 'KPU_Surabaya', 'BuolKpu', 'kpukayongutara', 'bawaslubjrkota', 'KPUpklpinang', 'JDIHKPU_GUMAS', 'PanwascamKelara', 'KpuJepara', 'JDIHKPULEBONG', 'pusatparlemen', 'APanwaslu', 'PanwaslucamW', 'Kip_Benermeriah', 'jdihkpubogorkot', 'DKPP', 'kpukab_bekasi', 'kpuprovinsibant', 'JTK_15', 'bawasluri', 'KpuSanggau', 'oktavianusgec', 'BrianWaryensi', 'KPUTulangBawang', 'kpu_4lawang', 'wismabahasa', 'zakavikryan', 'as7441771', 'BawasluKotaSMI', 'PanwasluLLS', 'KpuTolitoli', 'bawaslu_imy', 'info_takokak', 'kpukuansingkab', 'ipbofficial', 'jdihbawaslusult', 'bivitrisusanti', 'kputanahlaut_', 'KpuTalaud', 'kpukalbarprov', 'bawaslukopas', 'kesbangpoljtg', 'KPUDBali', 'KpuBengkulu', 'kpu_rokanhilir', 'kpukebumen', 'kpusukoharjo', 'kpu_ciamis', 'asndotid', 'ahmadsuluhrifai', 'iwaniswan', 'KPU_Karangasem', 'kpu_majambi', 'kpuriau', 'kpu_kotacimahi', 'bawasluanambas', 'jdihkpu_mpw', 'bawaslu_pasaman', 'bawaslu_sultra', 'bawaslubulungan', 'BawasluSumedang', 'bawaslutuban', 'KPUkampar', 'KPU_PapuaBarat', 'kpu_pulpis', 'bawaslujateng', 'RachelMarshal12', 'KpuBoyolali', 'tribunnews', 'KPU_PKY', 'KPUKABKARAWANG', 'let', 'Kip_Abdya', 'PKP', 'Panwaslih_LSM', 'martono_terigas', 'KpuKabSiak', 'FKP_Indonesia', 'KPU_Sumenep', 'PadangKpu', 'KPUKotaPalu', 'panwascamcipari', 'JDIHKPU_KEDIRI', 'kpu_bengkayang', 'widya_manggala', 'Panwaslihajay', 'get', 'PerhumasIDN', 'netgrit', 'jdihkpu_sinka', 'kpu_takalar', 'BawasluHss', 'Haerudin', 'kpuprovinsijaba', 'KPUKabpasuruan', 'gbkaction', 'JDIHKPU', 'eskajon', 'B50kota', 'kpu_kabmimika', 'PontianakTimes', 'Jdih', 'PANWASLU_SKL', 'KPU_Ketapang', 'kpu_jabarprov', 'perludem', 'panwascam_rncbl', 'bawaslukabgrobo', 'punarko', 'bawaslukotacrb', 'jentera', 'prima', 'diskominfo', 'HumasTarTeng', 'panwasploso', 'kipPijay', 'bawaslubali', 'KpuKepahiang', 'KIPPINDONESIA', 'KpuKotamadiun', 'gmail', 'panwasklateng', 'PanwaslucamBE22', 'HarryKuffal', 'ristaslinuha', 'BandungBaratKPU', 'KIP', 'kpuprovinsisums', 'bawaslu_kendal', 'Iprahumas', 'panwaslucammeng', 'BawasluRI', 'kpulombokutara', 'kpudiy', 'panwaslih_aceh', 'WawanSahabat', 'passopati994', 'setdawonosobo', 'kpu_lebong', 'KPUKabBintan', 'kpujateng', 'kpukabsi', 'KPUKotaTegal', 'bawaslukabbdg', 'bawaslupati', 'ppksalawu', 'ahmadrizal2209', 'bawaslusulsel', 'use', 'bawaslukaltara', 'KpuPekalongan', 'dja_ndaf', 'JdihKpu_Selayar', 'JDIHKPU__SULSEL', 'Sunardirendhi', 'KPU', 'peangpalalu', 'bawaslu_kepri', 'kpuri', 'tng_tv', 'PSHKIndonesia', 'KPU_OKU_Selatan', 'kpukabbogor', 'Briawh_bonanza', 'KonaweKpu', 'rumahpemilu', 'kpu_fakfak', 'kpuprov_sumut', 'komisiinformasi', 'ratukincai', 'KpuBovenDiegol', 'jdihkpulamteng', 'panwaslucam2024'})\n",
            "frozenset({'Anang738841035', 'RapatTukang', 'beritaKBR', 'UdhaKayuno', 'halaman', 'MarthaAprilia22', 'theblackmagican', 'sobatanies_dpn', 'supendi1988', 'WiedYuli', 'BOETIX', 'mavin1818', 'sutan2009', '35nunungaza', 'rayhan_yuda_pra', 'satia', 'AwanPutih3333', 'ihexelio', 'bozzvanc1', 'Garuk_s2x', 'AbdullohFarih', 'FreedomlandSatu', 'YaqutYazid', 'iwan', 'manggala2019', 'Susanto11112729', 'Tti', 'DUDEKEREN3', 'yonifree', 'SragenTriyanto', 'AjoSiam', 'YaAnsor', 'HaraNakano', 'f1rmanh', 'JondresyT', 'Elnino23706025', 'PajakAgus', 'houschen', 'FebrianTaofik', 'ZakiBustami', 'Mahmudy42729914', 'RanieRanza', 'babe', 'FSAMBO', 's3creth', 'Abhipraya0502', 'FianOneil', 'Sumanto59653397', 'BfBng', 'ArdjunaWiwaha3l', 'ManiseWidiarti', 'MoenicHara', 'SiJabong', 'Abul07754639', 'BRHGS2', 'ImamBotak8', 'JabarManies', 'AhokJamban2', 'Sap43061333', 'RakyatBersatu55', 'Ainu98281951Nur', '54rwo', 'sofianrohman', 'CintaTanahAir22', 'BromocorahGrCeb', 'PuppyMpop', 'Zie3hartono', 'MENTARlPAGl', 'parlinburman84', 'REZIMPENIPU222', 'MichelAdam5l5', 'cordovareborn', 'AtnoSepta', 'AnitaRosliana22', 'Toni24551456', 'AlvinVi52468704', 'Nurasyor', 'anakbetawipusat', 'DanteSpeak', 'Kasuk12KP', 'rumudi', 'kssagala', 'zulhamkenzo', 'roses_man', 'YakupAns1', 'Lia97547013', 'AdhiZulkarnaen', 'TurisHindriya', 'Fossil2022T', 'kudu_piye_neh', 'suhardi1110', 'YakAns1', 'ikotjo2', 'KiYang333', 'BarBaro5_', 'Ronycawang', 'namatanpaspasi', 'SholihAly', 'nanadehoney', 'NediSetiadi', 's_cintanirmala', 'PdkrBodoh', 'Freedomland414l', 'bongkarbatam', 'ArifulBahri', 'Wongdes28461698', 'riksayuda', 'ArbyZakey3', 'Hmmurahmurahhm2', 'SiTukangUtang', 'Cintada68225244', 'Siswant76021561', 'AjieQomarudin', 'bai', 'Anto1157', 'ManusiaBumi2', 'Zahra42981574', 'allmumtadz', 'dnyn', 'HendryanaLubis', 'Kingkong2_', 'Brotherhood545', 'Igyazd', 'hadad', 'MasdiSuwandi', 'Stevaniehuangg', 'SulaimanJati2', 'Pribumi', 'QuinnaNew2209', 'Zaenal', 'ManusiaBumi2_', '222Robinhood', 'Yak', 'AktaSaihu', 'Jokowi', 'LurahTanpoWargo', 'caklil', 'TSoewardi', 'Tehtarik02M', 'bangSaid', 'arthaN38836243', 'mohfadil', 'JaeKodok', 'JoeGorbacev', 'ILHAM2504', 'Penawar81469159', 'attallahsyah', 'There91194264', 'HidayatNatari', 'banditBirokrat', 'wirosab67555974', 'THE', 'LuthfiRashya', 'Haqipas', 'Denish234', 'Istiqomah_trus', 'penajam394', 'Edy56136984', 'Satya90', 'Ocheaq1', 'TatangArifin20', 'prabutintaemas', 'TiadaYangLain2', 'Ahmadwafqi1', 'ouz_bang', 'AkungAruna', 'FR33D0ML4ND', 'inspirasi', 'ivanazhar1', 'mahkotasakti', 'fandi_ahmad1892', 'UdinSam78807473', 'IbazBopal', 'blank0429', 't0n1h3r5_4nn', 'L4UH4UL4M132435', 'hariyanto', 'ikotjo22', 'Akhsan39162442', 'batu_solar', 'sQvYgLUNf4m1nor', 'kasidi70499161', 'AgusPan49950683', 'SayRi31180709', 'kkvrindhavan', 'sobatanies', 'Opposite', 'PramukhtikoS', 'Macan2k', 'KalaHitam777', 'Wong', 'DChusaeri', 'Kingkong2', 'DekritTolol', 'lLoveAllah3l3', 'adjatsudrajats', 'dw_indonesia', 'SydSalesman', 'negri', 'Apollo3l3l', 'KiLurahIdiot', 'Andre14028820', 'kangaudio', 'AwakBlangDalam', 'Ramadian40', 'mohfadil_GSI45', 'Istiqomah', 'Berliannew', 'Syam42933824', 'itsjuliani_', 'WartegPerjuang1', 'RadjaNgibul2', 'GYatmoko', 'RajaEmasW4bu', 'Leonita_Lestari', 'KedairotiSENJA', 'ridhorahadi', 'RikeSants', 'MicelSatria', 'Jatayu', 'sebutsajani2na2', 'MAreborn444', 'Garancang', 'GejayanCalling', 'Adirja7111', 'IrmansyahAdhy', 'Jangkrikgengg15', 'AryLiverpoolFC', 'SanjayaSandi5', 'dyta0303', 'NegeriJajahan3l', 'AdjieFaisa', 'MafazartAdv', 'AdiHamza5', '00789Mutiara', 'samuelp45471465', 'KingOfWar', 'dolidgresik', 'freestranger24', 'syeifm', 'Zay34562', 'EkoSunarko6', 'BrianJonesNew22', 'purnomowardoyo', 'SMujsin', 'JamanEdan543123', 'OktermanLkmn', 'myputun', 'Matahar1T1mur3l', 'sampalle', 'aka', 'ragilsaputra645', 'Delta', 'RayiAlfian', 'Tepoz_690304', 'januar', 'KangUtang04', 'LampuPatromax', 'Enggang', 'Ghazy', 'lutungs4rung4n', 'JoyoKarmo'})\n",
            "frozenset({'RudiSoekoco', 'Kemdikbud', '4lee80', 'samberjiwo1', '1', 'papae_iceng', 'Jimhowa68127711', 'GimanEvan', 'JobPaul01968176', 'rimah432603231', 'othexbae08', 'Yuliadi54981946', 'Jokotol7', 'Mavrogenik', 'givanet81', 'PUTRAPRIANGAN20', '4aSunlight', 'mutajir_mohamat', 'josh_susanto', 'P121G', 'gottoferrari', 'tri', 'zono_zone', 'ronysihotang1', 'Priyodjatmiko9', 'alsangkily', 'OksmalMike', 'peniti_meniti', 'JustbiyuAjah', 'MuhAinurridha', 'rizalyose1980', 'CuanMulana', 'kemalpalevi', 'AsliArmed', 'AchmadZani7', '_G4y4tr1_', 'itsurboihyl', 'Singgih', 'Trending_Issue', 'Muhammad11Y', 'biotin3peptide', 'alfkey', 'meitag1', 'Godamulia', 'ciantra_chintra', 'RantyCapung', 'Raka', 'gegex', 'AdiSulung3', 'SaefurR68413736', 'Arif__Gafur', 'AQezir', 'EkaPurwani8', 'andisug28722879', 'Gusyadi16', 'bryan_chung09', 'ThE', 'mmunari77', 'u54m41', '99Masrofah', 'h_jcoffee', 'sukiono', 'MR__Ariansyah', 'akumasdan', 'RAFIDA750', 'AlifIqra1', 'ummuahmadwaibra', 'HendarwatiH', 'pemburukuman', 'RudiHar48006988', 'pembela', 'Agus', 'eliasoctavianus', 'archabandung', 'CintaNKRIJaya', 'Adribarza2', 'ASY650107', 'Usliharlin', 'YurnalH', 'ocongBoyy2', 'bondanwicaksono', 'cintaindoku', 'puspita3', 'yan_mujiyanto', 'ErwinFb21', 'Achmadzik', 'imanlagi', 'zzz_bed', '3Kowel', 'martha04989474', 'Kentir_suloyo', 'chlickz001', 'ellen_radi', 'OrangAs42338663', 'dinde_bdl', 'SuatnoW', 'gita01021967', 'feidy_rm', 'SunnahRasulLove', 'BlessingLedy', 'AliSaid15967518', 'nyuLiadie', 'an', 'nadal83', 'ASugiantokizzer', 'coachaddie', 'Paundra79', 'AlexS7710', 'akubukanako', 'ChristiGenSup', 'AdhiAdh89724661', 'Meitsme36423282', 'blontangmania', 'Hantoro72448970', 'Amotsky', 'AlwisDe5', 'elu_helena', 'HeryIdris5', 'TOSHOP_KU', 'Ghurem2', 'dorseysilalahi', 'pangarekaptogel', 'PlastikInsan', 'RobHut8', 'Anaksemut4', 'ninajeni2', 'RM14duadua', 'endelz5', 'DamonSinar', 'vinaaajo20', 'adisatya', 'hamdan_rizqi', 'AntonStefanus', 'boleh', 'woqie2', 'CjChanelindo', 'Vr1', 'sabarzobari', 'okakaereza', 'Andyarya20', 'tifsembiring', 'MyRun58104723', 'farruuda2', 'bedhoelsz', 'antonsojarno', 'AntiRibaPropert', 'SulianaPohan', 'syaifulssh', 'Ahmadfuadie2', 'to', 'candrawatiX', 'abdrohi93277722', 'JR_Invinity88', 'kangcingcau', 'PG', 'ACEPSUNARYA', 'Si_Judin', 'AlexMantap9', 'alfarouq7676', 'simbahbot', 'saragi_s23', 'BagasWib79', 'TeguhDikti', 'GhostOneSeven', 'eros', 'dean', 'Zurrrraaaa', 'okezonenews', 'nyonkwongbumen', 'TaswadD', 'tnw', 'Said56714409', 'ManogiSimarmata', 'Aan28691758', 'akmalbariq', 'GunRomli', 'HerUsing', 'HariNgibul', 'DonnyJordan1', 'AlianisBgd', 'AbahAdzum', 'muqoddam', 'wulandari_erian', 'cahusen1', 'rassyidhin', 'MSugiharto10', 'teguhs1', 'MaulanaNur', 'Priymail', 'HAdam66168217'})\n",
            "frozenset({'di4ntara', 'CanaKayan', 'samsudin1067', 'DzakwanFirst', 'Kembara082022', 'harissuhantra1', 'catt4leya', 'buzerbosabasi77', 'NasseryNaz', 'Suprapt20545142', 'agungriadi123', 'kuranji_tiger', 'IrulGonjor01', 'ferdinand180878', 'bennyrhamdani', 'big_father700', 'Wiw4h4', 'AlfianNoro', 'ethnosophy', 'Abhabill9', 'DarmawangsaDar2', 'Gegbali_Anies2', 'Brunowicaksono', 'SURYAPS20', 'Daliem8', 'BG_1_RAL', 'hamidah', 'godham5', 'RobbyHaneur', 'siswantos208', 'duwiesiswoyo', 'rubino_lugo', 'rizalramli', 'Bayu666777', 'Hybridcars9', 'DodyKilapong1', 'DoeloeDen', 'chochuwong', 'umarhasibuan751', 'KhoifinMuhamad', 'nazaqistsha', 'DjAria9', 'Darmawan', 'Jkw', 'araeyalshad', 'KanjengRaden', 'Sarahphd', 'Lexi94653899', 'Naomi1974', 'GundalaOfTruth', 'EraDigitalBiz', 'BilanganGanjil', 'azkaald88811919', 'Legit', 'MansurZuhri', 'Yoesoef', 'idrislaw', 'dabloardi', 'ihsansyah75', 'Jamet1410', 'ARIFBIMANTB1', 'juju', 'TChelsky99', 'Tokopedei__', 'heristo8', 'SukadamK', 'BiLLRaY2019', 'Rocky45724744', '73', 'Muhamma83881739', 'is', 'Mr', '4Y4NKZ', 'RiriYanto10', 'Minang', 'AidulFa', 'Wawanek1', 'yantospt', 'mahardi88086619', 'Tuntastuntas1', 'herry', 'Jkt', 'Sumardi56175813', 'koecing', 'Alexander801214', 'SumartiMarti11', 'Yasir02674979', 'YuliSugiyanto06', 'konakholle', 'yuliuswiwin1', 'Aguscah88555821', 'CakGombes75', 'suputran21', 'InfokomJakmania', 'jastar36991118', 'koffie', 'rudiatsyah', 'prisdiminggo', 'hati_sanubari', 'RinjaniJB', 'rifin', 'MARQUEZ', 'NurillC', 'usman_alfath', 'HanastiNasution', 'shiayey', 'thereans', 'kk_eef', 'BangNalar', 'rds_galery', 'SajenKopiIreng', 'SokaJati', 'BarisanOpOsisi', 'Nasi74273597', 'Zainhabsyi1', 'jumarimanik63', 'farimanwhk', 'Okky74376638', 'AntoniusCDN', 'carolina_watun', 'khairulanwar11', 'jkw', 'Venom1982', 'MokoPdhe', 'BondanBonzo', 'superdudeboss', 'Haddie', 'MazdjoPray', 'mankjj2', 'Klonthong_Sapi', 'Penyuka', 'qiekio', 'edwin71228105', 'AyuriAndin', 'Dilan_Radith', 'sakkusaitna', 'EdigemborGe', 'appellooo', 'Djekbocah1987', 'adrianfrdynsh', 'nalusin', 'budiwidagdo2', 'MexMetropolis', 'DavidWijaya82', 'newIding30', 'blegggodesign', 'kakungtino', 'M4TT4', 'AhmadRiezki', 'Ryugie_Nufus_82', 'wulandari', 'MasJulian9', 'Udin_Summa_jr', 'RRRTolu', 'damarlumintang', 'AnimismeL', 'NurHadi251093', 'MCMAGEL', 'Persija', 'yohan_bani', 'LuNaEndelia', 'iankrambil', 'AyamSegar3', 'YakuzaValHen', 'Gaussada_', 'datuknanmudo', 'AndySukmaLubis', 'nainggolan001', 'QianzyZ', 'BosPurwa', 'TiarBorieL23', 'Kalimalang8', 'harisdjauhari', 'DaTomphel', 'mahasiswi98', 'Dara', 'poco', 'perangutan23', 'Ja', 'HS', 'putri', 'NugrohoBoas', 'hidayatj84', 'wongAyoe2021', 'wortelbuncis2', 'Kotjo3', 'GatraWicaksana', 'tkngsiomay'})\n",
            "frozenset({'effendymuchid70', 'ArdySoetjipto', 'Hari31192675', 'Naollivia', 'arikprJFS', 'hen_hendroo', 'AirinDatangLagi', 'caesarvaldes', 'edyardus', 'Lintang91775859', 'baliandra2', '3ld31', '_L03th507_', '2001Tgk', 'HabibKalipaksi', 'HaikhSmartikh', 'Harry48666505', 'carolina', 'MrDharma7', 'metrotvjateng', 'Wes1979', '85Dankers', 'StefanAntonio', 'Hansbengu', 'mouse_stamp', 'akok_soetrisno', 'IsraHel23369672', 'ESupriatna20', 'TJHoois', 'RelawanAnies', 'm_sanusi_red20', 'galayasa', 'RIndonesianies', 'AniesPresiden', 'MochSyafii24', 'jadike', 'EdiGaya', 'siImamR', 'MuktyParahita', 'Tommyleewijaya2', 'saornaing', 'nurmakin', 'AbdulZainal5', 'riawib', 'k_shanum', 'muktial25081477', 'pejuanganis', 'herusur7', 'jepara123456', 'Stephaniflorist', 'Relawananies', 'ziyan211', 'Kenda18494760', '99Dahlan', 'PKS', 'sandiunosatu', 'aewin86', 'warto1', 'Poermansyah_M', 'SA', 'ZeroDemoCRAZY', 'Denmas_trie', 'buday3sas', 'Junjung39514131', 'Y87Mo', 'WarNaAn72', 'muispebrianto', 'robimeistro', 'Master64011220', 'Rolenzo_', 'oomlemu', 'AgusNazmudin717', 'DykenTaranoate', 'nasi_padangenak', 'Ogenio8', 'RusliUncle', 'dafarani', 'DpdLamtim', 'rnsolikhintwg', 'NasDemMedan', 'Saefudi76926229', 'jhabadi', 'Abimany36755871', 'ArwaniAbib', 'Aswinsiregar12', 'mochamm11071966', 'TanpaPresiden', 'heywalikota', 'Umarbiki1', 'sakitotak3', 'zhebuc1', 'QornyReva', 'AbdulRa69482550', 'Muhalim77', 'samsauya', 'frisca_dona', 'sastrasany', 'SipenkAyas', 'renandabachtar', 'gen2two2', 'GerakAnies', 'AniesRelawan1', 'rohman', 'tupailebay', 'wondo_shati', 'IinD4m41', 'ForAnies', 'DppGemuruh', 'Zainudd17382373', 'bmkg', 'KenkenK32356512', 'Jefry66570788', 'mulya3051', 'NelsenKwee', 'yuana_JOEKUR', 'daganoer', 'Khaibadt', 'Cikcikguk', 'saiman_alfarisi', 'BangRus23', 'DrAtangIrawan', 'bebek_NKRI', 'DataZakee', 'PemudaNasDem', 'fibrianti13', 'abon', 'Saharud65305790', 'Chynthia_K', 'EndangNasr', 'sobat', 'pantau_a1', 'Aniesaja13', 'Mmaxmimi', 'BAHU', 'Y6fPGYCxGzaqA5b', 'Prasety72595950', 'IndraMuslimin1', 'jatengnasdem', 'hal_teddy', 'sanjanguh', 'tonywidjajaTon1', 'TJAHYADI07', 'HuluPartai', 'kucing46344725', 'AngahBadrun', 'ZahrulRizal5', 'LemGuh', 'rohman_saikhu', 'kebijakananies', 'annisapepita', 'andrehutauruk1', 'Ari9Rooney', '1980Zola', 'AniesPresidenku', 'Sangramadhan', 'WerArYuuuu', 'mr_mayus', '6un94c1nt4', 'AgustinusHerna3', 'april_yudi69', 'Aunty', 'fadillah_acmd', 'KadirNawasir', 'Deni04824932', 'tnozpgc', 'NgilmuKantiLaku', 'Abu_Hafiiz', 'angkerisma', 'jeany_abigail'})\n",
            "frozenset({'Afandi', 'pedskiibax', 'Hilmi28', 'SuryadiGatot', 'Viktorkonyolov', 'yantireinke', 'ajiawenku', 'widawardhiansya', 'satriolola1', 'HuseinSangadji', 'riswan__bae', 'sapuinjalan', 'Herzaky', 'filosofiksi', 'DiaCintaIbu', 'sirulhaq', 'Oedin_Arif009', 'Beddor2', 'MasBro68204708o', 'AnthonKumolont1', 'NalyaMyshaa', '02Trus', 'Sna_indi', 'agis', 'malakmalakmal', 'MohamedBinZayed', 'MASBUDHISOLO', 'jadid_amar', 'Kakak211', 'HasanudinFarid', 'kotakbinajaib', 'parno', 'QueenRetno2', 'yudha4efah', 'YunusPatalani', 'pither_official', 'latarterkemban4', 'taofan', 'kuppi_peet', 'AyahFerGie', 'Jennifer', 'Mencaricinta99', 'driveronline_17', 'airul2009', 'DamaiHariLubis', 'Jayandaru2020', 'heru_mie', 'Marshme84489591', 'liputan6dotcom', 'wardany_13', 'JSAnurogo', 'JuariahMelanee', 'rihasi', 'zulfiarrahman', 'biManusia', 'webe_wj', 'IrSuwaji3', 'AnthonyBudiawan', 'Etex_Bonxsay', 'sheila_P2501198', 'Andi_Rubby', 'AsepSup41989327', 'iamJackthe', 'berenluthien10', 'Back_cool_Tempe', 'Jacksun18285378', 'wahaidiriku', 'radie_e', 'BitterBallance', 'Diks_btn', 'JenderalTaik', 'galuh', 'Roastery_expert', 'zulfirebbel', 'firman', 'Ruth', 'ajafahmi1', 'AkuAtikaFaya', 'Sandabilik', 'GeeneHary', 'NanoNan05594640', 'rieke', 'Jackoy15', 'jokowitwit', 'SarwediEdi6', 'bintimartausan', 'YNWA_IDN', 'Mwahyuhindarto', 'husseinfadhil77', 'yenaphoenix', 'Andi_Manik', 'ZonaMerah69', 'joko_maryadi', 'AlzamAnanda', 'muhsaiddidu', 'Yuliadisam', 'Anggi_ohara', 'Puang_SutanKayo', 'Muhammadiril', '1962_sah', 'meow', 'DorinaKlara', 'notodirdjo', 'tentang_logika2', 'katzedikke', 'pither', 'komangkagawa', 'harusnyaini', 'Gus', 'bnsphrx', 'AgusSum03839414', 'Aregasu', 'simagata', 'AdeAhmadSaepul1', 'SekringP', 'reanalalaland', 'littlegarde', 'AlimudinJau', 'Huseinjakfar', 'camat212', 'JinTogel', 'Iriandi19', 'TheUncleDee', 'GlHindu', 'WatchPms', 'isl4micking', 'KangSarjono1', 'TheYufar', 'Juragann', 'andiebs', 'Muhamma02131119', 'YudhiDharmawa14', 'fatimahpejuang', 'DekiFaisaL', 'moeslim', 'to_beinh', 'gultom_yansen', 'AndiRiv46987701', 'giginpraginanto', 'GaduTambang'})\n",
            "frozenset({'akangpendi', 'LSasahi', 'JN_JabalNur', 'AOji58839369', 'sudilarto', 'rytsarkiy', 'Alfamaulana01', 'Dadungkawuk41', 'ImamNugrohoHD', 'RickyNe29155105', 'fy4amb', 'AbahProject09', '72Gar7', 'Rangga81591832', 'Bung1996', 'S4N', '1810Fitri', 'patro', 'putra_jembes', 'Zombie', 'Sirqieee', 'irsyad1909', 'gihon_martin', 'Vermilo1', 'EfriSafitra1', 'UbedilahB', 'penikmatkudapan', 'JustMe', 'me_thefarmer', 'Allunk1801', 'hannyh05', 'lensa020819', 'satriohendri', 'dion_pippo', 'altauf2008', 'mboyaaak', 'Eben_Haizer', 'pikiran', 'Toejoe48827068', 'BudiPra10480171', 'Vanyudha2', 'Masss', 'gabutabiz', 'Davidmaulana68', 'ammarhafshoh', 'indrasemanggi', 'angedespoir5', 'BosTemlen', 'Phonodude', 'UstadTOT', 'Gunto_Jaya9', 'RatnasiregarS', 'bol4pingpong', 'IwanSan36083563', 'jf', 'Wild011075', 'Fikri', 'zhiem89', 'yoyoktea9988', 'miftahspara', 'samurai', 'marsuci10', 'f_h3rl', 'Taurus', 'beavis_30', 'herrikusnadi', 'xynkkpy', 'loekito', 'RiyadiAhmad', 'sengkumang83', 'CherylAgung', 'kinniku_man', '2019', 'jozzgandoz3', 'vdandre3', 'delArdian_', 'AdiMuammar', 'm', 'Dydydi', 'Mteuku19Teuku', 'piratesdoing', 'UM', 'kupu22b1roe', 'mencobalurus18', 'Ronnieojol', 'inandseta', 'Kang_Anuw', 'HaprayS', 'MYatiman35', 'Nur06168340', 'imandemong', 'hendroisworo2', 'resonansi18', 'dedifir30803641', 'tryul842', 'BentenkNKRI', 'mr_arifana', 'abdoefa', 'Ade98757653', 'RossiMarques99', 'Antonius061', 'ntasanusa', 'BuzzerrpM', 'MasifMedia', 'JohnpiterT', 'wiena', 'STUDSGUY', 'StanleyAWar', 'masrubahramoke', 'GadafiZainuddin', 'muf76w', 'YasonnaB', 'haesshmh', 'taufikchun', 'wangsanusa', 'iif888', 'ArbagIcok', 'ismailhasan13', 'Rozijambak', 'RizkyHabibie13', 'damoconsulting', 'AT', 'najmul', 'YanHarahap', 'DadangAbdulla13', 'Tamps_J', 'mx00711', 'SajahMarisa', 'AmirDemokrat', 'kelud', 'MangKonod', 'CaesarDcandra', 'sgits1', 'yt', 'juan666_don'})\n",
            "frozenset({'Alberteinstee', 'chaidar', 'hempry', 'massennnn', 'PancakeRebus', 'idextratime', 'Foxadit', 'NanikNaomi', 'penyukacilor', 'NanaSutisCiamis', 'luthfimzhr', 'AirinAirin', 'kurniawan_wely', 'RendyAziss_', 'nite_owl123', '5454_JI', 'kuchapippepe', 'RibakSude88', 'm0ntesquee', 'PuspenCebong', 'Hadiwidjaja10', 'ESPNDeportes', 'kebunmen', 'BlackCynosure', 'amandadwitia', 'radiefrmadna', 'soma', 'ArdiKuncoro_', 'Gank', 'husodo165', 'TxtdariHI', 'hasapah', 'bonbon75', 'sayid', 'AmuriraKun', 'EsiJuntak', 'KotoDefrianto', 'tartakdir', 'husein', 'despiertamialma', 'idiotnesian', 'Mariana', 'akunJeriJK', 'togarosilangit', 'udahhlewat', 'DEdward', 'rizal_akbar0910', 'depriyans1', 'ibonk201', 'YustiawanIhsan2', 'firmanstosa', 'samskoy', 'ainunrozi', 'NyaiiBubu', 'JukiHoki', 'tanyakanrl', 'jerimias5', 'godfathereuy', 'rezawambex', 'anonympeopleee', 'fajarnugros', 'Zulidddd', 'zakyarin97', 'DhaniWell', 'barnadi', 'astrienova', 'chacha471837055', 'Bratva97162884', 'JoyoWi4', 'jalanlobang', 'gvngrnd', 'yulhar13959', 'bengbengmaks', 'GunaOne04686622', 'fuazzano__', 'JajaTaupik', 'Mataseribu', 'sadamgavin', 'Buahmanggis2', 'MelanofitaS', 'ganjarmania_', 'shafigh', 'PerkasaHabsyah', 'theopieter', 'Alie', 'abdulHalim81', 'orrshktse', 'BVBBuzz', 'Cadiz', 'chaidar_2000', 'Kimi58486332', 'radasarap9', 'Ary12_10', 'PikirSuharno', 'AbiIbrahim16', 'FaizzColdplay', 'Antinow4', 'Football5star', 'gusmusgusmu', 'rodrigosantono', 'pay_nusantara', 'skywalk01597190', 'BadmanHeros', 'AdhiTriePutra', 'mujairlele', 'realAmienRais', 'gg', 'RatulangiSamy', 'herypur52666083', 'hscloindo', '66_dee_S', 'Trending', 'rizkres', 'watchmesink', 'britsjak', 'haluluya', 'agussusilo7562', 'ichsanovsky', 'BaasithIbnu', 'Fahr_Razi', 'GarengHallu', 'itjhan_alex', 'coklatalmond', 'SipriJogo', 'RikardusPande', 'ahcengreumlee', 'xvenantx', 'mazzini', 'RusliPrasetyo', 'erikaulia86', 'iDnAlHiLaLi', 'Netizensh11', 'vaLentfun', 'vilzkriegh', 'GuloYasad'})\n",
            "frozenset({'Rudy47013057', 'DwiPujangga6', 'UDIN54597948', 'iknnewsantara', 'GiggSy_AML81234', 'RestuBu91084539', 'susno2g', 'DokterTifa', 'Matahari_1912', 'Waapp16', 'Amien', 'richhearth', 'devilauw80', 'tude', 'tr1ey', 'ronny9645', 'liem', 'EddyMul27', 'Putra80964960', 'BasMardiana', 'RidhoRahmadi85', 'ichwanpriadri', 'Dikdaya3', 'mbahdul65', 'ACovasz', 'effzar', 'UgeugL', 'budiealtis', 'rosi', 'HerrySuryya', 'MIrvanDarwin1', 'FPD', 'hincapandjaitan', 'pujisopy', 'RevanaRena', 'hanifah', 'AlmaricJ', 'IiiZahrah', 'anungd', 'wiajeng72', 'fahrayga', 'sanatha', 'Jali86476093', 'hasto66', 'MuhammadJafarK4', 'k4yyona', 'HamdanSulfa', 'agungmozin', 'AtomicData1', 'Ejetoyraho', 'darkshine', 'andrijuve2', 'adijaya2000', 'JackPakuan', 'HikariFayza', 'CindyBexter', 'EdifahrizalZ', 'berkahsegalanya', 'DrTaufan1', 'hipohan', 'HRF', 'Jun', 'LAZARUSCHAKWERA', 'nugrohost7', 'Krist888', 'seemparck', 'WLYfernandoLiu', 'SyahKazi', 'yaminhariyanto', 'darkshine_1890', 'thegreat', 'mueeza02', 'T14N87', 'HendyPriyanto08', 'RheaZhary', 'NirNirwan', 'pujangg36969369', 'noriba01', 'UGantiang', 'mimina49747497', 'Ameeranti', 'BanggaKadrun', 'paidjo2018', 'teko_suparto', 'dewisuispuspa', 'syambayu', 'rafajar8', 'masdwika', 'wong_batumalang', 'PingenBacaAja', 'tude_btrt', 'Suhendr23509728', 'Patiunus14', 'sanatha_utama', 'basela71008', 'MilnaNona', 'DonyP230678', 'manatar38', 'riekediahp', 'indwijaya1', 'uusbustami', 'Smartfriend18', 'kayana', 'resep', 'zhugeliang2024', 'SahabatAB', 'AndiWati11', 'DjudjuP', 'dr', 'AkbarPurnomo2', 'satudarahaldo', 'zarazettirazr', 'say', 'iconk', 'imanov2673', 'brahm4nt10', 'Sevelavamevet1', 'hyazha', 'Obrolan', 'RiswanHaris212', 'Fatah', 'suryapaloh18', 'IJM', 'MARCIAA2002', 'LbsSallim', 'tod0000000', 'yantoarjuna19', 'ESajika', 'nomerorae', 'HeriMaryadi15'})\n",
            "frozenset({'KeikaSisi', 'Usuludin321', 'kiputmoza', 'Wawan', 'mahasiswigenz', 'konoha', 'BakulKopiPahit7', 'KritikusR', 'suprayoga123', 'igiT', '12uwongdeso', 'supraward', 'Juniwun', 'nusantara_one', 'suhendra_toto', 'Fachrul02487079', 'NKRIHAR82459132', 'harvendhe2', 'yudhaputrarasy1', 'Bonaleles', 'winoto', 'Giofarubi1', 'Darmalik3', 'pemulungmimpi', 'KemurahanTuhan', 'Meey1235', 'wbintoro101209', 'Diek', 'mamat', 'AestheticKan', 'DayMil18', 'panjianom102', 'purwantoraharjo', 'mr_eKID', 'Denok71318134', 'dwynur666', 'AndreClp', 'Haji_Jupri', 'AloysiusCandra', 'PedesCilor', 'lxchen131', 'arifudinslr', 'RendiRe04490277', 'DIVA', 'nauralathi', 'Koharrasmadi1', 'UHumaimah', 'AntonKu62463911', 'NembeNetes', 'Lohan2525', 'NadyaAmanda33', 'bpsdkijakarta', 'Pardo', 'maryanti', 'Jayanegara', 'andhikakaras', 'AndriHarsa', 'K7', 'Gunawan75_', 'Anak', 'BatuPenikmat', 'alan09892662', 'RamboKuntet', 'Mantova42167289', 'Zack72864898', 'UllBima86', 'telaga', 'Nisateusbatlesi', 'DolangMas', 'One52681908', 'Onl1Jb', 'ms_budiman', 'Johan46650559', 'Andini988', 'archiy8', 'IdNewnormal', 'BapakePaki', 'Wandystjk', 'topan268', 'TukiyemTukiyem8', 'shield17845', 'purw73', 'anggiawanmur', 'veelgeno', 'topuh_max', 'd4ngdj4t', 'AKamas0911', 'Heru_snd7', 'B3doel', 'syahriyalkamil', 'Bentir16', 'Afridu6', 'JustAFreeStyle', 'rsybawana', 'lim_adriani', 'Arie', 'alekda', 'wahyu_djanti88', 'Mansurmhd7', 'igiT_0403', 'asasfuro', 'ntar', 'Uplu7', 'loveTOBA', '4zuurr444', 'ImamMursyalin', 'masbobby69', 'sugi200777', 'salimbonim', 'Karsono12732862', 'rondamedsos', 'FourryM', 'Sujono44271368', 'Pakde', 'AliAkba49445120', 'kemuning200', 'BKelana86', 'uhei_rush', 'Sigromilir01', 'A123456789ZQ', 'rockygerung', 'MSobri280820', 'RomeoDarkKnight'})\n",
            "frozenset({'b2703bf3d292492', 'kartakusumah1', 'SevenMeha', 'Shmursalim', 'EagleReaper01', 'ZoelFawzie', 'maspiyu', 'olarizal', 'korantempo', 'dafrizio', 'VesalHakim', 'Henzchen83', 'petanijogja1', 'axlent', 'beembooss', 'sepatucoklats', 'HukumDan', 'andiamru_', 'SutanNadenggan', 'Didi42117116', 'Joker_Dodol', 'Uni', 'TrieCheppy', 'Siorange3', 'ableh133', 'bejat90', 'kamusiapa_88', 'algaruti80', 'Indra_EMC', 'isfarichi', 'kurngtidur', 'Santanha_88', 'imamsnd', 'ImminentDangers', 'Ardi39514267', 'blekatze', 'Rizal', 'UtuhCrypto', 'bogaraga_NKRI', 'FaizinYasin', 'AgustinusAng', 'saya', 'aLy', 'SilalahiJanna', 'saru', 'dadubias', 'Repiandi79', 'fauzi', 'MarabiAl', 'erwin_moiko', 'B4msaja', 'UnitedI32319031', 'CebongQarduz', 'ArisPur23154621', 'Charmant29', 'SajaToling', 'RSempara', 'poco_satria', 'budhihandoyo34', 'Wilson_P535', 'fine_a_lover', 'NeoTarjo', 'Munaim27476257', 'addiems', 'sundanese_100', 'Mochfahrurozi6', 'SBSembiring', 'TomAndHeri'})\n",
            "frozenset({'21Harpa', 'ramadhia5', 'srihadi12970', 'heelme', 'DinasSDAJakarta', 'YudhistiraAmar2', 'thinigy', 'ruddyan2', 'DivaErenst', 'HrrsAbdillah', 'MasCrot13', 'AswinbaharD', 'haki', 'Jurigngariwig', 'Afwan', 'Toni7216', 'ThaliaIndah4', 'yohan18921611', 'arielsyahril', 'Handoko75161314', 'handri', 'Marsuni', 'Afwan_HR', 'Yani03495310', 'nymsuginata', 'Muhamad72375712', 'YusraMahendra09', 'Punc4k_M4h4m3ru', 'Urrangawak', 'ones_tan', 'Sukardi2017', 'bujangkinangan', 'wajahsolehah', 'iwanbomen', 'SPrabawanta', 'fadlyhendra11', 'Nauractq', 'BudiWaludin', 'Punc4k', 'carteker1', 'BocahUdik4', '_imamprasetyo', 'marbun', 'urip_harjito', 'Michtan8888', 'black13side', 'GheaKulisolaya'})\n",
            "frozenset({'KeybordRusak', 'mkusumawijaya', 'LagiBeTeAjj', 'ResNgawi', 'OhMyGr11zz', 'angkvgadang', 'BobyGosal', 'arifabduh', 'iwanpiliang7', 'elsi09951761', '_Banyoe', 'dukun_palsu', 'damnoise', 'aldjono', 'HerawanBoma', 'cak', 'Gunto', 'Falslalok', 'sayuti_djoko', 'tititputus', 'idulkn', 'AkuTerpesona8', 'tisnawahyudi', 'kaesangp', 'AelaniAmran', 'faris', 'clairowifey', 'PelatihBart', 'KaryadiSutrisno', 'gwehjjbanh', 'isnuTardjono', 'azkayumna1217', 'langenrakyat', 'dokyong', 'IchaVarma', 'Official', 'LambeResing', 'madHink', 'sindencosta', 'dokyong_', 'shachan9370', 'mojokdotco', 'Partono', 'GantengJonru'})\n",
            "frozenset({'mulukabdulkuku', 'toServetoGive', 'bang_rambo001', 'mibnusafari', 'Nugiefuck', 'WSicci', 'Marsudi76712159', 'rahmaaulia45', 'Armindozega', 'EdiIraw337', 'MargonoWijoyo', 'prematur1um', 'Tita83079013', 'MariaCuy02', 'bangZhack86', 'DetaLewar', 'SutanSati5', 'UnyilKucing25', 'Achmad_djailany', '72Rahmola', 'Narayana909', 'PutriAu72277462', 'kiwawan', 'ArinoutSIDer', 'EwoRahmadi', 'IdnuFawas', 'bayusminded', 'KamilaTravel', 'AdiysSeven', 'KsRonie', 'PututSambodo2', 'HendriK03051964', 'sapujagad', 'desmanz1', 'ArizalHamdani2', '71_rachman', 'datuakrajoangek', 'EKY_2123', 'GusLaris'})\n",
            "frozenset({'adjisdoaibu', 'bonitanitamauls', 'diamosart', 'gotdaamn', 'vic_nugraha', 'AmSyai', 'mario', 'Pusat', 'TumbalProyekk', 'ThalibIzzie', 'Ir', 'Ard4nnA', 'budakcingur', 'keluhantatas', 'anandra', 'SJWFeminis', 'metroiman', 'pandji', 'icik___', 'Box2BoxBola', 'riduch', 'doktaviantoo', 'fajrbacht', 'alvitto99', 'jumjumarika', 'fakhrul_23', 'nyangmongg', 'rahmat217000', 'asumsico', 'faiz', 'ekhaveda', 'InfosuporterID'})\n",
            "frozenset({'Indahliliaz', 'Bagas036403242', 'SerlindaNadia', 'wulannd940', 'leeandre147', '3lzh4s', 'danieL65716940', 'irishantika', 'Dhia15198619', 'san', 'Semangatea22', 'romandikelzam', 'tatia_angelina', 'Cynthia90792266', 'rendy', 'pasya7736', 'HusnaNur01', 'ErickLarson_mp', 'tatia', 'RomadonaHadi', 'Azura13308757', 'dimashartanto90', 'Diandra34874977', 'beranibenarr', 'KongArie', 'SulisTyyaa', 'InoLasarus', 'FelisaThunder'})\n",
            "frozenset({'Daniella1__', 'dinda24946', 'GanjaranApp', 'UjangLanang8', 'linaa_aput', 'thisisara23', 'raynkevinaja', 'sopian4721', 'whoiszeno', 'gilbertttxx', 'BangunIni', 'StylesBayu', 'indr11_', 'Roberto_F9', 'dimashord', 'rentultull', 'Nadnidnud13', 'cecep8217', 'Ridhodeput', 'telorrpuyuhh', 'karmuji_ndes', 'anggitasari2022'})\n",
            "frozenset({'mbikduwa', 'froggy9071', 'Zoe_210499', 'rgnzztsya', 'evergreennite', 'bimantaps', 'memefess', 'ARSIPAJA', 'adeksahril', 'Zkurniawan', 'zidanpragata', 'peyekacang_', 'mhdaliffffff', 'sunfIovver', 'ikibram', 'Rivaldy18495', 'DafaElvianta', 'wannabe', 'irpaldoo', 'vinc_dev5', 'NorahXIV'})\n",
            "frozenset({'aaabbbbb', 'monyetpensiun', 'tawananperang', 'kwkwkusuma', 'neddisme', 'itsaleey', 'inpainnnnnnnn', 'koganenohikari', 'sufferasep', 'lovellypoisson', 'sukunachan', 'kannakamuyy', 'kejakbaran', 'babyavocad0o0', 'anonphobicc', 'Neraca', 'loafhoyeon', 'penggemaryuji', 'alpokatmentega', 'tavianchiesa', 'pngajian'})\n",
            "frozenset({'SupraX125_', 'sociotalker', 'semauguela', 'Moshewd1', 'Fattah', 'EdyKiantolol', 'hendry_martien', 'oscarXoscar', 'RezaKhatami18', 'Frmnsyh_10', 'willsennnnn', 'Bimanugerah', 'madrid', 'khalik', 'PolJokesID', 'RAPutri27', 'GlentLim', 'Pascaa66', 'bananakick69', 'tommysaputraS', 'Redgerbil5'})\n",
            "frozenset({'Joker', 'GME', 'OrisaOrisi', 'damput76', 'Mp0k', 'R0ynoel', 'PUTRY_NUSANTARA', 'lettachantik', 'ajies4ra', 'Maranatha16', 'Jagal', 'Ridhima', 'sabya1141', 'Jkt_Networks', 'utomo', 'j0kersantuy', 'laki2enjoy', 'Thalomoan1'})\n",
            "frozenset({'erlanggadeni874', 'infobalamp', 'Mayang', 'Indones23820494', 'Cindy1nb', 'Hannah1nb', 'penjagagaruda', 'BobiSitungkir', 'yuniot', 'caca', 'Mayang_Aceng', 'GANJARMANIA', 'dahliadany1', 'AnakInd0', 'ganjar', 'aleabalqiss', 'lestarikancinta', 'SahabatGPBanten'})\n",
            "frozenset({'okysetiawann', 'unmagnetism', 'hamba_sahaaya', 'neshawee', 'rakadhika', 'ZETHWAROUW', 'lescorts__', 'windtax', 'orang_giilaa', 'minyakaro', 'genjoehart', 'HlGHTHERAPY', 'ClassicalOpera', 'prostitushe', 'mithlukcer03950', 'andyneedajob'})\n",
            "frozenset({'Lilinke26203206', 'Radjarasta2', 'DonKintil', 'Gimichan1721', 'Heizou', 'DennyDSP77', 'dhanie', 'sapaindo', 'albert', 'rindu', 'TalentaAndilau', 'betanic', 'KefasID', 'sami86pilang', 'juragan', 'ISumanata'})\n",
            "frozenset({'BantengGirl', 'pemudamerahh', 'PutriNehe', 'Yunus', 'rauliamawati', 'QueenOfRed2', 'AsgarMerah', 'MillenialMarha1', 'esidamayati', 'SeptianNurfaja8', 'KotasPdi', 'Dafitnr10', 'Ijanjaelani95', 'BantengKuningan', 'jihanseptyani17'})\n",
            "frozenset({'doni', 'doni_ardia', 'Nariza09', 'Nderenny', 'tanpanama', 'GusKevin4', 'sibodoh2021', 'karimnas', 'strike', 'rtwdhyrhrj', 'TaufikDamas', 'Prince', 'OmSENANGni', 'Prince_OQ', 'derangedtankie'})\n",
            "frozenset({'JokoSut22826110', 'ditjenpdp', 'arjuna16sp', 'taufikmadjid71', 'imansyukri', 'Brigade01Arwan1', 'tpp', 'KhumaidiArifin', 'Kemendespdtt', 'malik', 'tppkemendes', 'yusradaridesa', 'halimiskandarnu', 'azzameldzikrie'})\n",
            "frozenset({'JeruknipisK', '26Jujan', 'macanmerahputih', 'ZainalAndy3', 'IwanHar22777738', 'RudiSuhendra8', 'Menkopolhukam', 'UrangMelayu', 'Nicetr1010', 'Pangera80345176', 'FerryNLangelo', 'berita', 'wa'})\n",
            "frozenset({'pinbrosslockey', 'bagspacker93', 'anda_refli', 'herman85ntb', 'MansyurPardan', 'AllahituEsa', 'DitdotTV', 'jonni_lubis', '_kabtv', 'papajahara2', 'FadrizRm', 'YouTube'})\n",
            "frozenset({'dapitdong', 'Ndons', 'Budiset17840106', 'mangkuto78', 'TirtaDaya', 'hsndin', 'aviation603', 'OscarR30075679', 'Kusairi_Amin', 'dgLewa2011', 'DiniHrdianti', 'MesinBebek'})\n",
            "frozenset({'g20org', 'AlanaMakawi', 'HLP', 'kemenhub151', 'imam_rachman_', 'AngkasaPura', 'AirNav', 'BudiKaryaS', 'mawaluddin', 'BWX', 'CGK', 'djpu151'})\n",
            "frozenset({'soleh', 'golkarpemalang1', 'kabargolkarcom', 'hetifah1', 'ferrywcahyono', 'dpdgolkarclp', 'MPO', 'kabargolkarnews', 'golkarpedia', 'Caranggana', 'GolkarSlawi', 'golkarjateng'})\n",
            "frozenset({'Android', 'powerangerpink7', 'Banghad11388047', 'Kenikir27', 'dodi_owi', 'PambudiTri', 'Wied77518018', 'IrwanIs36647816', 'tmo68175863', 'virgandhi', 'kasrulsani9', 'Lingga76'})\n",
            "frozenset({'irfanburningowl', 'xaavieraa', 'jp90s', 'kokbisabaang', 'txtdrpemerintah', 'jacobjoesean', 'luneetnous', 'anugroho0211', 'zrhmshv', 'Adhitcsr', 'skidibab'})\n",
            "frozenset({'cobeh2022', 'BennyValentinus', 'GunawanAryaPutr', 'Neng_Anyar', 'RGoenardy', 'SuwitoRobby', 'WorldBank', 'MijilSunarto', 'satriolola', 'WIBISONOlido6', 'bobby'})\n",
            "frozenset({'GarisGiras', 'sbyfess', 'ayusekaaar', 'Yourlocalsartre', 'ADeee71', 'Puthutea', 'indralfiansyahh', 'blubendt', 'labilgajelas', 'tsumitobachi', 'LagiMurtad'})\n",
            "frozenset({'jinboo', 'Ochyta', 'fluff', 'Ochyta_', 'infiveiwe5', 'sukakamubolwhga', 'Last__Sword', 'worksfess', 'iIhamzada', 'InviLife', 'Pcyforever7'})\n",
            "frozenset({'agusyudhoyono', 'ronny', 'teukuriefky', 'demokratjabar', 'ehermankhaeron', 'handarujati', 'pdemokrat', 'sigit', 'DPCPDKotaBekasi', 'antonsuratto', 'herzakymahendra'})\n",
            "frozenset({'Benzichydi', 'gegeelnino', 'joheunachim_lju', 'bangucuupp', 'perkedeeldeel', 'AlvChrist', 'baangkit', 'Askrlfess', 'grndpldv', 'Naru_Aja'})\n",
            "frozenset({'Lubis_MSyarif', 'noire172', 'ahwi_cingwan', 'eliswija', 'yochie', 'Alpha_Phoenix__', 'otewemakmur', 'abuibrahim_aziz', 'Metro', 'icaldis'})\n",
            "frozenset({'SeptianALFatih1', 'abahzayd', 'lemineralll', 'luhut_banserp', 'aba', 'wolfcuracy', 'Elsyarawi20', 'FaktaSepakbola', 'AnggaAlYusup'})\n"
          ]
        }
      ]
    },
    {
      "cell_type": "code",
      "source": [
        "%%script echo skipping\n",
        "# export untuk Gephi\n",
        "nx.write_gexf(G, \"tweet.gexf\")"
      ],
      "metadata": {
        "id": "QVH5K8VCgIWo"
      },
      "execution_count": null,
      "outputs": []
    },
    {
      "cell_type": "markdown",
      "source": [
        "\n",
        "<center><a href=https://github.com/mdzakyjaya/Final_Project_ADM/blob/main/gambar/ss2.png?raw=true><img src=https://github.com/mdzakyjaya/Final_Project_ADM/blob/main/gambar/ss2.png?raw=true>\n",
        "</img></a></center>\n",
        "\n",
        "<p><font size=4>\n",
        "dari ±14 ribu akun terbentuk ±3 ribu kelompok/komunitas. Pada komunitas terbesar juga terdapat akun dengan degree terbesar artinya komunitas yang besar itu (komunitas biru tua) terdapat akun (jokowi) yang mendapatkan mention terbanyak. Namun uniknya pada komunitas ini hanya akun jokowi saja yang punya pengaruh kuat sisanya tidak (node yg sangat kecil).\n",
        "</font></p>\n",
        "\n",
        "<p><font size=4>\n",
        "Beda halnya dengan komunitas orange dimana komunitas ini tidak hanya memiliki jaringan yang luas, namun juga terdapat beberapa akun berpengaruh yaitu aniesbaswedan, prabowo, ganjarpranowo, YoutubeILC, NasDem dan airlangga.\n",
        "</font></p>\n",
        "\n",
        "<p><font size=4>\n",
        "Sementara itu akun berpengaruh lainnya seperti KPU, Bawaslu, hingga kpu daerah mereka berada dalam satu komunitas hijau tua. Komunitas ini terlihat tidak begitu menonjol.\n",
        "</font></p>\n",
        "\n",
        "<p><font size=4>\n",
        "Komunitas hijau muda banyak diisi oleh berbagai akun media berita seperti detikcom hingga keuangannews.\n",
        "</font></p>\n",
        "\n",
        "<p><font size=4>\n",
        "akun ruhutsitompul tampak menonjol. Walaupun ia berada dalam komunitas abu muda yang tidak begitu luas jaringannya, besarnya ukuran node menandakan bahwa ia menjadi akun yang cukup berpengaruh jika dilihat dari banyaknya mention yang ia terima.\n",
        "</font></p>\n",
        "\n",
        "<p><font size=4>\n",
        "<ul>\n",
        "<li>komunitas biru tua adalah komunitas yang banyak membicarakan hal-hal yang berkaitan dengan Presiden Jokowi</li>\n",
        "<li>komunitas orange banyak diisi oleh tokoh-tokoh berpengaruh yang akan berkontes menjadi capres di pilpres 2024, tweetnya banyak berisi tentang program-program dan kampanye</li>\n",
        "<li>komunitas hijau tua diisi oleh lembaga yang berwenang untuk keberlangsungan proses Pilpres 2024, tweetnya banyak berisi tentang himbauan dan edukasi mengenai pilpres 2024</li>\n",
        "<li>komunitas hijau muda yang diisi oleh media berita, tweetnya berisi tentang info2 dan berita2 tentang pilpres 2024</li>\n",
        "<li>beberapa akun tokoh yang menonjol sepeti msaid, ruhutsitompul, Dennysiregar7, HelmiFelis, RamliRizal, MardaniAliSera, hingga alisyarief berada dalam komunitasnya masing-masing dengan bahasan-bahasan menegnai pilpres 2024 yang berbeda</li>\n",
        "</ul>\n",
        "</font></p>"
      ],
      "metadata": {
        "id": "7rOnHNGKdaZR"
      }
    },
    {
      "cell_type": "markdown",
      "source": [
        "#Penutup\n",
        "\n",
        "<p><font size=4>\n",
        "Berbagai tokoh yang menyatakan diri akan mencalonkan diri sebagai Capres di Pilpres 2024 muncul di berbagai tweet dalam jumlah yang cukup signifikan. Beberapa nama tokoh muncul dengan jumlah banyak pada saat ada berita yang membahas mereka, namun kemudia turun perlahan bersamaan dengan berlalunya berita-berita tersebut. Pemilu 2024 masih lebih dari 1 tahun lagi namun media sosial yang ada membuat kontestasi ini akan semakin ramai jika dilihat dari tweet mengenai topik ini yang terus meningkat dari waktu ke waktu. Berbagai macam subtopik pembicaraan yang ada membentuk berbagai komunitas dengan influencial account masing-masing. Banyak akun-akun yang memiliki pengaruh tinggi dalam menyebarluaskan informasi tentunya perlu menjadi perhatian agar informasi yang disebarkan adalah informasi yang benar dan tidak menimbulkan perselisihan & perpecahan.\n",
        "</font></p>\n",
        "\n",
        "<p><font size=4>\n",
        "Projek ini masih bisa dikembangkan lagi misal:\n",
        "<ul>\n",
        "<li>menambah data dan memastikan keseimbangannya agar lebih akurat\n",
        "<li>menerapkan sentiment analysis per-komunitas yang terbentuk untuk melihat kencederungan topik masin2 komunitas.\n",
        "<li>menggunakan informasi geolokasi setiap akun untuk membuat peta sebaran\n",
        "</ul>\n",
        "</p>\n",
        "\n",
        "\\\n",
        "Terimakasih.\\\n",
        "*Dzaky Jaya,*\\\n",
        "*30 Desember 2022*"
      ],
      "metadata": {
        "id": "Uq2aDzCGElj4"
      }
    }
  ]
}